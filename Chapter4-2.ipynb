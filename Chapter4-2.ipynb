{
 "cells": [
  {
   "cell_type": "markdown",
   "id": "79a834c7-5716-4426-9727-6476e193cc98",
   "metadata": {},
   "source": [
    "# 4.2 다이닝코드 웹페이지 데이터 크롤링"
   ]
  },
  {
   "cell_type": "code",
   "execution_count": 1,
   "id": "e08502f8-4a4c-4b9b-89cf-ffa457cd1305",
   "metadata": {},
   "outputs": [],
   "source": [
    "import pandas as pd\n",
    "import numpy as np\n",
    "import matplotlib.pyplot as plt\n",
    "import seaborn as sns"
   ]
  },
  {
   "cell_type": "markdown",
   "id": "9482e2ad-eb8d-4356-8029-5bcfc7d3f4ad",
   "metadata": {},
   "source": [
    "## Step 1: 크롤링으로 웹 데이터 가져오기"
   ]
  },
  {
   "cell_type": "code",
   "execution_count": 2,
   "id": "c5f0153b-421a-4921-bc00-9b5f989fe5c2",
   "metadata": {},
   "outputs": [
    {
     "name": "stdout",
     "output_type": "stream",
     "text": [
      "/profile.php?rid=YltfTH9OOS0u\n",
      "/profile.php?rid=hVe913EGlSv8\n",
      "/profile.php?rid=QlMrlKl3A6ry\n",
      "/profile.php?rid=c8gUAYLmlXzW\n",
      "/profile.php?rid=Te0e56ZL6lxA\n"
     ]
    }
   ],
   "source": [
    "from selenium import webdriver\n",
    "from selenium.webdriver.chrome.service import Service\n",
    "from selenium.webdriver.common.by import By\n",
    "from selenium.webdriver.common.keys import Keys\n",
    "from webdriver_manager.chrome import ChromeDriverManager\n",
    "from bs4 import BeautifulSoup\n",
    "import re\n",
    "import time\n",
    "\n",
    "# 크롤링할 사이트 주소를 정의\n",
    "source_url = \"https://www.diningcode.com/\"\n",
    "\n",
    "options = webdriver.ChromeOptions() # 크롭 브라우저의 옵션을 설정\n",
    "service = Service(executable_path=ChromeDriverManager().install()) # 운영체제에 맞는 크롭 드라이버를 자동 설치\n",
    "\n",
    "# 사이트의 html 구조에 기반하여 크롤링을 수행\n",
    "driver = webdriver.Chrome(options=options, service=service) # 크롭 웹 드라이브를 초기화 후 옵션 전달하여 브라우저를 엶\n",
    "driver.get(source_url) # 해당 url로 브라우저를 이동\n",
    "\n",
    "# 검색창에 검색어를 입력 후 ENTER 키 누르기\n",
    "search_keyword = \"종로\"\n",
    "searchbox = driver.find_element(By.XPATH, '//*[@id=\"root\"]/header/div/div/div[2]/div/input')\n",
    "searchbox.send_keys(search_keyword)\n",
    "searchbox.send_keys(Keys.RETURN)\n",
    "\n",
    "# 검색 결과를 가져올 시간을 기다림\n",
    "time.sleep(2)\n",
    "\n",
    "# 검색 결과 페이지 소스 가져오기\n",
    "html = driver.page_source\n",
    "\n",
    "# # BeautifulSoup을 이용하여 html 정보를 파싱\n",
    "soup = BeautifulSoup(html, \"html.parser\")\n",
    "restaurants = soup.find_all(name=\"a\", attrs={\"class\":\"sc-hLQRIN uMLYs Poi__Block\"})\n",
    "\n",
    "# # a태그의 href 속성을 리스트로 추출하여, 크롤링 할 페이지 리스트를 생성\n",
    "page_urls = []\n",
    "for restaurant in restaurants:\n",
    "    page_url = restaurant.get(\"href\")\n",
    "    print(page_url)\n",
    "    page_urls.append(page_url)\n",
    "\n",
    "# 크롤링에 사용한 브라우저를 종료\n",
    "driver.close()"
   ]
  },
  {
   "cell_type": "code",
   "execution_count": 3,
   "id": "ef1e2751-10eb-40be-a8d5-e0aae22f1887",
   "metadata": {},
   "outputs": [
    {
     "data": {
      "text/html": [
       "<div>\n",
       "<style scoped>\n",
       "    .dataframe tbody tr th:only-of-type {\n",
       "        vertical-align: middle;\n",
       "    }\n",
       "\n",
       "    .dataframe tbody tr th {\n",
       "        vertical-align: top;\n",
       "    }\n",
       "\n",
       "    .dataframe thead th {\n",
       "        text-align: right;\n",
       "    }\n",
       "</style>\n",
       "<table border=\"1\" class=\"dataframe\">\n",
       "  <thead>\n",
       "    <tr style=\"text-align: right;\">\n",
       "      <th></th>\n",
       "      <th>score</th>\n",
       "      <th>review</th>\n",
       "    </tr>\n",
       "  </thead>\n",
       "  <tbody>\n",
       "    <tr>\n",
       "      <th>0</th>\n",
       "      <td>5</td>\n",
       "      <td>웨이팅하기로 유명한 돈가스집인데, 운이 좋게도 금요일 오후에 10분정도만 기다리고 ...</td>\n",
       "    </tr>\n",
       "    <tr>\n",
       "      <th>1</th>\n",
       "      <td>5</td>\n",
       "      <td>지하1층에 위치해서 조금 찾기 어려울 수도 있지만 지도 보고 가시면 금방 찾을 수 ...</td>\n",
       "    </tr>\n",
       "    <tr>\n",
       "      <th>2</th>\n",
       "      <td>5</td>\n",
       "      <td>돈가스 너무 맛있고 직원분이 친절해서 좋았어요 \\n새우튀김도 간 적당하구  맛있어요</td>\n",
       "    </tr>\n",
       "    <tr>\n",
       "      <th>3</th>\n",
       "      <td>5</td>\n",
       "      <td>오후 5시에 오픈런해서 들어갔어요. 돈까스가 원래 느끼함이 있어서 먹다보면 질리는 ...</td>\n",
       "    </tr>\n",
       "    <tr>\n",
       "      <th>4</th>\n",
       "      <td>5</td>\n",
       "      <td>웨이팅 필수! 나는 도착했을때 기다림 없이 들어 갈 수 있었음 돈까스 맛집</td>\n",
       "    </tr>\n",
       "  </tbody>\n",
       "</table>\n",
       "</div>"
      ],
      "text/plain": [
       "  score                                             review\n",
       "0     5  웨이팅하기로 유명한 돈가스집인데, 운이 좋게도 금요일 오후에 10분정도만 기다리고 ...\n",
       "1     5  지하1층에 위치해서 조금 찾기 어려울 수도 있지만 지도 보고 가시면 금방 찾을 수 ...\n",
       "2     5     돈가스 너무 맛있고 직원분이 친절해서 좋았어요 \\n새우튀김도 간 적당하구  맛있어요\n",
       "3     5  오후 5시에 오픈런해서 들어갔어요. 돈까스가 원래 느끼함이 있어서 먹다보면 질리는 ...\n",
       "4     5          웨이팅 필수! 나는 도착했을때 기다림 없이 들어 갈 수 있었음 돈까스 맛집"
      ]
     },
     "execution_count": 3,
     "metadata": {},
     "output_type": "execute_result"
    }
   ],
   "source": [
    "columns = ['score', 'review']\n",
    "df = pd.DataFrame(columns=columns)\n",
    "\n",
    "driver = webdriver.Chrome(options=options, service=service)\n",
    "\n",
    "url = source_url + page_urls[0]\n",
    "\n",
    "# 페이지에 접속\n",
    "driver.get(url)\n",
    "time.sleep(2)\n",
    "\n",
    "# 더보기 버튼 눌러 모든 리뷰 보이게 하기\n",
    "more_review_button = driver.find_element(By.XPATH, '//*[@id=\"div_more_review\"]/button')\n",
    "while True:\n",
    "    try: \n",
    "        more_review_button.send_keys(Keys.RETURN)\n",
    "        time.sleep(1)\n",
    "    except:\n",
    "        break\n",
    "time.sleep(2)\n",
    "\n",
    "# 페이지 소스 가져오기\n",
    "html = driver.page_source\n",
    "soup = BeautifulSoup(html, \"html.parser\")\n",
    "contents_div = soup.find(name=\"div\", attrs={\"id\":\"div_review\"})\n",
    "\n",
    "# 별점 가져오기\n",
    "rates = contents_div.find_all(name=\"span\", attrs={\"class\":\"total_score\"})\n",
    "\n",
    "# 리뷰 가져오기\n",
    "reviews = contents_div.find_all(name=\"p\", attrs={\"class\":\"review_contents btxt\"})\n",
    "\n",
    "for rate, review in zip(rates, reviews):\n",
    "    new_df = pd.DataFrame({'score':[rate.text[0]], 'review':[review.text]})\n",
    "    df = pd.concat([df, new_df], ignore_index=True)\n",
    "\n",
    "# 크롤링에 사용한 브라우저를 종료\n",
    "driver.close()\n",
    "\n",
    "df.head()"
   ]
  },
  {
   "cell_type": "code",
   "execution_count": 4,
   "id": "6e00efcc-cfd7-42b5-939a-78d248d36880",
   "metadata": {},
   "outputs": [
    {
     "data": {
      "text/plain": [
       "150"
      ]
     },
     "execution_count": 4,
     "metadata": {},
     "output_type": "execute_result"
    }
   ],
   "source": [
    "len(df)"
   ]
  },
  {
   "cell_type": "code",
   "execution_count": 5,
   "id": "809c3fca-0ab2-4cca-bb4a-53c94e01ffc9",
   "metadata": {},
   "outputs": [
    {
     "data": {
      "text/html": [
       "<div>\n",
       "<style scoped>\n",
       "    .dataframe tbody tr th:only-of-type {\n",
       "        vertical-align: middle;\n",
       "    }\n",
       "\n",
       "    .dataframe tbody tr th {\n",
       "        vertical-align: top;\n",
       "    }\n",
       "\n",
       "    .dataframe thead th {\n",
       "        text-align: right;\n",
       "    }\n",
       "</style>\n",
       "<table border=\"1\" class=\"dataframe\">\n",
       "  <thead>\n",
       "    <tr style=\"text-align: right;\">\n",
       "      <th></th>\n",
       "      <th>score</th>\n",
       "      <th>review</th>\n",
       "      <th>y</th>\n",
       "    </tr>\n",
       "  </thead>\n",
       "  <tbody>\n",
       "    <tr>\n",
       "      <th>0</th>\n",
       "      <td>5</td>\n",
       "      <td>웨이팅하기로 유명한 돈가스집인데, 운이 좋게도 금요일 오후에 10분정도만 기다리고 ...</td>\n",
       "      <td>1</td>\n",
       "    </tr>\n",
       "    <tr>\n",
       "      <th>1</th>\n",
       "      <td>5</td>\n",
       "      <td>지하1층에 위치해서 조금 찾기 어려울 수도 있지만 지도 보고 가시면 금방 찾을 수 ...</td>\n",
       "      <td>1</td>\n",
       "    </tr>\n",
       "    <tr>\n",
       "      <th>2</th>\n",
       "      <td>5</td>\n",
       "      <td>돈가스 너무 맛있고 직원분이 친절해서 좋았어요 \\n새우튀김도 간 적당하구  맛있어요</td>\n",
       "      <td>1</td>\n",
       "    </tr>\n",
       "    <tr>\n",
       "      <th>3</th>\n",
       "      <td>5</td>\n",
       "      <td>오후 5시에 오픈런해서 들어갔어요. 돈까스가 원래 느끼함이 있어서 먹다보면 질리는 ...</td>\n",
       "      <td>1</td>\n",
       "    </tr>\n",
       "    <tr>\n",
       "      <th>4</th>\n",
       "      <td>5</td>\n",
       "      <td>웨이팅 필수! 나는 도착했을때 기다림 없이 들어 갈 수 있었음 돈까스 맛집</td>\n",
       "      <td>1</td>\n",
       "    </tr>\n",
       "  </tbody>\n",
       "</table>\n",
       "</div>"
      ],
      "text/plain": [
       "  score                                             review  y\n",
       "0     5  웨이팅하기로 유명한 돈가스집인데, 운이 좋게도 금요일 오후에 10분정도만 기다리고 ...  1\n",
       "1     5  지하1층에 위치해서 조금 찾기 어려울 수도 있지만 지도 보고 가시면 금방 찾을 수 ...  1\n",
       "2     5     돈가스 너무 맛있고 직원분이 친절해서 좋았어요 \\n새우튀김도 간 적당하구  맛있어요  1\n",
       "3     5  오후 5시에 오픈런해서 들어갔어요. 돈까스가 원래 느끼함이 있어서 먹다보면 질리는 ...  1\n",
       "4     5          웨이팅 필수! 나는 도착했을때 기다림 없이 들어 갈 수 있었음 돈까스 맛집  1"
      ]
     },
     "execution_count": 5,
     "metadata": {},
     "output_type": "execute_result"
    }
   ],
   "source": [
    "# 4점 이상 리뷰는 긍정 리뷰, 3점 이하 리뷰는 부정 리뷰로 평가\n",
    "df['y'] = df['score'].apply(lambda x: 1 if float(x) > 3 else 0)\n",
    "df.head()"
   ]
  },
  {
   "cell_type": "markdown",
   "id": "90a235c0-997a-47c6-81a1-005a3a13a311",
   "metadata": {},
   "source": [
    "## Step 2 텍스트 전처리: 분류 모델 피처로 변환하기"
   ]
  },
  {
   "cell_type": "markdown",
   "id": "1e29c598-b7fc-4146-9632-fabca7b5052e",
   "metadata": {},
   "source": [
    "아래 코드는 한글 문자열만 필터링하는 과정이다."
   ]
  },
  {
   "cell_type": "code",
   "execution_count": 6,
   "id": "bfde1e9a-84fd-4b7c-b344-3c6533a6c4c5",
   "metadata": {},
   "outputs": [
    {
     "data": {
      "text/html": [
       "<div>\n",
       "<style scoped>\n",
       "    .dataframe tbody tr th:only-of-type {\n",
       "        vertical-align: middle;\n",
       "    }\n",
       "\n",
       "    .dataframe tbody tr th {\n",
       "        vertical-align: top;\n",
       "    }\n",
       "\n",
       "    .dataframe thead th {\n",
       "        text-align: right;\n",
       "    }\n",
       "</style>\n",
       "<table border=\"1\" class=\"dataframe\">\n",
       "  <thead>\n",
       "    <tr style=\"text-align: right;\">\n",
       "      <th></th>\n",
       "      <th>score</th>\n",
       "      <th>review</th>\n",
       "      <th>y</th>\n",
       "    </tr>\n",
       "  </thead>\n",
       "  <tbody>\n",
       "    <tr>\n",
       "      <th>0</th>\n",
       "      <td>5</td>\n",
       "      <td>웨이팅하기로 유명한 돈가스집인데 운이 좋게도 금요일 오후에 분정도만 기다리고 입장했...</td>\n",
       "      <td>1</td>\n",
       "    </tr>\n",
       "    <tr>\n",
       "      <th>1</th>\n",
       "      <td>5</td>\n",
       "      <td>지하층에 위치해서 조금 찾기 어려울 수도 있지만 지도 보고 가시면 금방 찾을 수 있...</td>\n",
       "      <td>1</td>\n",
       "    </tr>\n",
       "    <tr>\n",
       "      <th>2</th>\n",
       "      <td>5</td>\n",
       "      <td>돈가스 너무 맛있고 직원분이 친절해서 좋았어요 새우튀김도 간 적당하구  맛있어요</td>\n",
       "      <td>1</td>\n",
       "    </tr>\n",
       "    <tr>\n",
       "      <th>3</th>\n",
       "      <td>5</td>\n",
       "      <td>오후 시에 오픈런해서 들어갔어요 돈까스가 원래 느끼함이 있어서 먹다보면 질리는 경향...</td>\n",
       "      <td>1</td>\n",
       "    </tr>\n",
       "    <tr>\n",
       "      <th>4</th>\n",
       "      <td>5</td>\n",
       "      <td>웨이팅 필수 나는 도착했을때 기다림 없이 들어 갈 수 있었음 돈까스 맛집</td>\n",
       "      <td>1</td>\n",
       "    </tr>\n",
       "  </tbody>\n",
       "</table>\n",
       "</div>"
      ],
      "text/plain": [
       "  score                                             review  y\n",
       "0     5  웨이팅하기로 유명한 돈가스집인데 운이 좋게도 금요일 오후에 분정도만 기다리고 입장했...  1\n",
       "1     5  지하층에 위치해서 조금 찾기 어려울 수도 있지만 지도 보고 가시면 금방 찾을 수 있...  1\n",
       "2     5       돈가스 너무 맛있고 직원분이 친절해서 좋았어요 새우튀김도 간 적당하구  맛있어요  1\n",
       "3     5  오후 시에 오픈런해서 들어갔어요 돈까스가 원래 느끼함이 있어서 먹다보면 질리는 경향...  1\n",
       "4     5           웨이팅 필수 나는 도착했을때 기다림 없이 들어 갈 수 있었음 돈까스 맛집  1"
      ]
     },
     "execution_count": 6,
     "metadata": {},
     "output_type": "execute_result"
    }
   ],
   "source": [
    "import re\n",
    "\n",
    "# 텍스트 정제 함수: 한글 이외의 문자는 전부 제거\n",
    "def text_cleaning(text):\n",
    "    # 한글의 정규 표현식으로 한글만 추출\n",
    "    hangul = re.compile('[^ ㄱ-힣]+')\n",
    "    result = hangul.sub('', text)\n",
    "    return result\n",
    "\n",
    "# 함수를 적용하여 리뷰에서 한글만 추출\n",
    "df['review'] = df['review'].apply(lambda x: text_cleaning(x))\n",
    "df.head()"
   ]
  },
  {
   "cell_type": "markdown",
   "id": "77c7cc0a-f816-46ee-ace6-8ad7057244a6",
   "metadata": {},
   "source": [
    "아래 코드는 형태소를 추출하는 전처리 과정이다."
   ]
  },
  {
   "cell_type": "code",
   "execution_count": 7,
   "id": "f41c8f39-0bd1-4e25-ba40-4fc1928419bd",
   "metadata": {},
   "outputs": [
    {
     "name": "stdout",
     "output_type": "stream",
     "text": [
      "['웨이/Noun', '팅/Noun', '하기로/Verb', '유명한/Adjective', '돈가스/Noun', '집/Noun', '인데/Josa', '운/Noun', '이/Josa', '좋게도/Adjective', '금요일/Noun', '오후/Noun', '에/Josa', '분/Noun', '정도/Noun', '만/Josa', '기다리고/Verb', '입장/Noun', '했어요/Verb', '등심/Noun', '보다는/Josa', '안심/Noun', '이/Josa', '부드러워서/Adjective', '안심/Noun', '카츠/Noun', '를/Josa', '시켰는데/Verb', '정말/Noun', '촉촉하고/Adjective', '바삭/Noun', '했어요/Verb', '카레/Noun', '단/Modifier', '품/Noun', '도/Josa', '추가/Noun', '해서/Verb', '밥/Noun', '하고/Josa', '비벼/Verb', '먹었는데/Verb', '카레/Noun', '좋아하시는/Adjective', '분/Noun', '들/Suffix', '은/Josa', '꼭/Noun', '추가/Noun', '해서/Verb', '같이/Adverb', '드세요/Verb', '규/Noun', '카츠/Noun', '같이/Josa', '양초/Noun', '로/Josa', '데워/Verb', '먹을/Verb', '수/Noun', '있어서/Adjective', '마지막/Noun', '까지/Josa', '따뜻하게/Adjective', '먹을/Verb', '수/Noun', '있었습니다/Adjective']\n"
     ]
    }
   ],
   "source": [
    "from konlpy.tag import Okt\n",
    "\n",
    "# konlpy 라이브러리로 텍스트 데이터에서 형태소를 추출\n",
    "def get_pos(x):\n",
    "    tagger = Okt()\n",
    "    pos = tagger.pos(x)\n",
    "    pos = ['{}/{}'.format(word, tag) for word, tag in pos]\n",
    "    return pos\n",
    "\n",
    "# 형태소 추출 동작을 테스트\n",
    "result = get_pos(df['review'].values[0])\n",
    "print(result)"
   ]
  },
  {
   "cell_type": "markdown",
   "id": "00de2bc6-62bc-48b6-9506-1935bf2e8620",
   "metadata": {},
   "source": [
    "이제 텍스트 데이터를 분류 모델에 학습이 가능한 데이터셋으로 만들어보자"
   ]
  },
  {
   "cell_type": "code",
   "execution_count": 8,
   "id": "c184a5ee-5978-42e6-8747-5b0160281cf5",
   "metadata": {},
   "outputs": [
    {
     "name": "stderr",
     "output_type": "stream",
     "text": [
      "C:\\Users\\CHOYS\\AppData\\Local\\Programs\\Python\\Python310\\lib\\site-packages\\sklearn\\feature_extraction\\text.py:523: UserWarning: The parameter 'token_pattern' will not be used since 'tokenizer' is not None'\n",
      "  warnings.warn(\n"
     ]
    },
    {
     "name": "stdout",
     "output_type": "stream",
     "text": [
      "(150, 1765)\n"
     ]
    }
   ],
   "source": [
    "from sklearn.feature_extraction.text import CountVectorizer\n",
    "\n",
    "# 형태소를 벡터 형태의 학습 데이터셋으로 변환\n",
    "index_vectorizer = CountVectorizer(tokenizer= lambda x: get_pos(x))\n",
    "X = index_vectorizer.fit_transform(df['review'].tolist())\n",
    "print(X.shape)"
   ]
  },
  {
   "cell_type": "markdown",
   "id": "e129739d-9443-44b1-ba43-834e2dfaa0f2",
   "metadata": {},
   "source": [
    "학습 데이터셋과 말뭉치가 올바르게 생성되었는지 확인해보자"
   ]
  },
  {
   "cell_type": "code",
   "execution_count": 9,
   "id": "4aa25621-72e7-4a08-9bd3-448a183ce1d3",
   "metadata": {},
   "outputs": [
    {
     "name": "stdout",
     "output_type": "stream",
     "text": [
      "{'웨이/Noun': 1212, '팅/Noun': 1614, '하기로/Verb': 1657, '유명한/Adjective': 1219, '돈가스/Noun': 453, '집/Noun'..\n"
     ]
    }
   ],
   "source": [
    "print(str(index_vectorizer.vocabulary_)[:100] + \"..\")"
   ]
  },
  {
   "cell_type": "markdown",
   "id": "e9ca1eee-da65-4d79-875b-b04cffb295d8",
   "metadata": {},
   "source": [
    "아래 결과는 원래 텍스트 데이터와 변환 이후의 데이터를 함께 출력한 것이다. 아래의 문장이 여러 개의 벡터로 변환된 것을 알 수 있다."
   ]
  },
  {
   "cell_type": "code",
   "execution_count": 10,
   "id": "3e72c119-c515-4997-8ac8-ca63a58fd7ad",
   "metadata": {},
   "outputs": [
    {
     "name": "stdout",
     "output_type": "stream",
     "text": [
      "웨이팅하기로 유명한 돈가스집인데 운이 좋게도 금요일 오후에 분정도만 기다리고 입장했어요등심보다는 안심이 부드러워서 안심카츠를 시켰는데 정말 촉촉하고 바삭했어요 카레단품도 추가해서 밥하고 비벼먹었는데 카레 좋아하시는 분들은 꼭 추가해서 같이 드세요 규카츠같이 양초로 데워먹을 수 있어서 마지막까지 따뜻하게 먹을 수 있었습니다\n",
      "  (0, 1212)\t1\n",
      "  (0, 1614)\t1\n",
      "  (0, 1657)\t1\n",
      "  (0, 1219)\t1\n",
      "  (0, 453)\t1\n",
      "  (0, 1499)\t1\n",
      "  (0, 1296)\t1\n",
      "  (0, 1203)\t1\n",
      "  (0, 1243)\t2\n",
      "  (0, 1435)\t1\n",
      "  (0, 196)\t1\n",
      "  (0, 1177)\t1\n",
      "  (0, 1132)\t1\n",
      "  (0, 836)\t2\n",
      "  (0, 1415)\t1\n",
      "  (0, 578)\t1\n",
      "  (0, 209)\t1\n",
      "  (0, 1322)\t1\n",
      "  (0, 1724)\t2\n",
      "  (0, 527)\t1\n",
      "  (0, 791)\t1\n",
      "  (0, 1043)\t2\n",
      "  (0, 816)\t1\n",
      "  (0, 1568)\t2\n",
      "  (0, 566)\t1\n",
      "  :\t:\n",
      "  (0, 444)\t1\n",
      "  (0, 1550)\t2\n",
      "  (0, 1707)\t2\n",
      "  (0, 764)\t1\n",
      "  (0, 1653)\t1\n",
      "  (0, 854)\t1\n",
      "  (0, 680)\t1\n",
      "  (0, 1445)\t1\n",
      "  (0, 506)\t1\n",
      "  (0, 1230)\t1\n",
      "  (0, 263)\t1\n",
      "  (0, 90)\t1\n",
      "  (0, 499)\t1\n",
      "  (0, 165)\t1\n",
      "  (0, 91)\t1\n",
      "  (0, 1084)\t1\n",
      "  (0, 562)\t1\n",
      "  (0, 441)\t1\n",
      "  (0, 699)\t2\n",
      "  (0, 942)\t2\n",
      "  (0, 1345)\t1\n",
      "  (0, 574)\t1\n",
      "  (0, 249)\t1\n",
      "  (0, 529)\t1\n",
      "  (0, 1353)\t1\n"
     ]
    }
   ],
   "source": [
    "print(df['review'][0])\n",
    "print(X[0])"
   ]
  },
  {
   "cell_type": "markdown",
   "id": "a9a04c2a-7503-44fc-9a46-f1765a09b58b",
   "metadata": {},
   "source": [
    "텍스트 데이터에 중복되는 형태소가 존재하면 어떻게 될까? 같은 데이터로 변환이 되는데, 이러한 문제를 해결하기 위해 텍스트를 피처로 만드는 TF-IDF 방법을 적용해보자"
   ]
  },
  {
   "cell_type": "markdown",
   "id": "5966cff8-4ae2-4509-a973-a10a35cb5b14",
   "metadata": {},
   "source": [
    "TF-IDF는 단어 빈도를 나타내는 TF와 문서 빈도를 나타내는 DF의 역수 IDF를 곱한 값을 의미한다. 만약 1번 텍스트에 '맛집'이라는 단어가 3번 등장하고, 모든 데이터에서 '맛집'이라는 단어가 10개 등장할 때, TF 값은 3, IDF 값은 0.1이 된다. 따라서 TF-IDF는 다른 문서들에서는 등장하지 않았지만 현재 문서에서는 많이 등장하는 단어를 의미하며, 그 단어가 현재 문서에서 얼마나 중요한지를 피처로 나타낼 수 있다."
   ]
  },
  {
   "cell_type": "code",
   "execution_count": 11,
   "id": "0698a742-70d9-4012-a1b3-b2fcd5f57e5c",
   "metadata": {},
   "outputs": [
    {
     "name": "stdout",
     "output_type": "stream",
     "text": [
      "(150, 1765)\n",
      "  (0, 90)\t0.12146432666616074\n",
      "  (0, 91)\t0.13554085016655223\n",
      "  (0, 165)\t0.1467140154451366\n",
      "  (0, 196)\t0.1467140154451366\n",
      "  (0, 209)\t0.12146432666616074\n",
      "  (0, 249)\t0.11219235766995096\n",
      "  (0, 263)\t0.10851271103738466\n",
      "  (0, 403)\t0.12761336324126063\n",
      "  (0, 441)\t0.1467140154451366\n",
      "  (0, 444)\t0.06091669170124009\n",
      "  (0, 453)\t0.08941205883350868\n",
      "  (0, 499)\t0.1467140154451366\n",
      "  (0, 506)\t0.0973395457588003\n",
      "  (0, 527)\t0.06281788798361465\n",
      "  (0, 529)\t0.1467140154451366\n",
      "  (0, 562)\t0.09973726747832985\n",
      "  (0, 566)\t0.07208985697982444\n",
      "  (0, 574)\t0.1467140154451366\n",
      "  (0, 578)\t0.10526703268409193\n",
      "  (0, 680)\t0.10851271103738466\n",
      "  (0, 699)\t0.1946790915176006\n",
      "  (0, 756)\t0.10851271103738466\n",
      "  (0, 764)\t0.12761336324126063\n",
      "  (0, 791)\t0.12146432666616074\n",
      "  (0, 816)\t0.12761336324126063\n",
      "  :\t:\n",
      "  (0, 1177)\t0.13554085016655223\n",
      "  (0, 1203)\t0.13554085016655223\n",
      "  (0, 1212)\t0.07302406224804153\n",
      "  (0, 1219)\t0.09309170546607497\n",
      "  (0, 1230)\t0.061535963070577904\n",
      "  (0, 1243)\t0.08743447155947734\n",
      "  (0, 1296)\t0.10526703268409193\n",
      "  (0, 1322)\t0.12761336324126063\n",
      "  (0, 1345)\t0.11219235766995096\n",
      "  (0, 1353)\t0.13554085016655223\n",
      "  (0, 1415)\t0.07823889355492435\n",
      "  (0, 1417)\t0.0832630222584088\n",
      "  (0, 1435)\t0.1467140154451366\n",
      "  (0, 1445)\t0.13554085016655223\n",
      "  (0, 1499)\t0.08616638048021595\n",
      "  (0, 1544)\t0.10526703268409193\n",
      "  (0, 1550)\t0.23288039592535253\n",
      "  (0, 1565)\t0.16127323054890777\n",
      "  (0, 1568)\t0.25522672648252126\n",
      "  (0, 1614)\t0.073991053262199\n",
      "  (0, 1640)\t0.12761336324126063\n",
      "  (0, 1653)\t0.09309170546607497\n",
      "  (0, 1657)\t0.13554085016655223\n",
      "  (0, 1707)\t0.1902677111827815\n",
      "  (0, 1724)\t0.25522672648252126\n"
     ]
    }
   ],
   "source": [
    "from sklearn.feature_extraction.text import TfidfTransformer\n",
    "\n",
    "# TF-IDF 방법으로 형태소를 벡터 형태의 학습 데이터셋으로 변환\n",
    "tfidf_vectorizer = TfidfTransformer()\n",
    "X = tfidf_vectorizer.fit_transform(X)\n",
    "\n",
    "print(X.shape)\n",
    "print(X[0])"
   ]
  },
  {
   "cell_type": "markdown",
   "id": "2e4d2e2e-2a10-446a-a077-ee590d00f5db",
   "metadata": {},
   "source": [
    "## Step 3 분류: 긍정/부정 리뷰 분류하기"
   ]
  },
  {
   "cell_type": "code",
   "execution_count": 12,
   "id": "d09249ce-cdd5-4574-a03d-64445490dcc4",
   "metadata": {},
   "outputs": [
    {
     "name": "stdout",
     "output_type": "stream",
     "text": [
      "(105, 1765)\n",
      "(45, 1765)\n"
     ]
    }
   ],
   "source": [
    "from sklearn.model_selection import train_test_split\n",
    "\n",
    "y = df['y']\n",
    "x_train, x_test, y_train, y_test = train_test_split(X, y, test_size=0.3)\n",
    "print(x_train.shape)\n",
    "print(x_test.shape)"
   ]
  },
  {
   "cell_type": "code",
   "execution_count": 13,
   "id": "5f853203-ccf5-456c-a7d3-8a1728019498",
   "metadata": {},
   "outputs": [
    {
     "name": "stdout",
     "output_type": "stream",
     "text": [
      "accuracy: 0.89\n",
      "Precision: 0.889\n",
      "Recall: 1.000\n",
      "F1: 0.941\n"
     ]
    }
   ],
   "source": [
    "from sklearn.linear_model import LogisticRegression\n",
    "from sklearn.metrics import accuracy_score, precision_score, recall_score, f1_score\n",
    "\n",
    "# 로지스틱 회귀 모델을 학습\n",
    "lr = LogisticRegression(random_state=0)\n",
    "lr.fit(x_train, y_train)\n",
    "y_pred = lr.predict(x_test)\n",
    "y_pred_probability = lr.predict_proba(x_test)[:,1]\n",
    "\n",
    "# 로지스틱 회귀 모델의 성능을 평가\n",
    "print('accuracy: %.2f' %accuracy_score(y_test, y_pred))\n",
    "print('Precision: %.3f' %precision_score(y_test, y_pred))\n",
    "print('Recall: %.3f' %recall_score(y_test, y_pred))\n",
    "print('F1: %.3f' %f1_score(y_test, y_pred))"
   ]
  },
  {
   "cell_type": "markdown",
   "id": "64c03de4-b8dc-4040-ab85-ba5bebd788f5",
   "metadata": {},
   "source": [
    "아래 결과를 보면 결과가 조금 이상하다. 분류 모델은 모든 데이터를 1로 예측하고 있다. 모델이 하나의 결과만을 예측하도록 잘못 학습이 된것이다. 이런 현상을 **클래스의 불균형 문제**라고 한다. 이는 데이터의 Positive sample과 Negative sample의 비율이 크게 차이가 나는 경우에 발생한다. 그래서 적절한 샘플링 방법을 통해 클래스의 불균형 문제를 해결한다."
   ]
  },
  {
   "cell_type": "code",
   "execution_count": 14,
   "id": "341ed747-e181-4c4b-a68f-da3f754b5344",
   "metadata": {},
   "outputs": [
    {
     "name": "stdout",
     "output_type": "stream",
     "text": [
      "[[ 0  5]\n",
      " [ 0 40]]\n"
     ]
    }
   ],
   "source": [
    "from sklearn.metrics import confusion_matrix\n",
    "\n",
    "confmat = confusion_matrix(y_true=y_test, y_pred=y_pred)\n",
    "print(confmat)"
   ]
  },
  {
   "cell_type": "markdown",
   "id": "025bd9db-fbb7-49e9-a51c-d2c6d2fc56ba",
   "metadata": {},
   "source": [
    "Positive, Negative 비율을 살펴보자"
   ]
  },
  {
   "cell_type": "code",
   "execution_count": 15,
   "id": "57680bec-326a-4c91-8c2f-e688f0767bbb",
   "metadata": {},
   "outputs": [
    {
     "data": {
      "text/plain": [
       "y\n",
       "1    136\n",
       "0     14\n",
       "Name: count, dtype: int64"
      ]
     },
     "execution_count": 15,
     "metadata": {},
     "output_type": "execute_result"
    }
   ],
   "source": [
    "df['y'].value_counts()"
   ]
  },
  {
   "cell_type": "markdown",
   "id": "8e3df3d7-9552-47dc-9a66-40a3fb29aa0f",
   "metadata": {},
   "source": [
    "거의 9:1인 것을 확인할 수 있다."
   ]
  },
  {
   "cell_type": "markdown",
   "id": "2a525f77-1918-4ca3-8c83-7d11dfeaa14f",
   "metadata": {},
   "source": [
    "Negative 수가 넘 적긴 하지만 클래스를 1:1 비율로 샘플링하기 위해 y가 1인 10개의 샘플, y가 0인 10개의 샘플을 임의로 추출해보자"
   ]
  },
  {
   "cell_type": "code",
   "execution_count": 16,
   "id": "88ba523a-3ccb-427c-8095-08d668681d9e",
   "metadata": {},
   "outputs": [
    {
     "name": "stdout",
     "output_type": "stream",
     "text": [
      "(14, 1765)\n",
      "(6, 1765)\n"
     ]
    }
   ],
   "source": [
    "# 1:1 비율로 랜덤 샘플링을 추출\n",
    "positive_random_idx = df[df['y'] == 1].sample(10, random_state=30).index.tolist()\n",
    "negative_random_idx = df[df['y'] == 0].sample(10, random_state=30).index.tolist()\n",
    "\n",
    "# 랜덤 데이터로 데이터 셋을 나눔\n",
    "random_idx = positive_random_idx + negative_random_idx\n",
    "sample_X = X[random_idx, :]\n",
    "y = df['y'][random_idx]\n",
    "x_train, x_test, y_train, y_test = train_test_split(sample_X, y, test_size=0.3)\n",
    "print(x_train.shape)\n",
    "print(x_test.shape)"
   ]
  },
  {
   "cell_type": "markdown",
   "id": "d589e6f2-3dca-4f59-b5f0-3d7d841b1cef",
   "metadata": {},
   "source": [
    "아무래도 표본이 너무 적어서 정확도가 낮게 나온 것 같다.."
   ]
  },
  {
   "cell_type": "code",
   "execution_count": 17,
   "id": "45bfee23-564b-47e0-bd7c-b01aa11b4de0",
   "metadata": {},
   "outputs": [
    {
     "name": "stdout",
     "output_type": "stream",
     "text": [
      "accuracy: 0.17\n",
      "Precision: 0.167\n",
      "Recall: 1.000\n",
      "F1: 0.286\n"
     ]
    }
   ],
   "source": [
    "# 로지스틱 회귀 모델을 학습\n",
    "lr = LogisticRegression(random_state=0)\n",
    "lr.fit(x_train, y_train)\n",
    "y_pred = lr.predict(x_test)\n",
    "y_pred_probability = lr.predict_proba(x_test)[:,1]\n",
    "\n",
    "# 로지스틱 회귀 모델의 성능을 평가\n",
    "print('accuracy: %.2f' %accuracy_score(y_test, y_pred))\n",
    "print('Precision: %.3f' %precision_score(y_test, y_pred))\n",
    "print('Recall: %.3f' %recall_score(y_test, y_pred))\n",
    "print('F1: %.3f' %f1_score(y_test, y_pred))"
   ]
  },
  {
   "cell_type": "code",
   "execution_count": 18,
   "id": "15f8bb4a-0076-499c-92c1-56efd664e890",
   "metadata": {},
   "outputs": [
    {
     "name": "stdout",
     "output_type": "stream",
     "text": [
      "[[0 5]\n",
      " [0 1]]\n"
     ]
    }
   ],
   "source": [
    "from sklearn.metrics import confusion_matrix\n",
    "\n",
    "confmat = confusion_matrix(y_true=y_test, y_pred=y_pred)\n",
    "print(confmat)"
   ]
  },
  {
   "cell_type": "markdown",
   "id": "a37db431-7ea2-4157-876b-1779ca697e34",
   "metadata": {},
   "source": [
    "## Step 4 분석: 중요 키워드 분석하기"
   ]
  },
  {
   "cell_type": "code",
   "execution_count": 20,
   "id": "4805e2d6-3884-467b-bb40-9e8906c06292",
   "metadata": {},
   "outputs": [
    {
     "name": "stdout",
     "output_type": "stream",
     "text": [
      "[(0.18019141091928803, 902), (0.17015112893474563, 1417), (0.16313584515747545, 628), (0.134875852880829, 325), (0.13149207883807337, 949)]\n",
      "[(-0.17434785981350073, 1243), (-0.20130821540890526, 1387), (-0.23138125960209766, 433), (-0.23235561915810354, 219), (-0.3232769545470655, 10)]\n"
     ]
    },
    {
     "data": {
      "image/png": "[encoded data removed]",
      "text/plain": [
       "<Figure size 1000x800 with 1 Axes>"
      ]
     },
     "metadata": {},
     "output_type": "display_data"
    }
   ],
   "source": [
    "# 학습한 회귀 모델의 계수를 출력\n",
    "plt.rcParams['figure.figsize'] = [10, 8]\n",
    "\n",
    "plt.bar(range(len(lr.coef_[0])), lr.coef_[0])\n",
    "print(sorted(((value, index) for index, value in enumerate(lr.coef_[0])), reverse=True)[:5])\n",
    "print(sorted(((value, index) for index, value in enumerate(lr.coef_[0])), reverse=True)[-5:])"
   ]
  },
  {
   "cell_type": "code",
   "execution_count": 23,
   "id": "1da0963c-8858-4955-ba10-c59c17aeaf0f",
   "metadata": {},
   "outputs": [
    {
     "name": "stdout",
     "output_type": "stream",
     "text": [
      "{1212: '웨이/Noun', 1614: '팅/Noun', 1657: '하기로/Verb', 1219: '유명한/Adjective', 453: '돈가스/Noun', 1499: '집\n"
     ]
    }
   ],
   "source": [
    "# 회귀 모델의 계수를 높은 순으로 정렬\n",
    "coef_pos_index = sorted(((value, index) for index, value in enumerate(lr.coef_[0])), reverse=True)\n",
    "\n",
    "# 회귀 모델의 계수를 index_vectorizer에 매핑하여 어떤 형태소인지 출력\n",
    "invert_index_vectorizer = {v: k for k, v in index_vectorizer.vocabulary_.items()}\n",
    "\n",
    "# 계수가 높은 순으로 피처에 형태소를 맵핑한 결과를 출력\n",
    "print(str(invert_index_vectorizer)[:100])"
   ]
  },
  {
   "cell_type": "code",
   "execution_count": 26,
   "id": "a2406654-062b-4270-ad99-d933a25e1f13",
   "metadata": {},
   "outputs": [
    {
     "name": "stdout",
     "output_type": "stream",
     "text": [
      "새우/Noun 0.18019141091928803\n",
      "정말/Noun 0.17015112893474563\n",
      "맛있습니다/Adjective 0.16313584515747545\n",
      "너무/Adverb 0.134875852880829\n",
      "스/Noun 0.13149207883807337\n",
      "안심/Noun 0.12050002706522882\n",
      "집이었습니다/Verb 0.11720485776704978\n",
      "바삭바삭한/Adjective 0.11720485776704978\n",
      "비쌈/Adjective 0.1148300557454064\n",
      "끔/Verb 0.1148300557454064\n",
      "깔/Verb 0.1148300557454064\n",
      "한번/Noun 0.10971349534611462\n",
      "살이/Noun 0.10827899445868766\n",
      "부위/Noun 0.10827899445868766\n",
      "좋음/Adjective 0.10608504806567137\n",
      "은/Josa 0.10311754170170277\n",
      "새우까/Verb 0.10188470518290432\n",
      "나/Josa 0.10133852505454191\n",
      "도/Josa 0.09703739028637505\n",
      "면/Josa 0.09528483110480332\n"
     ]
    }
   ],
   "source": [
    "# 상위 20개 긍정 형태소를 출력\n",
    "for coef in coef_pos_index[:20]:\n",
    "    print(invert_index_vectorizer[coef[1]], coef[0])"
   ]
  },
  {
   "cell_type": "code",
   "execution_count": null,
   "id": "24286d9a-8f77-4779-9f80-aa5cd01348ca",
   "metadata": {},
   "outputs": [],
   "source": []
  }
 ],
 "metadata": {
  "kernelspec": {
   "display_name": "Python 3 (ipykernel)",
   "language": "python",
   "name": "python3"
  },
  "language_info": {
   "codemirror_mode": {
    "name": "ipython",
    "version": 3
   },
   "file_extension": ".py",
   "mimetype": "text/x-python",
   "name": "python",
   "nbconvert_exporter": "python",
   "pygments_lexer": "ipython3",
   "version": "3.10.6"
  }
 },
 "nbformat": 4,
 "nbformat_minor": 5
}
