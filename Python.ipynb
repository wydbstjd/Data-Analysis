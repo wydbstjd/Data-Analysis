{
 "cells": [
  {
   "cell_type": "markdown",
   "id": "f28feea2-224d-4e64-bdb6-8bfbbbf17388",
   "metadata": {},
   "source": [
    "# 자료구조"
   ]
  },
  {
   "cell_type": "code",
   "execution_count": 11,
   "id": "cb619435-ed3e-4bda-a190-941b841c4d16",
   "metadata": {},
   "outputs": [
    {
     "name": "stdout",
     "output_type": "stream",
     "text": [
      "[1, 3, 4, 5]\n"
     ]
    }
   ],
   "source": [
    "#2\n",
    "list_1 = [0,3,1,7,5,0,5,8,0,4]\n",
    "def quiz_2(list_data):\n",
    "    a = set(list_data) # {0, 1, 3, 4, 5, 7, 8}\n",
    "    return list(a)[1:5] # 1번째 인덱스부터 5번째 인덱스 전까지 출력\n",
    "\n",
    "print(quiz_2(list_1)) # [1,3,4,5]"
   ]
  },
  {
   "cell_type": "code",
   "execution_count": 16,
   "id": "00422adf-6eb9-4e08-ae20-a38db16ed79e",
   "metadata": {},
   "outputs": [
    {
     "name": "stdout",
     "output_type": "stream",
     "text": [
      "dict_values([1, 82, 86, 81])\n",
      "{'America': 1, 'Korea': 82, 'China': 86, 'Japan': 81}\n",
      "dict_keys(['America', 'Korea', 'China', 'Japan'])\n",
      "True\n"
     ]
    }
   ],
   "source": [
    "#4\n",
    "country_code = {'America':1, 'Korea':82, 'China':86, 'Japan':81}\n",
    "print(country_code.values())\n",
    "print(country_code)\n",
    "print(country_code.keys())\n",
    "print('Korea' in country_code.keys()) # Korea를 가진 key가 있는지에 대한 여부"
   ]
  },
  {
   "cell_type": "code",
   "execution_count": 19,
   "id": "a038e746-4d2f-47ce-8f82-02271da8c4e1",
   "metadata": {},
   "outputs": [
    {
     "name": "stdout",
     "output_type": "stream",
     "text": [
      "False\n"
     ]
    }
   ],
   "source": [
    "#6\n",
    "def delete_a_list_element(list_data, element_value):\n",
    "    if element_value in list_data:      # if가 아닌 else 문이 실행이 됨\n",
    "        list_data.remove(element_value) # list_data에 있는 2016.0은 따옴표로 둘려싸어 있으므로 문자열 자료형\n",
    "        return list_data                # element_value 는 실수형 자료형 \n",
    "        \n",
    "    else:\n",
    "        return 'False'\n",
    "\n",
    "list_data = ['a',1,'gachon','2016.0']\n",
    "element = float(2016) # 2016.0이라는 실수형 자료형\n",
    "result = delete_a_list_element(list_data, element)\n",
    "print(result)\n"
   ]
  },
  {
   "cell_type": "code",
   "execution_count": 50,
   "id": "df05b58d-df62-4954-8a35-61b351ccbbae",
   "metadata": {},
   "outputs": [
    {
     "name": "stdout",
     "output_type": "stream",
     "text": [
      "{1, 2, 3, 4}\n"
     ]
    }
   ],
   "source": [
    "#7\n",
    "def add_number(original_list):\n",
    "    original_list += [1] # [1]은 .append(1)과 같음 -> [1,2,3,4,1]\n",
    "\n",
    "mylist = [1,2,3,4]\n",
    "add_number(mylist)\n",
    "print(set(mylist)) # set 자료형은 중괄호로 둘러싸여 있음"
   ]
  },
  {
   "cell_type": "code",
   "execution_count": 60,
   "id": "64159790-e2d7-464c-bf94-fe6a54f3e570",
   "metadata": {},
   "outputs": [
    {
     "name": "stdout",
     "output_type": "stream",
     "text": [
      "{'j', 'g', 'i', 'f', 'u', 't', 'w', 'h', 'x', 'b', 'l', 'v', 'p', 'a', 'k', 'o', 'q', 's', 'c', 'r', 'm', 'e', 'd', 'y', 'z', 'n'}\n",
      "{'u', 'e', 'y', 'i', 'l', 'o', 'v'}\n",
      "{'j', 'g', 'f', 't', 'w', 'h', 'b', 'x', 'p', 'a', 'k', 'q', 's', 'c', 'r', 'm', 'd', 'z', 'n'}\n",
      "19\n"
     ]
    }
   ],
   "source": [
    "#9\n",
    "def week_seven(sentence1):\n",
    "    cells = set(sentence1.replace(' ','').lower())\n",
    "    return cells\n",
    "\n",
    "sentence_a = 'The quick brown fox jumps over the lazy dog'\n",
    "sentence_b = 'I love you'\n",
    "\n",
    "print(week_seven(sentence_a)) # 26\n",
    "print(week_seven(sentence_b)) # 7\n",
    "print(week_seven(sentence_a)-week_seven(sentence_b))\n",
    "print(len(week_seven(sentence_a)-week_seven(sentence_b)))"
   ]
  },
  {
   "cell_type": "code",
   "execution_count": 70,
   "id": "74319d2f-2d0d-42a2-aadc-c816478b2585",
   "metadata": {},
   "outputs": [
    {
     "data": {
      "text/plain": [
       "[1, 2, 3, 4, 5, 6]"
      ]
     },
     "execution_count": 70,
     "metadata": {},
     "output_type": "execute_result"
    }
   ],
   "source": [
    "#10\n",
    "tuple_1 = (1,2,3)\n",
    "tuple_2 = (4,5,6)\n",
    "\n",
    "def quiz_1(data_1,data_2):\n",
    "    result = [] # 리스트 형태인 result 변수\n",
    "\n",
    "    for i in (tuple_1 + tuple_2): # tuple을 합치면 두개의 요소가 결합된 하나의 tuple가 만들어짐 (1,2,3,4,5,6)\n",
    "        result.append(i)\n",
    "        \n",
    "    return (result) # result는 리스트\n",
    "\n",
    "quiz_1(tuple_1, tuple_2)"
   ]
  },
  {
   "cell_type": "code",
   "execution_count": 1,
   "id": "98048f93-5250-4856-9787-8256365fb1ca",
   "metadata": {},
   "outputs": [
    {
     "name": "stdout",
     "output_type": "stream",
     "text": [
      "4\n"
     ]
    }
   ],
   "source": [
    "#11\n",
    "dict_1 = {2:1, 4:2, 6:3, 8:4, 10:6}\n",
    "\n",
    "dict_keys = list(dict_1.keys()) # [2,4,6,8,10]\n",
    "dict_values = list(dict_1.values()) # [1,2,3,4,6]\n",
    "\n",
    "dict_2 = dict()\n",
    "\n",
    "for i in range(len(dict_keys)): # (5), 0~4\n",
    "    dict_2[dict_values[i]] = dict_keys[i] # {1: 2, 2: 4, 3: 6, 4: 8, 6: 10}, \n",
    "    # for 루프를 통해 dict_1의 value를 키로, 키를 value으로 바꿔서 dict_2에 저장\n",
    "\n",
    "print(dict_2[2]) #dict_2의 key가 2일 때 value 값은 4\n"
   ]
  },
  {
   "cell_type": "code",
   "execution_count": 8,
   "id": "31403bc4-8a3b-4d24-b90d-37c92023f581",
   "metadata": {},
   "outputs": [
    {
     "name": "stdout",
     "output_type": "stream",
     "text": [
      "{4: 'ant', 0: 'snake', 2: 'monkey', 8: 'spider', 'ant': 6}\n"
     ]
    }
   ],
   "source": [
    "#12\n",
    "animal = ['cat', 'snake', 'monkey', 'ant', 'spider']\n",
    "legs = [4,0,2,4,8]\n",
    "animal_legs_dict = {} # 빈 딕셔너리\n",
    "for i in range(len(animal)):\n",
    "    animal_legs_dict[legs[i]] = animal[i] #키에는 legs인 정수, value에는 animal인 문자열\n",
    "    # 4:'cat', 0:'snake', 2:'monkey' -> 4: ant일때 동일한 키 값이 있기 때문에 추가가 아닌 수정\n",
    "animal_legs_dict['ant'] = 6 # 키에 정수가 아닌 문자열인 ant가 들어가 있기때문에 추가\n",
    "\n",
    "print(animal_legs_dict)"
   ]
  },
  {
   "cell_type": "code",
   "execution_count": 12,
   "id": "fcff8a73-eb2c-4216-b479-f94899dec894",
   "metadata": {},
   "outputs": [
    {
     "name": "stdout",
     "output_type": "stream",
     "text": [
      "(1, 2, 3, 1, 2, 3)\n",
      "(1, 2, 3, 1, 2, 3)\n",
      "(1, 2, 3) (1, 2, 3)\n"
     ]
    }
   ],
   "source": [
    "#13\n",
    "t = (1,2,3)\n",
    "print(t+t) #(1, 2, 3, 1, 2, 3)\n",
    "print(t*2) #(1, 2, 3, 1, 2, 3)\n",
    "print(t,t) #(1, 2, 3) (1, 2, 3)"
   ]
  },
  {
   "cell_type": "code",
   "execution_count": 15,
   "id": "71906244-507b-44f5-a3b6-7611715552d6",
   "metadata": {},
   "outputs": [
    {
     "name": "stdout",
     "output_type": "stream",
     "text": [
      "10\n"
     ]
    }
   ],
   "source": [
    "#14\n",
    "Mydict = {'1':1, '2':2}\n",
    "Copy = Mydict # {'1':1, '2':2}\n",
    "Mydict['1'] = 5 \n",
    "result = Mydict['1'] + Copy['1'] # Copy는 Mydict와 동일한 딕셔너리 객체를 가르키고 있음\n",
    "print(result)                    # Mydict의 값을 변경하면 Copy도 변경된 값을 가리킴"
   ]
  },
  {
   "cell_type": "code",
   "execution_count": 23,
   "id": "db8f8016-4576-452b-97ba-7065f9a34df2",
   "metadata": {},
   "outputs": [
    {
     "name": "stdout",
     "output_type": "stream",
     "text": [
      "?Yoeu MLo ve\n"
     ]
    }
   ],
   "source": [
    "#15\n",
    "sentence = list('You Love Me?') # ['Y', 'o', 'u', ' ', 'L', 'o', 'v', 'e', ' ', 'M', 'e', '?']\n",
    "result = ''\n",
    "for i in range(len(sentence)): # 12 -> 0~11\n",
    "    if i % 3 == 0: # i가 3으로 나눴을 때 나머지가 0이면\n",
    "        result += sentence.pop() #맨 뒤에 있는 값\n",
    "    else:\n",
    "        result += sentence.pop(0) #맨 앞에 있는 값\n",
    "print(result)"
   ]
  },
  {
   "cell_type": "code",
   "execution_count": 24,
   "id": "7e0a2b70-caad-442b-adae-1347b4efa4b8",
   "metadata": {},
   "outputs": [
    {
     "name": "stdout",
     "output_type": "stream",
     "text": [
      "14\n"
     ]
    }
   ],
   "source": [
    "#16\n",
    "number = [5,6,7,8,9,1,2,3,4]\n",
    "result = []\n",
    "result.append(number.pop(0)) # 5\n",
    "result.append(number.pop()) # 4\n",
    "result.append(number.pop(1)) # 7\n",
    "result.append(number.pop()) # 3\n",
    "result.append(number.pop(0)) # 6    result = [5,4,7,3,6] number = [8,9,1,2]\n",
    "print(number[0]+result[-1]) # 8 + 6"
   ]
  },
  {
   "cell_type": "code",
   "execution_count": 27,
   "id": "6ea30f33-00c2-4115-975f-adb35e6d8bb1",
   "metadata": {},
   "outputs": [
    {
     "name": "stdout",
     "output_type": "stream",
     "text": [
      "[0, 1, 2, 3, 4, 5, 6, 7, 8, 9]\n"
     ]
    }
   ],
   "source": [
    "#17\n",
    "a = list(range(10)) # [0,1,2,3,4,5,6,7,8,9]\n",
    "a.append(a[3]) # 3 / [0,1,2,3,4,5,6,7,8,9,3]\n",
    "a.pop(a[3]) # 3 / [0,1,2,4,5,6,7,8,9,3]\n",
    "a.insert(3,a[-1]) # a.insert(3,3) / [0,1,2,3,4,5,6,7,8,9,3]\n",
    "a.pop() # [0,1,2,3,4,5,6,7,8,9]\n",
    "print(a)"
   ]
  },
  {
   "cell_type": "code",
   "execution_count": 1,
   "id": "5a8a27af-0041-46a7-884b-b280c5f7f9d1",
   "metadata": {},
   "outputs": [
    {
     "name": "stdout",
     "output_type": "stream",
     "text": [
      "6\n"
     ]
    }
   ],
   "source": [
    "#18\n",
    "box = [1, 'read', 3, (), [], None] # 빈 tuple, list와 None도 요소 중 하나로 포함\n",
    "print(len(box))"
   ]
  },
  {
   "cell_type": "code",
   "execution_count": 24,
   "id": "6fcc6edc-0956-4876-9f23-d9987ec14bff",
   "metadata": {},
   "outputs": [
    {
     "name": "stdout",
     "output_type": "stream",
     "text": [
      "(1,)\n",
      "[1]\n",
      "error\n",
      "error\n",
      "a\n",
      "a\n"
     ]
    }
   ],
   "source": [
    "#19\n",
    "data_1 = {'one':(1,2,3,4,5,6), 'two':[1,2,3,4,5,6], 'three':{'four':4, 'five':5}}\n",
    "\n",
    "for k in ['one','two','three']:\n",
    "    try:\n",
    "        print(data_1[k][:1]) # = print(data_1[k][0])\n",
    "    except KeyError:        # TypeError가 아닌 KeyError, data_1['three'] = {'four': 4, 'five': 5} 0에 대한 key가 X\n",
    "        print('error')\n",
    "\n",
    "for k in ['one','two','three']:\n",
    "    try:\n",
    "        data_1[k][-1] = 'a' # 'three'에 대한 value가 딕셔너리 형태. key가 -1이고 value가 'a'인 것을 추가\n",
    "        print(data_1[k][-1]) # key가 'three'인 value 중 key가 -1인 value를 출력 -> 'a'\n",
    "    except TypeError:\n",
    "        print('error')"
   ]
  },
  {
   "cell_type": "code",
   "execution_count": 25,
   "id": "d5fa45ff-1604-4c0e-aa94-60744db534f4",
   "metadata": {},
   "outputs": [
    {
     "name": "stdout",
     "output_type": "stream",
     "text": [
      "{'A': 'Sam', 'B': 'Sarah', 'C': 'Jane', 'D': 'John'}\n"
     ]
    }
   ],
   "source": [
    "#20\n",
    "class_category = ['A', 'B', 'C', 'D']\n",
    "student_category = ['Sam', 'Sarah', 'Jane', 'John']\n",
    "\n",
    "class_student_cate = {} # 빈 딕셔너리\n",
    "for i in range(len(class_category)): # i -> 0~3\n",
    "    class_student_cate[class_category[i]] = student_category[i] # class_category를 key, student_category를 value로\n",
    "print(class_student_cate)"
   ]
  },
  {
   "cell_type": "markdown",
   "id": "002aa2d5-758e-4f22-8024-76540e26d611",
   "metadata": {},
   "source": [
    "# 스타일코드2"
   ]
  },
  {
   "cell_type": "code",
   "execution_count": 51,
   "id": "0ea23ded-4fad-45ee-840a-e54ebd62be37",
   "metadata": {},
   "outputs": [
    {
     "data": {
      "text/plain": [
       "1024"
      ]
     },
     "execution_count": 51,
     "metadata": {},
     "output_type": "execute_result"
    }
   ],
   "source": [
    "#1\n",
    "f = lambda x,y: x**y\n",
    "f(2,10)"
   ]
  },
  {
   "cell_type": "code",
   "execution_count": 57,
   "id": "b4a45e4d-6255-4e11-aa5f-a3d138b124c6",
   "metadata": {},
   "outputs": [
    {
     "name": "stdout",
     "output_type": "stream",
     "text": [
      "[1, 4, 9, 16, 25]\n",
      "[1, 4, 9, 16, 25]\n"
     ]
    }
   ],
   "source": [
    "#2\n",
    "ex = [1,2,3,4,5]\n",
    "print([value ** 2 for value in ex])\n",
    "\n",
    "print(list(map(lambda x: x**2,ex)))"
   ]
  },
  {
   "cell_type": "code",
   "execution_count": 63,
   "id": "345eac51-b686-45c5-9081-d2ac5d14f814",
   "metadata": {},
   "outputs": [
    {
     "data": {
      "text/plain": [
       "120"
      ]
     },
     "execution_count": 63,
     "metadata": {},
     "output_type": "execute_result"
    }
   ],
   "source": [
    "#3\n",
    "from functools import reduce\n",
    "a = 10\n",
    "reduce(lambda x,y: x*y, range(5,0,-1))"
   ]
  },
  {
   "cell_type": "code",
   "execution_count": 66,
   "id": "67ce58c9-cd3b-4bb8-b748-c51e748b859a",
   "metadata": {},
   "outputs": [
    {
     "name": "stdout",
     "output_type": "stream",
     "text": [
      "1 2 3\n",
      "[1, 2, 3]\n"
     ]
    }
   ],
   "source": [
    "#4\n",
    "a = [1,2,3]\n",
    "print(*a) # * 연산는 언패킹 역할을 함. a의 요소들만 출력 -> 숫자만 나옴\n",
    "print(a)  # print(a)는 리스트 그 자체를 출력"
   ]
  },
  {
   "cell_type": "code",
   "execution_count": 80,
   "id": "cb08d5e1-7972-4736-9d67-7e632ad0b8c3",
   "metadata": {},
   "outputs": [
    {
     "data": {
      "text/plain": [
       "[(1, 2, 3), (4, 5, 6), (7, 8, 9)]"
      ]
     },
     "execution_count": 80,
     "metadata": {},
     "output_type": "execute_result"
    }
   ],
   "source": [
    "#5\n",
    "def transpose_list(two_dimensional_list):\n",
    "    return [row for row in zip(*two_dimensional_list)]\n",
    "    # * 연산자로 인해 이차원 리스트가 언패킹돼어 각각 리스트가 zip 함수에 적용됨 \n",
    "    # (1, 2, 3), (4, 5, 6), (7, 8, 9) 와 같은 튜플이 반환\n",
    "    # 리스트 컴프리헨션을 사용하여 각각의 튜플을 행으로 갖는 리스트를 생성하게 되고 아래와 같은 출력값을 얻음\n",
    "\n",
    "transpose_list([[1,4,7],[2,5,8],[3,6,9]]) # 이차원 리스트"
   ]
  },
  {
   "cell_type": "code",
   "execution_count": 82,
   "id": "a73ba928-4241-4f1e-885d-41f2aea15206",
   "metadata": {},
   "outputs": [
    {
     "data": {
      "text/plain": [
       "'2019-9-6'"
      ]
     },
     "execution_count": 82,
     "metadata": {},
     "output_type": "execute_result"
    }
   ],
   "source": [
    "#6\n",
    "date_info = {'year':'2019', 'month':'9', 'day':'6'}\n",
    "result = '{year}-{month}-{day}'.format(**date_info)\n",
    "# ** 연산자는 딕셔너리를 언패킹-> year,month,day에 대한 value가 format 함수의 인자로 각각 들어가게 됨\n",
    "result"
   ]
  },
  {
   "cell_type": "code",
   "execution_count": 28,
   "id": "8fcb3e6b-6875-48a8-8170-eaa90597de43",
   "metadata": {},
   "outputs": [
    {
     "data": {
      "text/plain": [
       "{2, 3}"
      ]
     },
     "execution_count": 28,
     "metadata": {},
     "output_type": "execute_result"
    }
   ],
   "source": [
    "#7\n",
    "is_equal_size = lambda vectors: len(set(map(len, vectors))) == 1\n",
    "a = [[1,2,3],[4,5,6],[8,9]]\n",
    "# vectors가 들어오면 map함수를 이용해 각각의 vector에 len이라는 함수를 mapping\n",
    "# 중복 제거 후 다시 len 함수를 이용해 개수를 알아내서 개수가 하나라면 \n",
    "# 크기가 동일하다고 판단 -> True\n",
    "set(map(len, a))\n",
    "\n"
   ]
  },
  {
   "cell_type": "code",
   "execution_count": 88,
   "id": "91dfac39-9734-41ad-8c63-f10e00177e18",
   "metadata": {},
   "outputs": [
    {
     "data": {
      "text/plain": [
       "[5, 10, 15, 20]"
      ]
     },
     "execution_count": 88,
     "metadata": {},
     "output_type": "execute_result"
    }
   ],
   "source": [
    "#8\n",
    "def scalar_vector_product(scalar, vector):\n",
    "    return [scalar * i for i in vector] # 리스트 컴프리핸션을 사용해 벡터에 있는 각각의 요소를 scalar와 곱함\n",
    "\n",
    "scalar_vector_product(5, [1,2,3,4])"
   ]
  },
  {
   "cell_type": "code",
   "execution_count": 2,
   "id": "a4fb0221-c932-444c-8649-a44be5fd7db0",
   "metadata": {},
   "outputs": [
    {
     "data": {
      "text/plain": [
       "[[4, 9], [7, 4]]"
      ]
     },
     "execution_count": 2,
     "metadata": {},
     "output_type": "execute_result"
    }
   ],
   "source": [
    "#9\n",
    "def matrix_addition(*b): # * 연산자는 임의의 개수를 인자로 받을 수 있음\n",
    "    return [[sum(element) for element in zip(*a)] for a in zip(*b)] \n",
    "    # zip(*b)를 이용하여 같은 행에 있는 요소를 튜플로 묶음 -> [([2, 5], [2, 4]), ([2, 1], [5, 3])]\n",
    "    # zip(*a)를 이용하여 같은 열에 있는 요소를 묶은 후 sum()을 이용해 더해줌\n",
    "matrix_y = [[2,5],[2,1]]\n",
    "matrix_z = [[2,4],[5,3]]\n",
    "matrix_addition(matrix_y, matrix_z)"
   ]
  },
  {
   "cell_type": "code",
   "execution_count": 28,
   "id": "61be16f0-73dc-40da-88a6-bad6565f4d52",
   "metadata": {},
   "outputs": [
    {
     "name": "stdout",
     "output_type": "stream",
     "text": [
      "[-1, -1]\n",
      "[-13, -6]\n"
     ]
    }
   ],
   "source": [
    "#10\n",
    "def vector_subtraction(a, *b): # * 연산자는 임의의 개수를 인자로 받을 수 있음\n",
    "    sub = [sum(c) for c in zip(*b)]\n",
    "    return [x-y for x,y in zip(a, sub)]\n",
    "\n",
    "print(vector_subtraction([1,3],[2,4]))\n",
    "print(vector_subtraction([1,5],[10,4],[4,7]))\n",
    "# 2개 이상의 벡터를 받을 수 있기 때문에 a로 하나의 벡터를 받로 *b로 그 이후의 벡터들을 받음\n",
    "# [1,5]-[10,4]-[4,7] 보다는 두번째 이후의 벡터들을 모두 더한 다음 첫번째 벡터에 빼는 것이 계산 상 편리\n",
    "# zip(*b)를 이용해 두번째 이후의 벡터들을 열로 묶은 후 더해줌 -> sub에 저장\n",
    "# zip(a,sub)를 이용해 열로 묶은 다음 두 값을 서로 빼주면 아래와 같은 결과가 나옴"
   ]
  },
  {
   "cell_type": "markdown",
   "id": "c2a1636d-f6ae-4862-86c8-7418d44d9656",
   "metadata": {},
   "source": [
    "# 객체지향 프로그래밍"
   ]
  },
  {
   "cell_type": "code",
   "execution_count": 45,
   "id": "857ecb99-5155-4c10-8d76-dae5228beedd",
   "metadata": {},
   "outputs": [
    {
     "name": "stdout",
     "output_type": "stream",
     "text": [
      "Korean\n",
      "English\n",
      "I'm Groot!\n"
     ]
    }
   ],
   "source": [
    "#2 \n",
    "class Person(object):\n",
    "    def __init__(self, name):\n",
    "        self.name = name\n",
    "\n",
    "    def language(self): # language 메서드가 추상 메서드로 정의 -> 하위 클래스에서 구현\n",
    "        pass\n",
    "\n",
    "class Earthling(Person):              # Person class를 상속하는 Earthling과 Groot\n",
    "    def language(self, language):\n",
    "        return language\n",
    "\n",
    "class Groot(Person):\n",
    "    def language(self, language):\n",
    "        return \"I'm Groot!\"\n",
    "\n",
    "name = ['Gachon', 'Dr.Strange', 'Groot']\n",
    "country = ['Korea', 'USA', 'Galaxy']\n",
    "language = ['Korean', 'English', 'Groot']\n",
    "\n",
    "#각 이름에 대한 국적의 언어를 출력\n",
    "for idx, name in enumerate(name): # enumerate()는 인덱스와 값을 포함하여 반환\n",
    "    if country[idx].upper() != 'GALAXY': \n",
    "        person = Earthling(name) # Earthling 클래스의 객체를 생성 -> 그에 맞는 언어를 출력\n",
    "        print(person.language(language[idx]))\n",
    "\n",
    "    else:\n",
    "        groot = Groot(name)\n",
    "        print(groot.language(language[idx]))\n"
   ]
  },
  {
   "cell_type": "code",
   "execution_count": 7,
   "id": "76fa6f0c-4f4f-49a8-a6ff-5713fa38a5ce",
   "metadata": {},
   "outputs": [
    {
     "name": "stdout",
     "output_type": "stream",
     "text": [
      "720\n"
     ]
    }
   ],
   "source": [
    "#3\n",
    "from factorial_calculator import factorial\n",
    "print(factorial_calculator.factorial(6))\n",
    "\n",
    "# NameError\n",
    "# factorial_calculator 모듈에서 factorial 함수만 가져왔기 때문에, 모듈 자체 이름은 사용할 수 X\n",
    "# 출력하려면 factorial(6)이 맞음\n",
    "\n",
    "# 만약 아래와 같은 출력문을 사용하려면 factorial_calculator 모듈 전체를 import 해야 됨\n",
    "\n",
    "# import factorial_calculator\n",
    "# print(factorial_calculator.factorial(6))"
   ]
  },
  {
   "cell_type": "code",
   "execution_count": 2,
   "id": "db097b44-f35f-4e81-a304-bdd4383b980e",
   "metadata": {},
   "outputs": [
    {
     "name": "stdout",
     "output_type": "stream",
     "text": [
      "현재 선수의 등번호는: 10\n",
      "현재 선수의 등번호는: 5\n"
     ]
    }
   ],
   "source": [
    "#4\n",
    "class SoccerPlayer(object):\n",
    "    def __init__(self, name, position, back_number):\n",
    "        self.name = name\n",
    "        self.position = position\n",
    "        self.back_number = back_number\n",
    "\n",
    "    def change_back_number(self, back_number):\n",
    "        self.back_number = back_number\n",
    "\n",
    "jinhyun = SoccerPlayer('jinhyun', 'MF', 10) # SoccerPlayer class의 jinhyun이라는 객체를 생성 -> 초기값 넣어줌\n",
    "print(\"현재 선수의 등번호는:\", jinhyun.back_number) #등번호 출력\n",
    "jinhyun.change_back_number(5)\n",
    "print(\"현재 선수의 등번호는:\", jinhyun.back_number)"
   ]
  },
  {
   "cell_type": "code",
   "execution_count": 1,
   "id": "9ab5fda6-e07f-48a2-8609-7f8559046760",
   "metadata": {},
   "outputs": [],
   "source": [
    "#5\n",
    "class Class(object):\n",
    "    def __init__(self, name, score):\n",
    "        self.name = name\n",
    "        self.score = score\n",
    "\n",
    "class Math(Class):\n",
    "    def say():\n",
    "        print(\"힘내\")\n",
    "\n",
    "# Math class 인자에 Class라는 클래스를 넣음 -> 상속 O\n",
    "# 다형성 : 같은 이름의 메서드가 다른 기능을 하는 것 -> 같은 이름이 없음 X\n",
    "# 가시성 : 객체의 정보를 숨기는 것으로 __를 이용해 클래스 내부에서만 변수에 접근 -> X\n",
    "# 인스턴스 : 클래스를 이용하여 객체를 생성하는 것 -> 객체를 생성하지 x\n",
    "# 속성 : __init__()를 이용하여 name과 score의 속성 초기화 -> O\n"
   ]
  },
  {
   "cell_type": "code",
   "execution_count": 2,
   "id": "9adc2dfe-a905-4e95-95ab-b721a528f687",
   "metadata": {},
   "outputs": [],
   "source": [
    "#6\n",
    "#붕어빵틀: 클래스(객체를 생성하기 위한 틀)\n",
    "#붕어빵: 인스턴스(클래스를 기반으로 생성된 객체)"
   ]
  },
  {
   "cell_type": "code",
   "execution_count": 5,
   "id": "56809b5a-f227-4953-84b0-6a258fdfe8b5",
   "metadata": {},
   "outputs": [
    {
     "name": "stdout",
     "output_type": "stream",
     "text": [
      "My name is Thanos and my weapon is infinity gauntlet.\n"
     ]
    }
   ],
   "source": [
    "#7\n",
    "class Marvel(object):\n",
    "    def __init__(self, name, characteristic):\n",
    "        self.name = name\n",
    "        self.characteristic = characteristic\n",
    "\n",
    "    def __str__(self):\n",
    "        return \"My name is {0} and my weapon is {1}.\".format(self.name, self.characteristic)\n",
    "\n",
    "class Villain(Marvel):  # Marvel 클래스를 상속 받음 -> 모든 속성과 메서드 상속 받음\n",
    "    pass\n",
    "\n",
    "first_villain = Villain(\"Thanos\", \"infinity gauntlet\") # Villain 클래스를 이용해 first_villain이라는 인스턴스 생성\n",
    "print(first_villain) # __str__로 인해 인스턴스가 문자열로 변환되어 출력"
   ]
  },
  {
   "cell_type": "code",
   "execution_count": 9,
   "id": "233bcb8a-62f6-426f-b14f-27e524b04e06",
   "metadata": {},
   "outputs": [
    {
     "name": "stdout",
     "output_type": "stream",
     "text": [
      "LG에서 만든 2019년형 32인치TV\n",
      "Samsung에서 만든 2018년형 15인치노트북\n"
     ]
    }
   ],
   "source": [
    "#8\n",
    "class TV(object):\n",
    "    def __init__(self, size, year, company):\n",
    "        self.size = size\n",
    "        self.year = year\n",
    "        self.company = company\n",
    "\n",
    "    def describe(self):\n",
    "        print(self.company + \"에서 만든 \" + self.year + \"년형 \" + self.size + \"인치\" + \"TV\")\n",
    "\n",
    "class Laptop(TV): # TV라는 클래스를 상속 받음\n",
    "    def describe(self):\n",
    "        print(self.company + \"에서 만든 \" + self.year + \"년형 \" + self.size + \"인치\" + \"노트북\")\n",
    "\n",
    "LG_TV = TV('32', '2019', 'LG')\n",
    "LG_TV.describe()\n",
    "\n",
    "samsung_microwave = Laptop('15', '2018', 'Samsung') # Laptop 클래스에서 describe 함수를 오버라이딩(재정의)\n",
    "samsung_microwave.describe()\n",
    "\n",
    "# 상속, 다형성의 예"
   ]
  },
  {
   "cell_type": "code",
   "execution_count": 1,
   "id": "dbb818cd-c3e3-452d-a7a1-547aab4076ce",
   "metadata": {},
   "outputs": [
    {
     "name": "stdout",
     "output_type": "stream",
     "text": [
      "None F 72.0 F\n"
     ]
    }
   ],
   "source": [
    "#10\n",
    "class Score:\n",
    "    def __init__(self, student):\n",
    "        tmp = student.split(',')  # student를 , 기준으로 나눠서 각각 변수에 저장\n",
    "        self.name = tmp[0]\n",
    "        self.midterm = int(tmp[1])\n",
    "        self.final = int(tmp[2])\n",
    "        self.assignment = int(tmp[3])\n",
    "        self.score = None\n",
    "        self.grade = None\n",
    "\n",
    "    def total_score(self): # self.score를 계산하는 함수, 반환 X\n",
    "        test_score = ((self.midterm + self.final)/2)*0.8\n",
    "\n",
    "        if self.assignment >= 3:\n",
    "            assign_score = 20\n",
    "        elif self.assignment >= 2:\n",
    "            assign_score = 10\n",
    "        elif self.assignment >= 1:\n",
    "            assign_score = 5\n",
    "        else:\n",
    "            assign_score = 0\n",
    "\n",
    "        self.score = test_score + assign_score\n",
    "\n",
    "    def total_grade(self): # self.grade를 매기는 함수, grade를 반환\n",
    "        if self.assignment == 0:\n",
    "            grade = 'F'\n",
    "        elif self.score >= 90:\n",
    "            grade = 'A'\n",
    "        elif self.score >= 70:\n",
    "            grade = 'B'\n",
    "        elif self.score >= 60:\n",
    "            grade = 'C'\n",
    "        else:\n",
    "            grade = 'F'\n",
    "\n",
    "        self.grade = grade\n",
    "        return grade\n",
    "\n",
    "student_john = Score('john,90,90,0') \n",
    "aa = student_john.total_score() # None\n",
    "bb = student_john.total_grade() # F\n",
    "print(aa,bb,student_john.score, student_john.grade) # None, F, 72, F"
   ]
  },
  {
   "cell_type": "code",
   "execution_count": 3,
   "id": "c2325a50-5de5-4292-80bc-32ece67b3314",
   "metadata": {},
   "outputs": [
    {
     "name": "stdout",
     "output_type": "stream",
     "text": [
      "아이스크림을 레인보우 샤베트에서 바람과 함께 사라지다로 변경해주세요.\n",
      "아이스크림 맛을 바람과 함께 사라지다로 변경해드렸어요.\n"
     ]
    }
   ],
   "source": [
    "#11\n",
    "class IceCream(object):\n",
    "    def __init__(self, flavor):\n",
    "        self.flavor = flavor\n",
    "\n",
    "    def change_flavor(self, new_flavor):\n",
    "        print(\"아이스크림을 %s에서 %s로 변경해주세요.\" %(self.flavor, new_flavor))\n",
    "        self.flavor = new_flavor\n",
    "        print(\"아이스크림 맛을 %s로 변경해드렸어요.\" %self.flavor)\n",
    "\n",
    "ice_cream = IceCream('레인보우 샤베트') \n",
    "ice_cream.change_flavor('바람과 함께 사라지다')\n",
    "# 처음에는 현재 맛과 새로운 맛을 포함한 메시지가 출력\n",
    "# 그 다음에는 변경된 맛을 알리는 메시지가 출력됩니다."
   ]
  },
  {
   "cell_type": "code",
   "execution_count": 4,
   "id": "e2560dad-1b15-4b4c-87c5-258effa5fa60",
   "metadata": {},
   "outputs": [
    {
     "name": "stdout",
     "output_type": "stream",
     "text": [
      "Mineral: 72\n"
     ]
    }
   ],
   "source": [
    "#12\n",
    "class Terran(object):\n",
    "    def __init__(self, mineral):\n",
    "        self.scv = 4\n",
    "        self.marine = 0\n",
    "        self.medic = 0\n",
    "        self.mineral = mineral\n",
    "\n",
    "    def command(self, SCV=False):\n",
    "        self.mineral += 8 * self.scv\n",
    "        if SCV:\n",
    "            self.scv += 1\n",
    "            self.mineral -= 10\n",
    "\n",
    "    def barrack(self, Marine=False, Medic=False):\n",
    "        self.mineral += 8 * self.scv\n",
    "        if Marine:\n",
    "            self.marine += 1\n",
    "            self.mineral -= 15\n",
    "        if Medic:\n",
    "            self.medic += 1\n",
    "            self.mineral -= 25\n",
    "\n",
    "    def check_source(self):\n",
    "        print(\"Mineral: \" + str(self.mineral))\n",
    "\n",
    "User = Terran(50) # mineral 속성에 50 값을 넣어줌\n",
    "User.command(True) # mineral 82-10 = 72, scv 5\n",
    "User.barrack(True, True) # mineral 112-15-25 = 72 marine 1, medic 1\n",
    "User.check_source() # mineral 72\n"
   ]
  },
  {
   "cell_type": "markdown",
   "id": "781b5dd1-eb84-4d40-8a7e-5e4b23603d6e",
   "metadata": {},
   "source": [
    "# 모듈과 패키지"
   ]
  },
  {
   "cell_type": "code",
   "execution_count": 3,
   "id": "7e45eff0-14e4-4a02-8a4b-4f2e72b0e1ab",
   "metadata": {},
   "outputs": [],
   "source": [
    "# 패키지(폴더) - 모듈(파일) - 함수"
   ]
  },
  {
   "cell_type": "code",
   "execution_count": 4,
   "id": "5ba7fe13-9b27-4f8f-ae4e-76369f8f857d",
   "metadata": {},
   "outputs": [],
   "source": [
    "#1\n",
    "# 3번 -> 개별 .py 파일을 의미하는 것은 모듈이다."
   ]
  },
  {
   "cell_type": "code",
   "execution_count": 1,
   "id": "9d5fd73c-99a6-477a-9d31-0cb334c127c5",
   "metadata": {},
   "outputs": [],
   "source": [
    "#2\n",
    "# 패키지 만드는 단계\n",
    "\n",
    "# game이라는 디렉토리 만듦\n",
    "# graphic, play, sound 라는 디렉토리 만든 후 각 다렉토리 안에 .py라는 모듈을 만들어줬음\n",
    "# 디렉토리 별로 __init__.py 구성\n",
    "# __main__.py 파일 만든 후 실행\n",
    "\n",
    "#3번"
   ]
  },
  {
   "cell_type": "code",
   "execution_count": 10,
   "id": "013db0db-bc36-4200-942f-dc44d8a34401",
   "metadata": {},
   "outputs": [],
   "source": [
    "#3\n",
    "# import fah_converter as fah \n",
    "# fah_converter라는 모듈을 가져오는데 현재 파일에서는 fah라는 이름으로 사용하겠다는 뜻\n",
    "\n",
    "\n",
    "# fahreheit = fah.convert_c_to_f(celsius) # fah에 있는 convert_c_to_f라는 함수에 접근\n"
   ]
  },
  {
   "cell_type": "code",
   "execution_count": 3,
   "id": "8f82dd1f-f1cc-474e-b936-20bab6c68e23",
   "metadata": {},
   "outputs": [],
   "source": [
    "#4\n",
    "# from game.graphic import render\n"
   ]
  },
  {
   "cell_type": "code",
   "execution_count": 4,
   "id": "7ed714b6-9d13-4c9f-865a-41d7379836a7",
   "metadata": {},
   "outputs": [
    {
     "name": "stdin",
     "output_type": "stream",
     "text": [
      " 4\n"
     ]
    },
    {
     "name": "stdout",
     "output_type": "stream",
     "text": [
      "a + b4\n"
     ]
    }
   ],
   "source": [
    "#5\n",
    "# %%writefile sample.py\n",
    "def test():\n",
    "    c = input() # -> 4가 저장\n",
    "    a = 1\n",
    "    b = 4\n",
    "    print(\"a + b\" + c) # a+b는 수식이 아닌 문자열\n",
    "\n",
    "import sample as gc #sample이라는 모듈을 gc로 변경\n",
    "gc.test()"
   ]
  },
  {
   "cell_type": "code",
   "execution_count": 6,
   "id": "5a101be2-e385-46e6-9f5f-93dc7df95393",
   "metadata": {},
   "outputs": [],
   "source": [
    "#6\n",
    "# 1. os라는 모듈을 import\n",
    "# 3. os 모듈에서 listdir 이라는 함수를 import\n",
    "# 4. os 모듈로부터 모든 함수를 import\n",
    "# 5. os라는 모듈을 import 하는데 이름을 linuxos로 변경함\n",
    "\n",
    "# 2번"
   ]
  },
  {
   "cell_type": "code",
   "execution_count": 10,
   "id": "fc456c55-f0bc-49fa-a3e3-c815a8f03c75",
   "metadata": {},
   "outputs": [
    {
     "name": "stdin",
     "output_type": "stream",
     "text": [
      "사칙연산 프로그램:  5 * 4\n"
     ]
    },
    {
     "name": "stdout",
     "output_type": "stream",
     "text": [
      "실행 결과는 20\n"
     ]
    }
   ],
   "source": [
    "#7\n",
    "# %%writefile calculator.py\n",
    "# def sum_func(a,b):\n",
    "#     return a+b\n",
    "\n",
    "# def multiply_func(a,b):\n",
    "#     return a * b\n",
    "\n",
    "# def minus_func(a,b):\n",
    "#     return a - b\n",
    "\n",
    "# def devide_func(a,b):\n",
    "#     return a / b\n",
    "\n",
    "\n",
    "from calculator import * # 답\n",
    "\n",
    "user_input = input(\"사칙연산 프로그램: \").split(\" \") # ['5', '*', '4']\n",
    "first_val, second_val = int(user_input[0]), int(user_input[2]) # 5, 4\n",
    "fourcal = user_input[1] # *\n",
    "\n",
    "if fourcal == '+':\n",
    "    result = sum_func(first_val, second_val)\n",
    "\n",
    "elif fourcal == '-':\n",
    "    result = minus_func(first_val, second_val)\n",
    "\n",
    "elif fourcal == '/':\n",
    "    result = devide_func(first_val, second_val)\n",
    "\n",
    "else:\n",
    "    result = multiply_func(first_val, second_val)\n",
    "\n",
    "print('실행 결과는', result)\n"
   ]
  },
  {
   "cell_type": "code",
   "execution_count": 14,
   "id": "372e47bd-7615-4c08-ae20-da78b64a306a",
   "metadata": {},
   "outputs": [
    {
     "name": "stdin",
     "output_type": "stream",
     "text": [
      " 2\n"
     ]
    },
    {
     "name": "stdout",
     "output_type": "stream",
     "text": [
      "user_input\n"
     ]
    }
   ],
   "source": [
    "#8\n",
    "# %%writefile quiz.py\n",
    "# def quiz():\n",
    "#     user_input = input()\n",
    "#     if int(user_input) > 3:\n",
    "#         print(user_input)\n",
    "\n",
    "#     else:                      # 2를 입력했을 때 3보다 작으므로 else문이 출력\n",
    "#         print(\"user_input\") \n",
    "\n",
    "import quiz as q\n",
    "q.quiz()"
   ]
  },
  {
   "cell_type": "code",
   "execution_count": 15,
   "id": "90818b73-9d80-45de-973b-349bb2acf2b1",
   "metadata": {},
   "outputs": [],
   "source": [
    "#9"
   ]
  },
  {
   "cell_type": "code",
   "execution_count": 16,
   "id": "ffefe7cb-7d17-40b1-8780-fc9e8b67b1bf",
   "metadata": {},
   "outputs": [],
   "source": [
    "#10\n",
    "# alias는 모듈의 이름을 바꿔 부를 때 사용하며, 모듈이 이름이 너무 길거나 다른 코드와 헷갈릴 때 주로 사용함"
   ]
  },
  {
   "cell_type": "markdown",
   "id": "df7a77b3-662f-44bd-a98b-bf720aea315f",
   "metadata": {},
   "source": [
    "# 예외 처리와 파일"
   ]
  },
  {
   "cell_type": "code",
   "execution_count": 6,
   "id": "cdf017a4-9e87-4d6d-be22-137529a4264f",
   "metadata": {},
   "outputs": [],
   "source": [
    "#1\n",
    "# with open(\"hello_python.txt\", 'w', encoding='utf-8') as f:\n",
    "#     f.write('hello, world!\\n')\n",
    "\n",
    "f = open(\"hello_python.txt\", 'a', encoding='utf-8') # 추가모드 a, utf-8 모드를 이용하여 파일 쓰기\n",
    "f.write('hello, python!')\n",
    "f.close()"
   ]
  },
  {
   "cell_type": "code",
   "execution_count": 10,
   "id": "d49d3667-e51c-472e-b7d6-eae9b9a0c019",
   "metadata": {},
   "outputs": [
    {
     "ename": "AssertionError",
     "evalue": "output value must be transformed integer.",
     "output_type": "error",
     "traceback": [
      "\u001b[1;31m---------------------------------------------------------------------------\u001b[0m",
      "\u001b[1;31mAssertionError\u001b[0m                            Traceback (most recent call last)",
      "Cell \u001b[1;32mIn[10], line 9\u001b[0m\n\u001b[0;32m      5\u001b[0m     \u001b[38;5;28;01massert\u001b[39;00m \u001b[38;5;28misinstance\u001b[39m(result, \u001b[38;5;28mint\u001b[39m), \u001b[38;5;124m'\u001b[39m\u001b[38;5;124moutput value must be transformed integer.\u001b[39m\u001b[38;5;124m'\u001b[39m\n\u001b[0;32m      7\u001b[0m     \u001b[38;5;28;01mreturn\u001b[39;00m result\n\u001b[1;32m----> 9\u001b[0m \u001b[38;5;28mprint\u001b[39m(\u001b[43mget_half_value\u001b[49m\u001b[43m(\u001b[49m\u001b[38;5;241;43m50\u001b[39;49m\u001b[43m)\u001b[49m)\n",
      "Cell \u001b[1;32mIn[10], line 5\u001b[0m, in \u001b[0;36mget_half_value\u001b[1;34m(number)\u001b[0m\n\u001b[0;32m      3\u001b[0m \u001b[38;5;28;01massert\u001b[39;00m \u001b[38;5;28misinstance\u001b[39m(number, \u001b[38;5;28mint\u001b[39m), \u001b[38;5;124m'\u001b[39m\u001b[38;5;124minput value must be integer.\u001b[39m\u001b[38;5;124m'\u001b[39m\n\u001b[0;32m      4\u001b[0m result \u001b[38;5;241m=\u001b[39m number \u001b[38;5;241m/\u001b[39m \u001b[38;5;241m2\u001b[39m\n\u001b[1;32m----> 5\u001b[0m \u001b[38;5;28;01massert\u001b[39;00m \u001b[38;5;28misinstance\u001b[39m(result, \u001b[38;5;28mint\u001b[39m), \u001b[38;5;124m'\u001b[39m\u001b[38;5;124moutput value must be transformed integer.\u001b[39m\u001b[38;5;124m'\u001b[39m\n\u001b[0;32m      7\u001b[0m \u001b[38;5;28;01mreturn\u001b[39;00m result\n",
      "\u001b[1;31mAssertionError\u001b[0m: output value must be transformed integer."
     ]
    }
   ],
   "source": [
    "#3\n",
    "def get_half_value(number):\n",
    "    assert isinstance(number, int), 'input value must be integer.'\n",
    "    result = number / 2\n",
    "    assert isinstance(result, int), 'output value must be transformed integer.'\n",
    "\n",
    "    return result\n",
    "\n",
    "print(get_half_value(50))"
   ]
  },
  {
   "cell_type": "code",
   "execution_count": 12,
   "id": "c58a417d-72eb-4dbe-9ca1-5527fb5c75e3",
   "metadata": {},
   "outputs": [
    {
     "name": "stdout",
     "output_type": "stream",
     "text": [
      "5\n"
     ]
    }
   ],
   "source": [
    "#4\n",
    "def sum_data(list_data_a, list_data_b):\n",
    "    for i in list_data_a:\n",
    "        for j in list_data_b:\n",
    "            result = i + j\n",
    "        return result\n",
    "\n",
    "a = [1,2]\n",
    "b = [3,4]\n",
    "\n",
    "print(sum_data(a,b)) # 5"
   ]
  },
  {
   "cell_type": "code",
   "execution_count": 14,
   "id": "ea037157-09b5-44b0-a9ff-9682b70f9e4f",
   "metadata": {},
   "outputs": [
    {
     "name": "stdout",
     "output_type": "stream",
     "text": [
      "7\n",
      "3\n",
      "2\n",
      "1\n",
      "1\n",
      "1\n",
      "종료되었습니다.\n"
     ]
    }
   ],
   "source": [
    "#5\n",
    "try:\n",
    "    for i in range(1,7):\n",
    "        result = 7 // i\n",
    "        print(result)\n",
    "except ZeroDivisionError:\n",
    "    print(\"Not divided by 0\")\n",
    "finally:\n",
    "    print(\"종료되었습니다.\")\n",
    "\n",
    "# 7 3 2 1 1 1"
   ]
  },
  {
   "cell_type": "code",
   "execution_count": 22,
   "id": "1b90bf72-439b-492a-b653-6516e63d3878",
   "metadata": {},
   "outputs": [
    {
     "name": "stdout",
     "output_type": "stream",
     "text": [
      "H\n",
      "e\n",
      "l\n",
      "l\n",
      "o\n",
      " \n",
      "G\n",
      "a\n",
      "c\n",
      "h\n",
      "o\n",
      "n\n",
      "pop from empty list\n"
     ]
    }
   ],
   "source": [
    "#6\n",
    "sentence = list(\"Hello Gachon\")\n",
    "while (len(sentence)+1):\n",
    "    try:\n",
    "        print(sentence.pop(0))\n",
    "    except Exception as e:\n",
    "        print(e)\n",
    "        break\n",
    "\n",
    "# pop from empty list"
   ]
  },
  {
   "cell_type": "code",
   "execution_count": 4,
   "id": "d72d452f-1bb3-4f43-a64c-e1a5fe83df2f",
   "metadata": {},
   "outputs": [
    {
     "name": "stdout",
     "output_type": "stream",
     "text": [
      "0 ('a', 'b')\n",
      "1 ('1', '2')\n",
      "2 ('c', 'd')\n"
     ]
    }
   ],
   "source": [
    "# alist = ['a', '1', 'c']\n",
    "# blist = ['b', '2', 'd']\n",
    "# for a, b in enumerate(zip(alist,blist)):\n",
    "#     print(b[a]) \n",
    "\n",
    "alist = ['a', '1', 'c']\n",
    "blist = ['b', '2', 'd']\n",
    "\n",
    "for a,b in enumerate(zip(alist, blist)):\n",
    "    # print(a/int(b[0]))\n",
    "    print(a, b)\n",
    "\n",
    "#IndexError -> 인덱스 넘어감 , ValueError -> 문자를 나눔"
   ]
  },
  {
   "cell_type": "code",
   "execution_count": 31,
   "id": "0a103263-c377-4055-b37c-b098a29d1157",
   "metadata": {},
   "outputs": [],
   "source": [
    "#8\n",
    "# SyntaxError: 파이썬에 정의된 문법에 맞지 않는 코드가 사용되는 경우\n",
    "\n",
    "#9\n",
    "# 3번 -> 굳이 10개 이상일 필욘 없음\n",
    "\n",
    "#10\n",
    "# 4번 -> 텍스트 파일에 있는 문자열 값을 이진수로 변경하여 처리"
   ]
  },
  {
   "cell_type": "code",
   "execution_count": 38,
   "id": "5dcbaebc-43bb-4009-93c2-8acc96e3b860",
   "metadata": {},
   "outputs": [
    {
     "name": "stdin",
     "output_type": "stream",
     "text": [
      "숫자를 넣어 주세요 :  a\n"
     ]
    },
    {
     "name": "stdout",
     "output_type": "stream",
     "text": [
      "숫자가 아닙니다\n"
     ]
    }
   ],
   "source": [
    "#11\n",
    "import random\n",
    "answer = random.randint(1,10)\n",
    "def guess_number(answer):\n",
    "    try:\n",
    "        guess = int(input(\"숫자를 넣어 주세요 : \"))\n",
    "        if answer == guess:\n",
    "            print(\"정답!\")\n",
    "        else:\n",
    "            print(\"틀렸습니다.\")\n",
    "    except ValueError:\n",
    "        print(\"숫자가 아닙니다\")\n",
    "\n",
    "guess_number(answer)\n",
    "\n",
    "# 문자를 int화 시킬때 변환할 수 없으므로 ValueError 발생 -> except문 실행"
   ]
  },
  {
   "cell_type": "code",
   "execution_count": 39,
   "id": "ed8694fc-b2c7-4255-843e-880f0dea1f17",
   "metadata": {},
   "outputs": [
    {
     "name": "stdout",
     "output_type": "stream",
     "text": [
      "Not divided by 0\n",
      "1 3\n",
      "2 1\n"
     ]
    }
   ],
   "source": [
    "#12\n",
    "for i in range(3):\n",
    "    try:\n",
    "        print(i, 3//i)\n",
    "    except ZeroDivisionError:\n",
    "        print(\"Not divided by 0\")\n",
    "\n",
    "# \"Not divided by 0\"\n",
    "# 1 3\n",
    "# 2 1"
   ]
  },
  {
   "cell_type": "code",
   "execution_count": 41,
   "id": "b6e9c8ac-2640-434c-9a3a-66364be7362c",
   "metadata": {},
   "outputs": [],
   "source": [
    "#13\n",
    "with open(\"i_have_a_dream.txt\", \"r\") as f:\n",
    "    contents = f.read()\n",
    "    print(contents)\n"
   ]
  },
  {
   "cell_type": "code",
   "execution_count": 42,
   "id": "89adadbf-a1f4-4ca0-ba6a-beff0a3a0f21",
   "metadata": {},
   "outputs": [],
   "source": [
    "#14\n",
    "# 3번 -> 텍스트 파일은 사람과 컴퓨터 모두가 이해할 수 있는 형태인 문자열로 변경하여 저장\n",
    "#     -> 이후 컴퓨터는 문자열을 이진수로 변경하여 이해함"
   ]
  },
  {
   "cell_type": "markdown",
   "id": "15932022-f99b-4d6e-a56f-e035c724f7ea",
   "metadata": {},
   "source": [
    "# CSV와 로그 관리"
   ]
  },
  {
   "cell_type": "code",
   "execution_count": 4,
   "id": "89dc0651-db3e-41dc-9812-69fdfb748528",
   "metadata": {},
   "outputs": [],
   "source": [
    "#1\n",
    "# (가): ','\n",
    "# (나): './transfer.tsv'\n",
    "# (다): '\\t'\n",
    "# (라): reader\n",
    "# (마): writerow"
   ]
  },
  {
   "cell_type": "code",
   "execution_count": 5,
   "id": "7cc5d450-232e-44a8-a8d1-4611ae4ead3f",
   "metadata": {},
   "outputs": [],
   "source": [
    "#2\n",
    "# (가): 'techusa.csv', 'r'\n",
    "# (나): techusa.readline()\n",
    "# (다): ','\n",
    "# (라): lifelock"
   ]
  },
  {
   "cell_type": "code",
   "execution_count": 6,
   "id": "a543d7f1-8f16-45fc-87d9-4835b35dec28",
   "metadata": {},
   "outputs": [
    {
     "name": "stdout",
     "output_type": "stream",
     "text": [
      "['lifelock', 'LofeLock', '', 'web', 'Tempe', 'AZ', '1-Oct-06', '6000000', 'USD', 'a\\n']\n"
     ]
    }
   ],
   "source": [
    "line_counter = 0\n",
    "data_header = []\n",
    "techusa_list = []\n",
    "\n",
    "with open('techusa.csv', 'r') as techusa:\n",
    "    while True:\n",
    "        data = techusa.readline()\n",
    "\n",
    "        if not data:\n",
    "            break\n",
    "\n",
    "        if line_counter == 0:\n",
    "            data_header = data.split(',')\n",
    "        else:\n",
    "            techusa_list.append(data.split(','))\n",
    "\n",
    "        line_counter += 1\n",
    "# print(techusa_list[1][0])\n",
    "# print(data_header)\n",
    "print(techusa_list[1])"
   ]
  },
  {
   "cell_type": "markdown",
   "id": "770999a8-ec87-4970-8367-1325fd3f0c24",
   "metadata": {},
   "source": [
    "# 데이터 분석"
   ]
  },
  {
   "cell_type": "code",
   "execution_count": 2,
   "id": "00ddf026-6b97-48e0-bc07-e05ec0053192",
   "metadata": {},
   "outputs": [
    {
     "data": {
      "text/html": [
       "<div>\n",
       "<style scoped>\n",
       "    .dataframe tbody tr th:only-of-type {\n",
       "        vertical-align: middle;\n",
       "    }\n",
       "\n",
       "    .dataframe tbody tr th {\n",
       "        vertical-align: top;\n",
       "    }\n",
       "\n",
       "    .dataframe thead th {\n",
       "        text-align: right;\n",
       "    }\n",
       "</style>\n",
       "<table border=\"1\" class=\"dataframe\">\n",
       "  <thead>\n",
       "    <tr style=\"text-align: right;\">\n",
       "      <th></th>\n",
       "      <th>Names</th>\n",
       "      <th>Births</th>\n",
       "    </tr>\n",
       "  </thead>\n",
       "  <tbody>\n",
       "    <tr>\n",
       "      <th>0</th>\n",
       "      <td>Bob</td>\n",
       "      <td>968</td>\n",
       "    </tr>\n",
       "    <tr>\n",
       "      <th>1</th>\n",
       "      <td>Jessical</td>\n",
       "      <td>155</td>\n",
       "    </tr>\n",
       "    <tr>\n",
       "      <th>2</th>\n",
       "      <td>Mary</td>\n",
       "      <td>77</td>\n",
       "    </tr>\n",
       "    <tr>\n",
       "      <th>3</th>\n",
       "      <td>John</td>\n",
       "      <td>578</td>\n",
       "    </tr>\n",
       "    <tr>\n",
       "      <th>4</th>\n",
       "      <td>Mel</td>\n",
       "      <td>973</td>\n",
       "    </tr>\n",
       "  </tbody>\n",
       "</table>\n",
       "</div>"
      ],
      "text/plain": [
       "      Names  Births\n",
       "0       Bob     968\n",
       "1  Jessical     155\n",
       "2      Mary      77\n",
       "3      John     578\n",
       "4       Mel     973"
      ]
     },
     "execution_count": 2,
     "metadata": {},
     "output_type": "execute_result"
    }
   ],
   "source": [
    "import pandas as pd\n",
    "\n",
    "names = ['Bob', 'Jessical', 'Mary', 'John', 'Mel']\n",
    "births = [968, 155, 77, 578, 973]\n",
    "custom = [1, 5, 25, 13, 23232]\n",
    "\n",
    "BabyDataSet = list(zip(names,births)) # names와 births 변수를 zip함수로 묶은 뒤 list로 변환\n",
    "df = pd.DataFrame(BabyDataSet, columns=['Names','Births'])\n",
    "df.head()"
   ]
  },
  {
   "cell_type": "code",
   "execution_count": 3,
   "id": "d5269e1d-c358-4cae-875d-5747e4a50d0d",
   "metadata": {},
   "outputs": [
    {
     "data": {
      "text/plain": [
       "Names     object\n",
       "Births     int64\n",
       "dtype: object"
      ]
     },
     "execution_count": 3,
     "metadata": {},
     "output_type": "execute_result"
    }
   ],
   "source": [
    "df.dtypes"
   ]
  },
  {
   "cell_type": "code",
   "execution_count": 4,
   "id": "fba0950e-249c-4395-8c06-a9d7aeffdd95",
   "metadata": {},
   "outputs": [
    {
     "data": {
      "text/plain": [
       "RangeIndex(start=0, stop=5, step=1)"
      ]
     },
     "execution_count": 4,
     "metadata": {},
     "output_type": "execute_result"
    }
   ],
   "source": [
    "df.index"
   ]
  },
  {
   "cell_type": "code",
   "execution_count": 5,
   "id": "8ca00169-aaf4-4510-91f4-1ca60992b087",
   "metadata": {},
   "outputs": [
    {
     "data": {
      "text/plain": [
       "Index(['Names', 'Births'], dtype='object')"
      ]
     },
     "execution_count": 5,
     "metadata": {},
     "output_type": "execute_result"
    }
   ],
   "source": [
    "df.columns"
   ]
  },
  {
   "cell_type": "code",
   "execution_count": 6,
   "id": "224c91f0-a410-498c-94cf-1d48907fc4ec",
   "metadata": {},
   "outputs": [
    {
     "data": {
      "text/plain": [
       "0         Bob\n",
       "1    Jessical\n",
       "2        Mary\n",
       "3        John\n",
       "4         Mel\n",
       "Name: Names, dtype: object"
      ]
     },
     "execution_count": 6,
     "metadata": {},
     "output_type": "execute_result"
    }
   ],
   "source": [
    "df['Names'] #열을 선택"
   ]
  },
  {
   "cell_type": "code",
   "execution_count": 7,
   "id": "25a9a921-20b2-4540-a587-a06e4b4fcec9",
   "metadata": {},
   "outputs": [
    {
     "data": {
      "text/html": [
       "<div>\n",
       "<style scoped>\n",
       "    .dataframe tbody tr th:only-of-type {\n",
       "        vertical-align: middle;\n",
       "    }\n",
       "\n",
       "    .dataframe tbody tr th {\n",
       "        vertical-align: top;\n",
       "    }\n",
       "\n",
       "    .dataframe thead th {\n",
       "        text-align: right;\n",
       "    }\n",
       "</style>\n",
       "<table border=\"1\" class=\"dataframe\">\n",
       "  <thead>\n",
       "    <tr style=\"text-align: right;\">\n",
       "      <th></th>\n",
       "      <th>Names</th>\n",
       "      <th>Births</th>\n",
       "    </tr>\n",
       "  </thead>\n",
       "  <tbody>\n",
       "    <tr>\n",
       "      <th>0</th>\n",
       "      <td>Bob</td>\n",
       "      <td>968</td>\n",
       "    </tr>\n",
       "    <tr>\n",
       "      <th>1</th>\n",
       "      <td>Jessical</td>\n",
       "      <td>155</td>\n",
       "    </tr>\n",
       "    <tr>\n",
       "      <th>2</th>\n",
       "      <td>Mary</td>\n",
       "      <td>77</td>\n",
       "    </tr>\n",
       "  </tbody>\n",
       "</table>\n",
       "</div>"
      ],
      "text/plain": [
       "      Names  Births\n",
       "0       Bob     968\n",
       "1  Jessical     155\n",
       "2      Mary      77"
      ]
     },
     "execution_count": 7,
     "metadata": {},
     "output_type": "execute_result"
    }
   ],
   "source": [
    "df[0:3] #행을 선택"
   ]
  },
  {
   "cell_type": "code",
   "execution_count": 8,
   "id": "33eeedba-8cb4-4769-a441-3e2c7472dabb",
   "metadata": {},
   "outputs": [
    {
     "data": {
      "text/html": [
       "<div>\n",
       "<style scoped>\n",
       "    .dataframe tbody tr th:only-of-type {\n",
       "        vertical-align: middle;\n",
       "    }\n",
       "\n",
       "    .dataframe tbody tr th {\n",
       "        vertical-align: top;\n",
       "    }\n",
       "\n",
       "    .dataframe thead th {\n",
       "        text-align: right;\n",
       "    }\n",
       "</style>\n",
       "<table border=\"1\" class=\"dataframe\">\n",
       "  <thead>\n",
       "    <tr style=\"text-align: right;\">\n",
       "      <th></th>\n",
       "      <th>Names</th>\n",
       "      <th>Births</th>\n",
       "    </tr>\n",
       "  </thead>\n",
       "  <tbody>\n",
       "    <tr>\n",
       "      <th>0</th>\n",
       "      <td>Bob</td>\n",
       "      <td>968</td>\n",
       "    </tr>\n",
       "    <tr>\n",
       "      <th>1</th>\n",
       "      <td>Jessical</td>\n",
       "      <td>155</td>\n",
       "    </tr>\n",
       "    <tr>\n",
       "      <th>3</th>\n",
       "      <td>John</td>\n",
       "      <td>578</td>\n",
       "    </tr>\n",
       "    <tr>\n",
       "      <th>4</th>\n",
       "      <td>Mel</td>\n",
       "      <td>973</td>\n",
       "    </tr>\n",
       "  </tbody>\n",
       "</table>\n",
       "</div>"
      ],
      "text/plain": [
       "      Names  Births\n",
       "0       Bob     968\n",
       "1  Jessical     155\n",
       "3      John     578\n",
       "4       Mel     973"
      ]
     },
     "execution_count": 8,
     "metadata": {},
     "output_type": "execute_result"
    }
   ],
   "source": [
    "df[df['Births'] > 100] # 필터링 기능"
   ]
  },
  {
   "cell_type": "code",
   "execution_count": 9,
   "id": "7ee1a242-a2be-4352-841e-b1239a37a591",
   "metadata": {},
   "outputs": [
    {
     "data": {
      "text/plain": [
       "550.2"
      ]
     },
     "execution_count": 9,
     "metadata": {},
     "output_type": "execute_result"
    }
   ],
   "source": [
    "df['Births'].mean()"
   ]
  },
  {
   "cell_type": "code",
   "execution_count": 16,
   "id": "efd3adb4-75eb-4353-ac5e-df7ea220dbe6",
   "metadata": {},
   "outputs": [
    {
     "data": {
      "text/plain": [
       "array([[ 0,  1,  2,  3,  4],\n",
       "       [ 5,  6,  7,  8,  9],\n",
       "       [10, 11, 12, 13, 14]])"
      ]
     },
     "execution_count": 16,
     "metadata": {},
     "output_type": "execute_result"
    }
   ],
   "source": [
    "import numpy as np #수치 계산을 위해 만들어진 라이브러리\n",
    "arr1 = np.arange(15).reshape(3,5)\n",
    "arr1"
   ]
  },
  {
   "cell_type": "code",
   "execution_count": 17,
   "id": "e6c3848a-4c72-44e6-8482-aa74dbc6fc99",
   "metadata": {},
   "outputs": [
    {
     "data": {
      "text/plain": [
       "(3, 5)"
      ]
     },
     "execution_count": 17,
     "metadata": {},
     "output_type": "execute_result"
    }
   ],
   "source": [
    "arr1.shape"
   ]
  },
  {
   "cell_type": "code",
   "execution_count": 18,
   "id": "1563ca7a-89d1-4dd6-9bf4-82c49c6344fd",
   "metadata": {},
   "outputs": [
    {
     "data": {
      "text/plain": [
       "dtype('int32')"
      ]
     },
     "execution_count": 18,
     "metadata": {},
     "output_type": "execute_result"
    }
   ],
   "source": [
    "arr1.dtype"
   ]
  },
  {
   "cell_type": "code",
   "execution_count": 19,
   "id": "24cb817d-51f3-42b7-9ed4-8b5b45d7c4e6",
   "metadata": {},
   "outputs": [
    {
     "data": {
      "text/plain": [
       "array([[0., 0., 0., 0.],\n",
       "       [0., 0., 0., 0.],\n",
       "       [0., 0., 0., 0.]])"
      ]
     },
     "execution_count": 19,
     "metadata": {},
     "output_type": "execute_result"
    }
   ],
   "source": [
    "arr3 = np.zeros((3,4))\n",
    "arr3"
   ]
  },
  {
   "cell_type": "code",
   "execution_count": 20,
   "id": "2907e880-7f4c-4862-9392-bba92bd0cb3f",
   "metadata": {},
   "outputs": [
    {
     "name": "stdout",
     "output_type": "stream",
     "text": [
      "[[ 8. 10. 12.]\n",
      " [14. 16. 18.]] \n",
      "\n",
      "[[-6. -6. -6.]\n",
      " [-6. -6. -6.]] \n",
      "\n",
      "[[ 7. 16. 27.]\n",
      " [40. 55. 72.]] \n",
      "\n",
      "[[0.14285714 0.25       0.33333333]\n",
      " [0.4        0.45454545 0.5       ]] \n",
      "\n"
     ]
    }
   ],
   "source": [
    "arr4 = np.array([\n",
    "    [1,2,3],\n",
    "    [4,5,6]\n",
    "], dtype = np.float64)\n",
    "\n",
    "arr5 = np.array([\n",
    "    [7,8,9],\n",
    "    [10,11,12]\n",
    "], dtype = np.float64)\n",
    "\n",
    "print(arr4+arr5,'\\n')\n",
    "print(arr4-arr5,'\\n')\n",
    "print(arr4*arr5,'\\n')\n",
    "print(arr4/arr5,'\\n')"
   ]
  },
  {
   "cell_type": "code",
   "execution_count": 24,
   "id": "d0e347a3-cfea-4a59-b8a8-cde5d323d0ef",
   "metadata": {},
   "outputs": [
    {
     "data": {
      "image/png": "[encoded data removed]",
      "text/plain": [
       "<Figure size 640x480 with 1 Axes>"
      ]
     },
     "metadata": {},
     "output_type": "display_data"
    }
   ],
   "source": [
    "import matplotlib.pyplot as plt #데이터 시각화해주는 라이브러리\n",
    "\n",
    "# df 요소들을 이용하여 막대그래프 생성하기\n",
    "y = df['Births']\n",
    "x = df['Names']\n",
    "\n",
    "plt.bar(x,y) # 그래프 객체 생성\n",
    "plt.xlabel('Names') # x 축 제목\n",
    "plt.ylabel('Births') # y 축 제목\n",
    "plt.title('Bar plot') # 그래프 제목\n",
    "plt.show() # 그래프 출력"
   ]
  },
  {
   "cell_type": "code",
   "execution_count": 43,
   "id": "ebed4768-ceb3-4e4c-bcb3-c39d4b76f777",
   "metadata": {},
   "outputs": [
    {
     "data": {
      "image/png": "[encoded data removed]",
      "text/plain": [
       "<Figure size 640x480 with 1 Axes>"
      ]
     },
     "metadata": {},
     "output_type": "display_data"
    }
   ],
   "source": [
    "import numpy as np\n",
    "\n",
    "np.random.seed(19920613) # 시드 고정\n",
    "\n",
    "#산점도 그래프 출력\n",
    "x = np.arange(0.0, 100.0, 5.0) # 0, 5, 10, ... 95 -> 20개\n",
    "y = (x * 1.5) + np.random.rand(20) * 50 # -> 20개\n",
    "\n",
    "plt.scatter(x, y, c='b', alpha=0.5, label='scatter point') # color는 blue, alpha는 투명도\n",
    "plt.xlabel('X') # X축 제목\n",
    "plt.ylabel('Y') # Y축 제목\n",
    "plt.legend(loc = 'upper left') # 위에 설정했던 label을 왼쪽 위에 표시한다는 뜻\n",
    "plt.title('Scatter plot')\n",
    "plt.show()"
   ]
  },
  {
   "cell_type": "code",
   "execution_count": 72,
   "id": "12a162b1-54d8-44c9-8f6c-2d5513e9227f",
   "metadata": {
    "scrolled": true
   },
   "outputs": [
    {
     "name": "stdout",
     "output_type": "stream",
     "text": [
      "(4622, 5)\n",
      "----------------------------------\n",
      "<class 'pandas.core.frame.DataFrame'>\n",
      "RangeIndex: 4622 entries, 0 to 4621\n",
      "Data columns (total 5 columns):\n",
      " #   Column              Non-Null Count  Dtype \n",
      "---  ------              --------------  ----- \n",
      " 0   order_id            4622 non-null   int64 \n",
      " 1   quantity            4622 non-null   int64 \n",
      " 2   item_name           4622 non-null   object\n",
      " 3   choice_description  3376 non-null   object\n",
      " 4   item_price          4622 non-null   object\n",
      "dtypes: int64(2), object(3)\n",
      "memory usage: 180.7+ KB\n",
      "None\n"
     ]
    }
   ],
   "source": [
    "import pandas as pd\n",
    "\n",
    "file_path = 'data/chipotle.tsv' # 경로 설\n",
    "chipo = pd.read_csv(file_path, sep='\\t') # tsv파일은 tab으로 구분되어 있음\n",
    "\n",
    "print(chipo.shape) #행과 열의 크기\n",
    "print(\"----------------------------------\")\n",
    "print(chipo.info()) #횅의 구성 정보와 열의 구성 정보"
   ]
  },
  {
   "cell_type": "code",
   "execution_count": 73,
   "id": "3ddd053e-bebe-4ec3-b3c5-8b407d27896c",
   "metadata": {},
   "outputs": [
    {
     "name": "stdout",
     "output_type": "stream",
     "text": [
      "Index(['order_id', 'quantity', 'item_name', 'choice_description',\n",
      "       'item_price'],\n",
      "      dtype='object')\n",
      "------------------------------\n",
      "RangeIndex(start=0, stop=4622, step=1)\n"
     ]
    }
   ],
   "source": [
    "chipo.head(10) #위에서부터 순서대로 10개의 데이터를 보여줌\n",
    "\n",
    "print(chipo.columns)\n",
    "print(\"------------------------------\")\n",
    "print(chipo.index)"
   ]
  },
  {
   "cell_type": "code",
   "execution_count": 74,
   "id": "baa0d984-a5a9-4b75-9de1-08638fb19b05",
   "metadata": {},
   "outputs": [
    {
     "data": {
      "text/html": [
       "<div>\n",
       "<style scoped>\n",
       "    .dataframe tbody tr th:only-of-type {\n",
       "        vertical-align: middle;\n",
       "    }\n",
       "\n",
       "    .dataframe tbody tr th {\n",
       "        vertical-align: top;\n",
       "    }\n",
       "\n",
       "    .dataframe thead th {\n",
       "        text-align: right;\n",
       "    }\n",
       "</style>\n",
       "<table border=\"1\" class=\"dataframe\">\n",
       "  <thead>\n",
       "    <tr style=\"text-align: right;\">\n",
       "      <th></th>\n",
       "      <th>quantity</th>\n",
       "    </tr>\n",
       "  </thead>\n",
       "  <tbody>\n",
       "    <tr>\n",
       "      <th>count</th>\n",
       "      <td>4622.000000</td>\n",
       "    </tr>\n",
       "    <tr>\n",
       "      <th>mean</th>\n",
       "      <td>1.075725</td>\n",
       "    </tr>\n",
       "    <tr>\n",
       "      <th>std</th>\n",
       "      <td>0.410186</td>\n",
       "    </tr>\n",
       "    <tr>\n",
       "      <th>min</th>\n",
       "      <td>1.000000</td>\n",
       "    </tr>\n",
       "    <tr>\n",
       "      <th>25%</th>\n",
       "      <td>1.000000</td>\n",
       "    </tr>\n",
       "    <tr>\n",
       "      <th>50%</th>\n",
       "      <td>1.000000</td>\n",
       "    </tr>\n",
       "    <tr>\n",
       "      <th>75%</th>\n",
       "      <td>1.000000</td>\n",
       "    </tr>\n",
       "    <tr>\n",
       "      <th>max</th>\n",
       "      <td>15.000000</td>\n",
       "    </tr>\n",
       "  </tbody>\n",
       "</table>\n",
       "</div>"
      ],
      "text/plain": [
       "          quantity\n",
       "count  4622.000000\n",
       "mean      1.075725\n",
       "std       0.410186\n",
       "min       1.000000\n",
       "25%       1.000000\n",
       "50%       1.000000\n",
       "75%       1.000000\n",
       "max      15.000000"
      ]
     },
     "execution_count": 74,
     "metadata": {},
     "output_type": "execute_result"
    }
   ],
   "source": [
    "chipo['order_id'] = chipo['order_id'].astype(str)\n",
    "chipo.describe()"
   ]
  },
  {
   "cell_type": "code",
   "execution_count": 75,
   "id": "d15d82e6-c40b-4bb7-8336-39fe08eb203d",
   "metadata": {},
   "outputs": [
    {
     "name": "stdout",
     "output_type": "stream",
     "text": [
      "1834\n",
      "50\n"
     ]
    }
   ],
   "source": [
    "print(len(chipo['order_id'].unique()))\n",
    "print(len(chipo['item_name'].unique()))"
   ]
  },
  {
   "cell_type": "code",
   "execution_count": 76,
   "id": "1ee50f14-db1a-46dc-a524-eaafa6aceacb",
   "metadata": {},
   "outputs": [
    {
     "name": "stdout",
     "output_type": "stream",
     "text": [
      "Top 1 : Chicken Bowl 726\n",
      "Top 2 : Chicken Burrito 553\n",
      "Top 3 : Chips and Guacamole 479\n",
      "Top 4 : Steak Burrito 368\n",
      "Top 5 : Canned Soft Drink 301\n",
      "Top 6 : Steak Bowl 211\n",
      "Top 7 : Chips 211\n",
      "Top 8 : Bottled Water 162\n",
      "Top 9 : Chicken Soft Tacos 115\n",
      "Top 10 : Chips and Fresh Tomato Salsa 110\n"
     ]
    }
   ],
   "source": [
    "item_count = chipo['item_name'].value_counts()[:10]\n",
    "for idx, (val, cnt) in enumerate(item_count.items(), 1):\n",
    "    print(\"Top\", idx, \":\", val, cnt)\n",
    "    "
   ]
  },
  {
   "cell_type": "code",
   "execution_count": 77,
   "id": "d4a07367-16d9-4a96-ae9c-22719be7121a",
   "metadata": {},
   "outputs": [
    {
     "data": {
      "text/plain": [
       "item_name\n",
       "6 Pack Soft Drink         54\n",
       "Barbacoa Bowl             66\n",
       "Barbacoa Burrito          91\n",
       "Barbacoa Crispy Tacos     11\n",
       "Barbacoa Salad Bowl       10\n",
       "Barbacoa Soft Tacos       25\n",
       "Bottled Water            162\n",
       "Bowl                       2\n",
       "Burrito                    6\n",
       "Canned Soda              104\n",
       "Name: order_id, dtype: int64"
      ]
     },
     "execution_count": 77,
     "metadata": {},
     "output_type": "execute_result"
    }
   ],
   "source": [
    "order_count = chipo.groupby('item_name')['order_id'].count()\n",
    "order_count[:10]"
   ]
  },
  {
   "cell_type": "code",
   "execution_count": 78,
   "id": "564fa318-1376-4814-b977-7c28eca8ffcd",
   "metadata": {},
   "outputs": [
    {
     "data": {
      "text/plain": [
       "item_name\n",
       "6 Pack Soft Drink         55\n",
       "Barbacoa Bowl             66\n",
       "Barbacoa Burrito          91\n",
       "Barbacoa Crispy Tacos     12\n",
       "Barbacoa Salad Bowl       10\n",
       "Barbacoa Soft Tacos       25\n",
       "Bottled Water            211\n",
       "Bowl                       4\n",
       "Burrito                    6\n",
       "Canned Soda              126\n",
       "Name: quantity, dtype: int64"
      ]
     },
     "execution_count": 78,
     "metadata": {},
     "output_type": "execute_result"
    }
   ],
   "source": [
    "item_quantity = chipo.groupby('item_name')['quantity'].sum()\n",
    "item_quantity[:10]"
   ]
  },
  {
   "cell_type": "code",
   "execution_count": 79,
   "id": "8ee24de1-4dca-40bf-86c6-db3349a8278f",
   "metadata": {},
   "outputs": [
    {
     "data": {
      "image/png": "[encoded data removed]",
      "text/plain": [
       "<Figure size 640x480 with 1 Axes>"
      ]
     },
     "metadata": {},
     "output_type": "display_data"
    }
   ],
   "source": [
    "import numpy as np\n",
    "import matplotlib.pyplot as plt\n",
    "\n",
    "item_name_list = item_quantity.index.tolist() # item_quantity의 index를 list화\n",
    "x_pos = np.arange(len(item_name_list)) #0 ~ 50 이전까지 총 50개의 숫자가 들어감\n",
    "order_cnt = item_quantity.values.tolist() # item_quantity의 value를 list화\n",
    "\n",
    "plt.bar(x_pos, order_cnt, align='center')\n",
    "plt.ylabel('order_item_count')\n",
    "plt.title('Distribution of all ordered item')\n",
    "\n",
    "plt.show()"
   ]
  },
  {
   "cell_type": "code",
   "execution_count": 80,
   "id": "8c2e8e5d-846e-4ed6-8799-8768d49270cb",
   "metadata": {},
   "outputs": [
    {
     "name": "stdout",
     "output_type": "stream",
     "text": [
      "<class 'pandas.core.frame.DataFrame'>\n",
      "RangeIndex: 4622 entries, 0 to 4621\n",
      "Data columns (total 5 columns):\n",
      " #   Column              Non-Null Count  Dtype \n",
      "---  ------              --------------  ----- \n",
      " 0   order_id            4622 non-null   object\n",
      " 1   quantity            4622 non-null   int64 \n",
      " 2   item_name           4622 non-null   object\n",
      " 3   choice_description  3376 non-null   object\n",
      " 4   item_price          4622 non-null   object\n",
      "dtypes: int64(1), object(4)\n",
      "memory usage: 180.7+ KB\n",
      "None\n",
      "------------------\n"
     ]
    },
    {
     "data": {
      "text/plain": [
       "0     $2.39 \n",
       "1     $3.39 \n",
       "2     $3.39 \n",
       "3     $2.39 \n",
       "4    $16.98 \n",
       "Name: item_price, dtype: object"
      ]
     },
     "execution_count": 80,
     "metadata": {},
     "output_type": "execute_result"
    }
   ],
   "source": [
    "print(chipo.info())\n",
    "print(\"------------------\")\n",
    "chipo['item_price'].head()"
   ]
  },
  {
   "cell_type": "code",
   "execution_count": 81,
   "id": "91e815bc-05c0-44f0-9c06-c31d78205d20",
   "metadata": {},
   "outputs": [
    {
     "data": {
      "text/html": [
       "<div>\n",
       "<style scoped>\n",
       "    .dataframe tbody tr th:only-of-type {\n",
       "        vertical-align: middle;\n",
       "    }\n",
       "\n",
       "    .dataframe tbody tr th {\n",
       "        vertical-align: top;\n",
       "    }\n",
       "\n",
       "    .dataframe thead th {\n",
       "        text-align: right;\n",
       "    }\n",
       "</style>\n",
       "<table border=\"1\" class=\"dataframe\">\n",
       "  <thead>\n",
       "    <tr style=\"text-align: right;\">\n",
       "      <th></th>\n",
       "      <th>quantity</th>\n",
       "      <th>item_price</th>\n",
       "    </tr>\n",
       "  </thead>\n",
       "  <tbody>\n",
       "    <tr>\n",
       "      <th>count</th>\n",
       "      <td>4622.000000</td>\n",
       "      <td>4622.000000</td>\n",
       "    </tr>\n",
       "    <tr>\n",
       "      <th>mean</th>\n",
       "      <td>1.075725</td>\n",
       "      <td>7.464336</td>\n",
       "    </tr>\n",
       "    <tr>\n",
       "      <th>std</th>\n",
       "      <td>0.410186</td>\n",
       "      <td>4.245557</td>\n",
       "    </tr>\n",
       "    <tr>\n",
       "      <th>min</th>\n",
       "      <td>1.000000</td>\n",
       "      <td>1.090000</td>\n",
       "    </tr>\n",
       "    <tr>\n",
       "      <th>25%</th>\n",
       "      <td>1.000000</td>\n",
       "      <td>3.390000</td>\n",
       "    </tr>\n",
       "    <tr>\n",
       "      <th>50%</th>\n",
       "      <td>1.000000</td>\n",
       "      <td>8.750000</td>\n",
       "    </tr>\n",
       "    <tr>\n",
       "      <th>75%</th>\n",
       "      <td>1.000000</td>\n",
       "      <td>9.250000</td>\n",
       "    </tr>\n",
       "    <tr>\n",
       "      <th>max</th>\n",
       "      <td>15.000000</td>\n",
       "      <td>44.250000</td>\n",
       "    </tr>\n",
       "  </tbody>\n",
       "</table>\n",
       "</div>"
      ],
      "text/plain": [
       "          quantity   item_price\n",
       "count  4622.000000  4622.000000\n",
       "mean      1.075725     7.464336\n",
       "std       0.410186     4.245557\n",
       "min       1.000000     1.090000\n",
       "25%       1.000000     3.390000\n",
       "50%       1.000000     8.750000\n",
       "75%       1.000000     9.250000\n",
       "max      15.000000    44.250000"
      ]
     },
     "execution_count": 81,
     "metadata": {},
     "output_type": "execute_result"
    }
   ],
   "source": [
    "# item_price에서 $ 제거\n",
    "chipo['item_price'] = chipo['item_price'].apply(lambda x: float(x[1:]))\n",
    "chipo.describe()"
   ]
  },
  {
   "cell_type": "code",
   "execution_count": 82,
   "id": "4de4844e-8bde-4b00-9a48-4d7ad7a7b7f7",
   "metadata": {},
   "outputs": [
    {
     "data": {
      "text/plain": [
       "18.811428571428568"
      ]
     },
     "execution_count": 82,
     "metadata": {},
     "output_type": "execute_result"
    }
   ],
   "source": [
    "chipo.groupby('order_id')['item_price'].sum().mean()"
   ]
  },
  {
   "cell_type": "code",
   "execution_count": 83,
   "id": "8fdadbe8-673a-4ea6-a771-85993c40db6a",
   "metadata": {},
   "outputs": [
    {
     "name": "stdout",
     "output_type": "stream",
     "text": [
      "          quantity                                          item_name  \\\n",
      "order_id                                                                \n",
      "1                4  Chips and Fresh Tomato SalsaIzzeNantucket Nect...   \n",
      "10               2                    Chicken BowlChips and Guacamole   \n",
      "100              2                           Steak BurritoCanned Soda   \n",
      "1000             2                          Barbacoa BowlChicken Bowl   \n",
      "1001             2                           Steak BurritoCanned Soda   \n",
      "1002             2                      Barbacoa BurritoSide of Chips   \n",
      "1003             2                  Carnitas BurritoCanned Soft Drink   \n",
      "1004             2                                       Chicken Bowl   \n",
      "1005             3              Chicken BurritoChipsCanned Soft Drink   \n",
      "1006             8  Chicken Soft TacosVeggie BowlSteak BowlChicken...   \n",
      "\n",
      "                                         choice_description  item_price  \n",
      "order_id                                                                 \n",
      "1                                       [Clementine][Apple]       11.56  \n",
      "10        [Tomatillo Red Chili Salsa, [Fajita Vegetables...       13.20  \n",
      "100       [Roasted Chili Corn Salsa (Medium), [Rice, Bla...       10.08  \n",
      "1000      [Roasted Chili Corn Salsa, [Rice, Black Beans,...       20.50  \n",
      "1001      [Fresh Tomato Salsa (Mild), [Pinto Beans, Rice...       10.08  \n",
      "1002      [[Tomatillo-Green Chili Salsa (Medium), Tomati...       10.68  \n",
      "1003      [Tomatillo Red Chili Salsa, [Black Beans, Chee...       13.00  \n",
      "1004      [Tomatillo-Red Chili Salsa (Hot), [Rice, Fajit...       21.96  \n",
      "1005      [Fresh Tomato Salsa, [Rice, Black Beans, Chees...       12.15  \n",
      "1006      [Fresh Tomato Salsa, [Sour Cream, Lettuce]][Fr...       71.40  \n",
      "--------------------------------------------------------\n",
      "['1' '10' '100' ... '997' '998' '999']\n"
     ]
    }
   ],
   "source": [
    "chipo_orderid_group = chipo.groupby('order_id').sum()\n",
    "results = chipo_orderid_group[chipo_orderid_group['item_price'] >= 10]\n",
    "print(results[:10])\n",
    "print('--------------------------------------------------------')\n",
    "print(results.index.values)"
   ]
  },
  {
   "cell_type": "code",
   "execution_count": 84,
   "id": "35017c2b-3672-4272-8e8f-e5734333b1b0",
   "metadata": {},
   "outputs": [
    {
     "data": {
      "text/html": [
       "<div>\n",
       "<style scoped>\n",
       "    .dataframe tbody tr th:only-of-type {\n",
       "        vertical-align: middle;\n",
       "    }\n",
       "\n",
       "    .dataframe tbody tr th {\n",
       "        vertical-align: top;\n",
       "    }\n",
       "\n",
       "    .dataframe thead th {\n",
       "        text-align: right;\n",
       "    }\n",
       "</style>\n",
       "<table border=\"1\" class=\"dataframe\">\n",
       "  <thead>\n",
       "    <tr style=\"text-align: right;\">\n",
       "      <th></th>\n",
       "      <th>order_id</th>\n",
       "      <th>quantity</th>\n",
       "      <th>choice_description</th>\n",
       "      <th>item_price</th>\n",
       "    </tr>\n",
       "    <tr>\n",
       "      <th>item_name</th>\n",
       "      <th></th>\n",
       "      <th></th>\n",
       "      <th></th>\n",
       "      <th></th>\n",
       "    </tr>\n",
       "  </thead>\n",
       "  <tbody>\n",
       "    <tr>\n",
       "      <th>Steak Salad Bowl</th>\n",
       "      <td>1032</td>\n",
       "      <td>1</td>\n",
       "      <td>[Fresh Tomato Salsa, Lettuce]</td>\n",
       "      <td>9.39</td>\n",
       "    </tr>\n",
       "    <tr>\n",
       "      <th>Barbacoa Salad Bowl</th>\n",
       "      <td>1283</td>\n",
       "      <td>1</td>\n",
       "      <td>[Fresh Tomato Salsa, Guacamole]</td>\n",
       "      <td>9.39</td>\n",
       "    </tr>\n",
       "    <tr>\n",
       "      <th>Carnitas Salad Bowl</th>\n",
       "      <td>1035</td>\n",
       "      <td>1</td>\n",
       "      <td>[Fresh Tomato Salsa, [Rice, Black Beans, Chees...</td>\n",
       "      <td>9.39</td>\n",
       "    </tr>\n",
       "    <tr>\n",
       "      <th>Carnitas Soft Tacos</th>\n",
       "      <td>1011</td>\n",
       "      <td>1</td>\n",
       "      <td>[Fresh Tomato Salsa (Mild), [Black Beans, Rice...</td>\n",
       "      <td>8.99</td>\n",
       "    </tr>\n",
       "    <tr>\n",
       "      <th>Carnitas Crispy Tacos</th>\n",
       "      <td>1774</td>\n",
       "      <td>1</td>\n",
       "      <td>[Fresh Tomato Salsa, [Fajita Vegetables, Rice,...</td>\n",
       "      <td>8.99</td>\n",
       "    </tr>\n",
       "    <tr>\n",
       "      <th>Steak Soft Tacos</th>\n",
       "      <td>1054</td>\n",
       "      <td>1</td>\n",
       "      <td>[Fresh Tomato Salsa (Mild), [Cheese, Sour Cream]]</td>\n",
       "      <td>8.99</td>\n",
       "    </tr>\n",
       "    <tr>\n",
       "      <th>Carnitas Salad</th>\n",
       "      <td>1500</td>\n",
       "      <td>1</td>\n",
       "      <td>[[Fresh Tomato Salsa (Mild), Roasted Chili Cor...</td>\n",
       "      <td>8.99</td>\n",
       "    </tr>\n",
       "    <tr>\n",
       "      <th>Carnitas Bowl</th>\n",
       "      <td>1007</td>\n",
       "      <td>1</td>\n",
       "      <td>[Fresh Tomato (Mild), [Guacamole, Lettuce, Ric...</td>\n",
       "      <td>8.99</td>\n",
       "    </tr>\n",
       "    <tr>\n",
       "      <th>Barbacoa Soft Tacos</th>\n",
       "      <td>1103</td>\n",
       "      <td>1</td>\n",
       "      <td>[Fresh Tomato Salsa, [Black Beans, Cheese, Let...</td>\n",
       "      <td>8.99</td>\n",
       "    </tr>\n",
       "    <tr>\n",
       "      <th>Barbacoa Crispy Tacos</th>\n",
       "      <td>110</td>\n",
       "      <td>1</td>\n",
       "      <td>[Fresh Tomato Salsa, Guacamole]</td>\n",
       "      <td>8.99</td>\n",
       "    </tr>\n",
       "  </tbody>\n",
       "</table>\n",
       "</div>"
      ],
      "text/plain": [
       "                      order_id  quantity  \\\n",
       "item_name                                  \n",
       "Steak Salad Bowl          1032         1   \n",
       "Barbacoa Salad Bowl       1283         1   \n",
       "Carnitas Salad Bowl       1035         1   \n",
       "Carnitas Soft Tacos       1011         1   \n",
       "Carnitas Crispy Tacos     1774         1   \n",
       "Steak Soft Tacos          1054         1   \n",
       "Carnitas Salad            1500         1   \n",
       "Carnitas Bowl             1007         1   \n",
       "Barbacoa Soft Tacos       1103         1   \n",
       "Barbacoa Crispy Tacos      110         1   \n",
       "\n",
       "                                                      choice_description  \\\n",
       "item_name                                                                  \n",
       "Steak Salad Bowl                           [Fresh Tomato Salsa, Lettuce]   \n",
       "Barbacoa Salad Bowl                      [Fresh Tomato Salsa, Guacamole]   \n",
       "Carnitas Salad Bowl    [Fresh Tomato Salsa, [Rice, Black Beans, Chees...   \n",
       "Carnitas Soft Tacos    [Fresh Tomato Salsa (Mild), [Black Beans, Rice...   \n",
       "Carnitas Crispy Tacos  [Fresh Tomato Salsa, [Fajita Vegetables, Rice,...   \n",
       "Steak Soft Tacos       [Fresh Tomato Salsa (Mild), [Cheese, Sour Cream]]   \n",
       "Carnitas Salad         [[Fresh Tomato Salsa (Mild), Roasted Chili Cor...   \n",
       "Carnitas Bowl          [Fresh Tomato (Mild), [Guacamole, Lettuce, Ric...   \n",
       "Barbacoa Soft Tacos    [Fresh Tomato Salsa, [Black Beans, Cheese, Let...   \n",
       "Barbacoa Crispy Tacos                    [Fresh Tomato Salsa, Guacamole]   \n",
       "\n",
       "                       item_price  \n",
       "item_name                          \n",
       "Steak Salad Bowl             9.39  \n",
       "Barbacoa Salad Bowl          9.39  \n",
       "Carnitas Salad Bowl          9.39  \n",
       "Carnitas Soft Tacos          8.99  \n",
       "Carnitas Crispy Tacos        8.99  \n",
       "Steak Soft Tacos             8.99  \n",
       "Carnitas Salad               8.99  \n",
       "Carnitas Bowl                8.99  \n",
       "Barbacoa Soft Tacos          8.99  \n",
       "Barbacoa Crispy Tacos        8.99  "
      ]
     },
     "execution_count": 84,
     "metadata": {},
     "output_type": "execute_result"
    }
   ],
   "source": [
    "chipo_one_item = chipo[chipo.quantity == 1]\n",
    "price_per_item = chipo_one_item.groupby('item_name').min()\n",
    "price_per_item.sort_values(by='item_price', ascending=False)[:10]"
   ]
  },
  {
   "cell_type": "code",
   "execution_count": 85,
   "id": "b087ea63-6689-4b8e-a81c-151c81f0f5c9",
   "metadata": {},
   "outputs": [
    {
     "data": {
      "image/png": "[encoded data removed]",
      "text/plain": [
       "<Figure size 640x480 with 1 Axes>"
      ]
     },
     "metadata": {},
     "output_type": "display_data"
    },
    {
     "data": {
      "image/png": "[encoded data removed]",
      "text/plain": [
       "<Figure size 640x480 with 1 Axes>"
      ]
     },
     "metadata": {},
     "output_type": "display_data"
    }
   ],
   "source": [
    "item_name_list = price_per_item.index.tolist()\n",
    "x_pos = np.arange(len(item_name_list))\n",
    "item_price = price_per_item['item_price'].tolist()\n",
    "\n",
    "plt.bar(x_pos, item_price, align='center')\n",
    "plt.ylabel('item price($)')\n",
    "plt.title('Distribution of item price')\n",
    "plt.show()\n",
    "\n",
    "plt.hist(item_price)\n",
    "plt.ylabel('counts')\n",
    "plt.title('Histogram of item price')\n",
    "plt.show()"
   ]
  },
  {
   "cell_type": "code",
   "execution_count": 87,
   "id": "0dd3dff2-c542-4247-921e-2ca15ea3354f",
   "metadata": {},
   "outputs": [
    {
     "data": {
      "text/html": [
       "<div>\n",
       "<style scoped>\n",
       "    .dataframe tbody tr th:only-of-type {\n",
       "        vertical-align: middle;\n",
       "    }\n",
       "\n",
       "    .dataframe tbody tr th {\n",
       "        vertical-align: top;\n",
       "    }\n",
       "\n",
       "    .dataframe thead th {\n",
       "        text-align: right;\n",
       "    }\n",
       "</style>\n",
       "<table border=\"1\" class=\"dataframe\">\n",
       "  <thead>\n",
       "    <tr style=\"text-align: right;\">\n",
       "      <th></th>\n",
       "      <th>quantity</th>\n",
       "      <th>item_name</th>\n",
       "      <th>choice_description</th>\n",
       "      <th>item_price</th>\n",
       "    </tr>\n",
       "    <tr>\n",
       "      <th>order_id</th>\n",
       "      <th></th>\n",
       "      <th></th>\n",
       "      <th></th>\n",
       "      <th></th>\n",
       "    </tr>\n",
       "  </thead>\n",
       "  <tbody>\n",
       "    <tr>\n",
       "      <th>926</th>\n",
       "      <td>23</td>\n",
       "      <td>Steak BurritoChicken BowlChicken BowlChicken B...</td>\n",
       "      <td>[Fresh Tomato Salsa, [Rice, Sour Cream, Lettuc...</td>\n",
       "      <td>205.25</td>\n",
       "    </tr>\n",
       "    <tr>\n",
       "      <th>1443</th>\n",
       "      <td>35</td>\n",
       "      <td>Chips and Fresh Tomato SalsaBottled Water6 Pac...</td>\n",
       "      <td>[Coke][Fresh Tomato Salsa, [Fajita Vegetables,...</td>\n",
       "      <td>160.74</td>\n",
       "    </tr>\n",
       "    <tr>\n",
       "      <th>1483</th>\n",
       "      <td>14</td>\n",
       "      <td>Chicken BowlSteak BowlChicken BurritoSteak Bow...</td>\n",
       "      <td>[Roasted Chili Corn Salsa, [Rice, Black Beans,...</td>\n",
       "      <td>139.00</td>\n",
       "    </tr>\n",
       "    <tr>\n",
       "      <th>691</th>\n",
       "      <td>11</td>\n",
       "      <td>Chicken BurritoChicken Salad BowlSteak Burrito...</td>\n",
       "      <td>[Tomatillo Red Chili Salsa, [Rice, Cheese, Sou...</td>\n",
       "      <td>118.25</td>\n",
       "    </tr>\n",
       "    <tr>\n",
       "      <th>1786</th>\n",
       "      <td>20</td>\n",
       "      <td>Chicken BowlCarnitas BurritoChicken BowlChicke...</td>\n",
       "      <td>[Fresh Tomato Salsa, Rice][Fresh Tomato Salsa,...</td>\n",
       "      <td>114.30</td>\n",
       "    </tr>\n",
       "  </tbody>\n",
       "</table>\n",
       "</div>"
      ],
      "text/plain": [
       "          quantity                                          item_name  \\\n",
       "order_id                                                                \n",
       "926             23  Steak BurritoChicken BowlChicken BowlChicken B...   \n",
       "1443            35  Chips and Fresh Tomato SalsaBottled Water6 Pac...   \n",
       "1483            14  Chicken BowlSteak BowlChicken BurritoSteak Bow...   \n",
       "691             11  Chicken BurritoChicken Salad BowlSteak Burrito...   \n",
       "1786            20  Chicken BowlCarnitas BurritoChicken BowlChicke...   \n",
       "\n",
       "                                         choice_description  item_price  \n",
       "order_id                                                                 \n",
       "926       [Fresh Tomato Salsa, [Rice, Sour Cream, Lettuc...      205.25  \n",
       "1443      [Coke][Fresh Tomato Salsa, [Fajita Vegetables,...      160.74  \n",
       "1483      [Roasted Chili Corn Salsa, [Rice, Black Beans,...      139.00  \n",
       "691       [Tomatillo Red Chili Salsa, [Rice, Cheese, Sou...      118.25  \n",
       "1786      [Fresh Tomato Salsa, Rice][Fresh Tomato Salsa,...      114.30  "
      ]
     },
     "execution_count": 87,
     "metadata": {},
     "output_type": "execute_result"
    }
   ],
   "source": [
    "#chipo = chipo[['order_id', 'quantity', 'item_price']]\n",
    "chipo.groupby('order_id').sum().sort_values(by='item_price', ascending=False)[:5]"
   ]
  },
  {
   "cell_type": "code",
   "execution_count": 94,
   "id": "45d4ba33-8f9d-419c-babf-3fd490685423",
   "metadata": {},
   "outputs": [
    {
     "name": "stdout",
     "output_type": "stream",
     "text": [
      "18\n"
     ]
    },
    {
     "data": {
      "text/html": [
       "<div>\n",
       "<style scoped>\n",
       "    .dataframe tbody tr th:only-of-type {\n",
       "        vertical-align: middle;\n",
       "    }\n",
       "\n",
       "    .dataframe tbody tr th {\n",
       "        vertical-align: top;\n",
       "    }\n",
       "\n",
       "    .dataframe thead th {\n",
       "        text-align: right;\n",
       "    }\n",
       "</style>\n",
       "<table border=\"1\" class=\"dataframe\">\n",
       "  <thead>\n",
       "    <tr style=\"text-align: right;\">\n",
       "      <th></th>\n",
       "      <th>order_id</th>\n",
       "      <th>quantity</th>\n",
       "      <th>item_name</th>\n",
       "      <th>choice_description</th>\n",
       "      <th>item_price</th>\n",
       "    </tr>\n",
       "  </thead>\n",
       "  <tbody>\n",
       "    <tr>\n",
       "      <th>186</th>\n",
       "      <td>83</td>\n",
       "      <td>1</td>\n",
       "      <td>Veggie Salad Bowl</td>\n",
       "      <td>[Fresh Tomato Salsa, [Fajita Vegetables, Rice,...</td>\n",
       "      <td>11.25</td>\n",
       "    </tr>\n",
       "    <tr>\n",
       "      <th>295</th>\n",
       "      <td>128</td>\n",
       "      <td>1</td>\n",
       "      <td>Veggie Salad Bowl</td>\n",
       "      <td>[Fresh Tomato Salsa, [Fajita Vegetables, Lettu...</td>\n",
       "      <td>11.25</td>\n",
       "    </tr>\n",
       "    <tr>\n",
       "      <th>455</th>\n",
       "      <td>195</td>\n",
       "      <td>1</td>\n",
       "      <td>Veggie Salad Bowl</td>\n",
       "      <td>[Fresh Tomato Salsa, [Fajita Vegetables, Rice,...</td>\n",
       "      <td>11.25</td>\n",
       "    </tr>\n",
       "    <tr>\n",
       "      <th>496</th>\n",
       "      <td>207</td>\n",
       "      <td>1</td>\n",
       "      <td>Veggie Salad Bowl</td>\n",
       "      <td>[Fresh Tomato Salsa, [Rice, Lettuce, Guacamole...</td>\n",
       "      <td>11.25</td>\n",
       "    </tr>\n",
       "    <tr>\n",
       "      <th>960</th>\n",
       "      <td>394</td>\n",
       "      <td>1</td>\n",
       "      <td>Veggie Salad Bowl</td>\n",
       "      <td>[Fresh Tomato Salsa, [Fajita Vegetables, Lettu...</td>\n",
       "      <td>8.75</td>\n",
       "    </tr>\n",
       "  </tbody>\n",
       "</table>\n",
       "</div>"
      ],
      "text/plain": [
       "    order_id  quantity          item_name  \\\n",
       "186       83         1  Veggie Salad Bowl   \n",
       "295      128         1  Veggie Salad Bowl   \n",
       "455      195         1  Veggie Salad Bowl   \n",
       "496      207         1  Veggie Salad Bowl   \n",
       "960      394         1  Veggie Salad Bowl   \n",
       "\n",
       "                                    choice_description  item_price  \n",
       "186  [Fresh Tomato Salsa, [Fajita Vegetables, Rice,...       11.25  \n",
       "295  [Fresh Tomato Salsa, [Fajita Vegetables, Lettu...       11.25  \n",
       "455  [Fresh Tomato Salsa, [Fajita Vegetables, Rice,...       11.25  \n",
       "496  [Fresh Tomato Salsa, [Rice, Lettuce, Guacamole...       11.25  \n",
       "960  [Fresh Tomato Salsa, [Fajita Vegetables, Lettu...        8.75  "
      ]
     },
     "execution_count": 94,
     "metadata": {},
     "output_type": "execute_result"
    }
   ],
   "source": [
    "chipo_salad = chipo[chipo.item_name == 'Veggie Salad Bowl']\n",
    "chipo_salad = chipo_salad.drop_duplicates(['item_name', 'order_id'])\n",
    "\n",
    "print(len(chipo_salad))\n",
    "chipo_salad.head(5)\n"
   ]
  },
  {
   "cell_type": "code",
   "execution_count": 100,
   "id": "d4eb1ee0-7bdc-4644-9dd4-2e279e9dba12",
   "metadata": {},
   "outputs": [
    {
     "name": "stdout",
     "output_type": "stream",
     "text": [
      "114\n"
     ]
    },
    {
     "data": {
      "text/plain": [
       "order_id\n",
       "1004    2\n",
       "1023    2\n",
       "1072    2\n",
       "1078    2\n",
       "1091    2\n",
       "Name: quantity, dtype: int64"
      ]
     },
     "execution_count": 100,
     "metadata": {},
     "output_type": "execute_result"
    }
   ],
   "source": [
    "chipo_chicken = chipo[chipo['item_name'] == 'Chicken Bowl'] # item_name이 Chicken Bowl인 것만 필터\n",
    "chipo_chicken_ordersum = chipo_chicken.groupby('order_id').sum()['quantity'] # order_id로 그룹화한 뒤 sum() 함수를 적용하고 quantity열만 추출\n",
    "chipo_chicken_result = chipo_chicken_ordersum[chipo_chicken_ordersum >= 2] # quantity 열 중에 양이 2 이상인 것만 필터링\n",
    "\n",
    "print(len(chipo_chicken_result))\n",
    "chipo_chicken_result.head(5)"
   ]
  },
  {
   "cell_type": "code",
   "execution_count": 1,
   "id": "50e75799-4fdf-479e-85db-ddd014d3d13f",
   "metadata": {},
   "outputs": [
    {
     "name": "stdout",
     "output_type": "stream",
     "text": [
      "<class 'pandas.core.frame.DataFrame'>\n",
      "RangeIndex: 193 entries, 0 to 192\n",
      "Data columns (total 6 columns):\n",
      " #   Column                        Non-Null Count  Dtype  \n",
      "---  ------                        --------------  -----  \n",
      " 0   country                       193 non-null    object \n",
      " 1   beer_servings                 193 non-null    int64  \n",
      " 2   spirit_servings               193 non-null    int64  \n",
      " 3   wine_servings                 193 non-null    int64  \n",
      " 4   total_litres_of_pure_alcohol  193 non-null    float64\n",
      " 5   continent                     170 non-null    object \n",
      "dtypes: float64(1), int64(3), object(2)\n",
      "memory usage: 9.2+ KB\n",
      "None\n"
     ]
    },
    {
     "data": {
      "text/html": [
       "<div>\n",
       "<style scoped>\n",
       "    .dataframe tbody tr th:only-of-type {\n",
       "        vertical-align: middle;\n",
       "    }\n",
       "\n",
       "    .dataframe tbody tr th {\n",
       "        vertical-align: top;\n",
       "    }\n",
       "\n",
       "    .dataframe thead th {\n",
       "        text-align: right;\n",
       "    }\n",
       "</style>\n",
       "<table border=\"1\" class=\"dataframe\">\n",
       "  <thead>\n",
       "    <tr style=\"text-align: right;\">\n",
       "      <th></th>\n",
       "      <th>country</th>\n",
       "      <th>beer_servings</th>\n",
       "      <th>spirit_servings</th>\n",
       "      <th>wine_servings</th>\n",
       "      <th>total_litres_of_pure_alcohol</th>\n",
       "      <th>continent</th>\n",
       "    </tr>\n",
       "  </thead>\n",
       "  <tbody>\n",
       "    <tr>\n",
       "      <th>0</th>\n",
       "      <td>Afghanistan</td>\n",
       "      <td>0</td>\n",
       "      <td>0</td>\n",
       "      <td>0</td>\n",
       "      <td>0.0</td>\n",
       "      <td>AS</td>\n",
       "    </tr>\n",
       "    <tr>\n",
       "      <th>1</th>\n",
       "      <td>Albania</td>\n",
       "      <td>89</td>\n",
       "      <td>132</td>\n",
       "      <td>54</td>\n",
       "      <td>4.9</td>\n",
       "      <td>EU</td>\n",
       "    </tr>\n",
       "    <tr>\n",
       "      <th>2</th>\n",
       "      <td>Algeria</td>\n",
       "      <td>25</td>\n",
       "      <td>0</td>\n",
       "      <td>14</td>\n",
       "      <td>0.7</td>\n",
       "      <td>AF</td>\n",
       "    </tr>\n",
       "    <tr>\n",
       "      <th>3</th>\n",
       "      <td>Andorra</td>\n",
       "      <td>245</td>\n",
       "      <td>138</td>\n",
       "      <td>312</td>\n",
       "      <td>12.4</td>\n",
       "      <td>EU</td>\n",
       "    </tr>\n",
       "    <tr>\n",
       "      <th>4</th>\n",
       "      <td>Angola</td>\n",
       "      <td>217</td>\n",
       "      <td>57</td>\n",
       "      <td>45</td>\n",
       "      <td>5.9</td>\n",
       "      <td>AF</td>\n",
       "    </tr>\n",
       "    <tr>\n",
       "      <th>5</th>\n",
       "      <td>Antigua &amp; Barbuda</td>\n",
       "      <td>102</td>\n",
       "      <td>128</td>\n",
       "      <td>45</td>\n",
       "      <td>4.9</td>\n",
       "      <td>NaN</td>\n",
       "    </tr>\n",
       "    <tr>\n",
       "      <th>6</th>\n",
       "      <td>Argentina</td>\n",
       "      <td>193</td>\n",
       "      <td>25</td>\n",
       "      <td>221</td>\n",
       "      <td>8.3</td>\n",
       "      <td>SA</td>\n",
       "    </tr>\n",
       "    <tr>\n",
       "      <th>7</th>\n",
       "      <td>Armenia</td>\n",
       "      <td>21</td>\n",
       "      <td>179</td>\n",
       "      <td>11</td>\n",
       "      <td>3.8</td>\n",
       "      <td>EU</td>\n",
       "    </tr>\n",
       "    <tr>\n",
       "      <th>8</th>\n",
       "      <td>Australia</td>\n",
       "      <td>261</td>\n",
       "      <td>72</td>\n",
       "      <td>212</td>\n",
       "      <td>10.4</td>\n",
       "      <td>OC</td>\n",
       "    </tr>\n",
       "    <tr>\n",
       "      <th>9</th>\n",
       "      <td>Austria</td>\n",
       "      <td>279</td>\n",
       "      <td>75</td>\n",
       "      <td>191</td>\n",
       "      <td>9.7</td>\n",
       "      <td>EU</td>\n",
       "    </tr>\n",
       "  </tbody>\n",
       "</table>\n",
       "</div>"
      ],
      "text/plain": [
       "             country  beer_servings  spirit_servings  wine_servings  \\\n",
       "0        Afghanistan              0                0              0   \n",
       "1            Albania             89              132             54   \n",
       "2            Algeria             25                0             14   \n",
       "3            Andorra            245              138            312   \n",
       "4             Angola            217               57             45   \n",
       "5  Antigua & Barbuda            102              128             45   \n",
       "6          Argentina            193               25            221   \n",
       "7            Armenia             21              179             11   \n",
       "8          Australia            261               72            212   \n",
       "9            Austria            279               75            191   \n",
       "\n",
       "   total_litres_of_pure_alcohol continent  \n",
       "0                           0.0        AS  \n",
       "1                           4.9        EU  \n",
       "2                           0.7        AF  \n",
       "3                          12.4        EU  \n",
       "4                           5.9        AF  \n",
       "5                           4.9       NaN  \n",
       "6                           8.3        SA  \n",
       "7                           3.8        EU  \n",
       "8                          10.4        OC  \n",
       "9                           9.7        EU  "
      ]
     },
     "execution_count": 1,
     "metadata": {},
     "output_type": "execute_result"
    }
   ],
   "source": [
    "import pandas as pd\n",
    "import numpy as np\n",
    "import matplotlib.pyplot as plt\n",
    "\n",
    "file_path = 'data/drinks.csv'\n",
    "drinks = pd.read_csv(file_path) #read_csv 함수를 이용해 csv 파일을 불러옴\n",
    "print(drinks.info()) # drinks 행과 열의 구성 정보\n",
    "drinks.head(10)"
   ]
  },
  {
   "cell_type": "code",
   "execution_count": 2,
   "id": "6b349da6-6930-4f7a-a97d-44213a260968",
   "metadata": {},
   "outputs": [
    {
     "data": {
      "text/html": [
       "<div>\n",
       "<style scoped>\n",
       "    .dataframe tbody tr th:only-of-type {\n",
       "        vertical-align: middle;\n",
       "    }\n",
       "\n",
       "    .dataframe tbody tr th {\n",
       "        vertical-align: top;\n",
       "    }\n",
       "\n",
       "    .dataframe thead th {\n",
       "        text-align: right;\n",
       "    }\n",
       "</style>\n",
       "<table border=\"1\" class=\"dataframe\">\n",
       "  <thead>\n",
       "    <tr style=\"text-align: right;\">\n",
       "      <th></th>\n",
       "      <th>beer_servings</th>\n",
       "      <th>spirit_servings</th>\n",
       "      <th>wine_servings</th>\n",
       "      <th>total_litres_of_pure_alcohol</th>\n",
       "    </tr>\n",
       "  </thead>\n",
       "  <tbody>\n",
       "    <tr>\n",
       "      <th>count</th>\n",
       "      <td>193.000000</td>\n",
       "      <td>193.000000</td>\n",
       "      <td>193.000000</td>\n",
       "      <td>193.000000</td>\n",
       "    </tr>\n",
       "    <tr>\n",
       "      <th>mean</th>\n",
       "      <td>106.160622</td>\n",
       "      <td>80.994819</td>\n",
       "      <td>49.450777</td>\n",
       "      <td>4.717098</td>\n",
       "    </tr>\n",
       "    <tr>\n",
       "      <th>std</th>\n",
       "      <td>101.143103</td>\n",
       "      <td>88.284312</td>\n",
       "      <td>79.697598</td>\n",
       "      <td>3.773298</td>\n",
       "    </tr>\n",
       "    <tr>\n",
       "      <th>min</th>\n",
       "      <td>0.000000</td>\n",
       "      <td>0.000000</td>\n",
       "      <td>0.000000</td>\n",
       "      <td>0.000000</td>\n",
       "    </tr>\n",
       "    <tr>\n",
       "      <th>25%</th>\n",
       "      <td>20.000000</td>\n",
       "      <td>4.000000</td>\n",
       "      <td>1.000000</td>\n",
       "      <td>1.300000</td>\n",
       "    </tr>\n",
       "    <tr>\n",
       "      <th>50%</th>\n",
       "      <td>76.000000</td>\n",
       "      <td>56.000000</td>\n",
       "      <td>8.000000</td>\n",
       "      <td>4.200000</td>\n",
       "    </tr>\n",
       "    <tr>\n",
       "      <th>75%</th>\n",
       "      <td>188.000000</td>\n",
       "      <td>128.000000</td>\n",
       "      <td>59.000000</td>\n",
       "      <td>7.200000</td>\n",
       "    </tr>\n",
       "    <tr>\n",
       "      <th>max</th>\n",
       "      <td>376.000000</td>\n",
       "      <td>438.000000</td>\n",
       "      <td>370.000000</td>\n",
       "      <td>14.400000</td>\n",
       "    </tr>\n",
       "  </tbody>\n",
       "</table>\n",
       "</div>"
      ],
      "text/plain": [
       "       beer_servings  spirit_servings  wine_servings  \\\n",
       "count     193.000000       193.000000     193.000000   \n",
       "mean      106.160622        80.994819      49.450777   \n",
       "std       101.143103        88.284312      79.697598   \n",
       "min         0.000000         0.000000       0.000000   \n",
       "25%        20.000000         4.000000       1.000000   \n",
       "50%        76.000000        56.000000       8.000000   \n",
       "75%       188.000000       128.000000      59.000000   \n",
       "max       376.000000       438.000000     370.000000   \n",
       "\n",
       "       total_litres_of_pure_alcohol  \n",
       "count                    193.000000  \n",
       "mean                       4.717098  \n",
       "std                        3.773298  \n",
       "min                        0.000000  \n",
       "25%                        1.300000  \n",
       "50%                        4.200000  \n",
       "75%                        7.200000  \n",
       "max                       14.400000  "
      ]
     },
     "execution_count": 2,
     "metadata": {},
     "output_type": "execute_result"
    }
   ],
   "source": [
    "drinks.describe()"
   ]
  },
  {
   "cell_type": "code",
   "execution_count": 3,
   "id": "cea4f23c-95b6-498d-b152-a19ad8f5bc1a",
   "metadata": {},
   "outputs": [
    {
     "name": "stdout",
     "output_type": "stream",
     "text": [
      "               beer_servings  wine_servings\n",
      "beer_servings       1.000000       0.527172\n",
      "wine_servings       0.527172       1.000000\n"
     ]
    }
   ],
   "source": [
    "#beer_servings, wine_servings 두 피처 간의 상관 계수 계산\n",
    "corr = drinks[['beer_servings', 'wine_servings']].corr(method= 'pearson')\n",
    "print(corr)"
   ]
  },
  {
   "cell_type": "code",
   "execution_count": 4,
   "id": "7bc80867-fa9b-4760-84cc-c810d4fdbf0c",
   "metadata": {},
   "outputs": [
    {
     "name": "stdout",
     "output_type": "stream",
     "text": [
      "                              beer_servings  spirit_servings  wine_servings  \\\n",
      "beer_servings                      1.000000         0.458819       0.527172   \n",
      "spirit_servings                    0.458819         1.000000       0.194797   \n",
      "wine_servings                      0.527172         0.194797       1.000000   \n",
      "total_litres_of_pure_alcohol       0.835839         0.654968       0.667598   \n",
      "\n",
      "                              total_litres_of_pure_alcohol  \n",
      "beer_servings                                     0.835839  \n",
      "spirit_servings                                   0.654968  \n",
      "wine_servings                                     0.667598  \n",
      "total_litres_of_pure_alcohol                      1.000000  \n"
     ]
    }
   ],
   "source": [
    "cols = ['beer_servings', 'spirit_servings', 'wine_servings', 'total_litres_of_pure_alcohol']\n",
    "corr = drinks[cols].corr(method='pearson')\n",
    "print(corr)"
   ]
  },
  {
   "cell_type": "code",
   "execution_count": 5,
   "id": "eab77162-8865-4079-9b75-43f7c166a92a",
   "metadata": {},
   "outputs": [
    {
     "data": {
      "image/png": "[encoded data removed]",
      "text/plain": [
       "<Figure size 640x480 with 2 Axes>"
      ]
     },
     "metadata": {},
     "output_type": "display_data"
    }
   ],
   "source": [
    "import seaborn as sns\n",
    "import matplotlib.pyplot as plt\n",
    "\n",
    "#corr 행렬 히트맵을 시각화\n",
    "cols_view = ['beer', 'spirit', 'wine', 'alcohol']\n",
    "sns.set(font_scale=1.5) #x,y축레이블 / 그래프 바 글자 크기\n",
    "sns.heatmap(corr.values, #위에 정의해놨던 상관관계 변수의 값들을 추출\n",
    "                 cbar = True, #히트맵 오른쪽에 있는 컬러바 표시 여\n",
    "                 annot = True, #히트맵 각 셀의 상관 관계 값 표시 여부\n",
    "                 square = True, # 히트맵의 가로세로 비율, True이면 정사각형\n",
    "                 fmt = '.2f', # 소수점 개수\n",
    "                 annot_kws = {'size':15}, # 각 셀의 숫자 크기\n",
    "                 yticklabels= cols_view, #y축 레이블\n",
    "                 xticklabels= cols_view) #x축 레이블\n",
    "\n",
    "plt.tight_layout() #그래프 여백 자동 조절해주는 함수\n",
    "plt.show()"
   ]
  },
  {
   "cell_type": "code",
   "execution_count": 6,
   "id": "dd0bc32a-50fa-4122-bdeb-ec64400feb6e",
   "metadata": {
    "scrolled": true
   },
   "outputs": [
    {
     "data": {
      "image/png": "[encoded data removed]",
      "text/plain": [
       "<Figure size 1000x1000 with 20 Axes>"
      ]
     },
     "metadata": {},
     "output_type": "display_data"
    }
   ],
   "source": [
    "#피처 간의 산점도 그래프\n",
    "sns.set(style = 'whitegrid', context='notebook') \n",
    "#style 매개변수는 그래프의 배경 스타일 지정 -> whitegrid는 흰 배경에 격자 추가\n",
    "#context는 기본 플롯 크기와 글꼴 크기 설정 -> notebook은 크기가 노트북에 적합하게 조정\n",
    "sns.pairplot(drinks[['beer_servings', 'spirit_servings', 'wine_servings', 'total_litres_of_pure_alcohol']], height = 2.5)\n",
    "#선택한 열들 간의 산점도 그래프 시각화 / height 매개변수는 각 산점도의 높이 지정\n",
    "plt.show()"
   ]
  },
  {
   "cell_type": "code",
   "execution_count": 7,
   "id": "761692bd-ff6e-4cc4-8df1-3e40cfdcd9fa",
   "metadata": {},
   "outputs": [
    {
     "data": {
      "text/html": [
       "<div>\n",
       "<style scoped>\n",
       "    .dataframe tbody tr th:only-of-type {\n",
       "        vertical-align: middle;\n",
       "    }\n",
       "\n",
       "    .dataframe tbody tr th {\n",
       "        vertical-align: top;\n",
       "    }\n",
       "\n",
       "    .dataframe thead th {\n",
       "        text-align: right;\n",
       "    }\n",
       "</style>\n",
       "<table border=\"1\" class=\"dataframe\">\n",
       "  <thead>\n",
       "    <tr style=\"text-align: right;\">\n",
       "      <th></th>\n",
       "      <th>country</th>\n",
       "      <th>beer_servings</th>\n",
       "      <th>spirit_servings</th>\n",
       "      <th>wine_servings</th>\n",
       "      <th>total_litres_of_pure_alcohol</th>\n",
       "      <th>continent</th>\n",
       "    </tr>\n",
       "  </thead>\n",
       "  <tbody>\n",
       "    <tr>\n",
       "      <th>0</th>\n",
       "      <td>Afghanistan</td>\n",
       "      <td>0</td>\n",
       "      <td>0</td>\n",
       "      <td>0</td>\n",
       "      <td>0.0</td>\n",
       "      <td>AS</td>\n",
       "    </tr>\n",
       "    <tr>\n",
       "      <th>1</th>\n",
       "      <td>Albania</td>\n",
       "      <td>89</td>\n",
       "      <td>132</td>\n",
       "      <td>54</td>\n",
       "      <td>4.9</td>\n",
       "      <td>EU</td>\n",
       "    </tr>\n",
       "    <tr>\n",
       "      <th>2</th>\n",
       "      <td>Algeria</td>\n",
       "      <td>25</td>\n",
       "      <td>0</td>\n",
       "      <td>14</td>\n",
       "      <td>0.7</td>\n",
       "      <td>AF</td>\n",
       "    </tr>\n",
       "    <tr>\n",
       "      <th>3</th>\n",
       "      <td>Andorra</td>\n",
       "      <td>245</td>\n",
       "      <td>138</td>\n",
       "      <td>312</td>\n",
       "      <td>12.4</td>\n",
       "      <td>EU</td>\n",
       "    </tr>\n",
       "    <tr>\n",
       "      <th>4</th>\n",
       "      <td>Angola</td>\n",
       "      <td>217</td>\n",
       "      <td>57</td>\n",
       "      <td>45</td>\n",
       "      <td>5.9</td>\n",
       "      <td>AF</td>\n",
       "    </tr>\n",
       "    <tr>\n",
       "      <th>5</th>\n",
       "      <td>Antigua &amp; Barbuda</td>\n",
       "      <td>102</td>\n",
       "      <td>128</td>\n",
       "      <td>45</td>\n",
       "      <td>4.9</td>\n",
       "      <td>OT</td>\n",
       "    </tr>\n",
       "    <tr>\n",
       "      <th>6</th>\n",
       "      <td>Argentina</td>\n",
       "      <td>193</td>\n",
       "      <td>25</td>\n",
       "      <td>221</td>\n",
       "      <td>8.3</td>\n",
       "      <td>SA</td>\n",
       "    </tr>\n",
       "    <tr>\n",
       "      <th>7</th>\n",
       "      <td>Armenia</td>\n",
       "      <td>21</td>\n",
       "      <td>179</td>\n",
       "      <td>11</td>\n",
       "      <td>3.8</td>\n",
       "      <td>EU</td>\n",
       "    </tr>\n",
       "    <tr>\n",
       "      <th>8</th>\n",
       "      <td>Australia</td>\n",
       "      <td>261</td>\n",
       "      <td>72</td>\n",
       "      <td>212</td>\n",
       "      <td>10.4</td>\n",
       "      <td>OC</td>\n",
       "    </tr>\n",
       "    <tr>\n",
       "      <th>9</th>\n",
       "      <td>Austria</td>\n",
       "      <td>279</td>\n",
       "      <td>75</td>\n",
       "      <td>191</td>\n",
       "      <td>9.7</td>\n",
       "      <td>EU</td>\n",
       "    </tr>\n",
       "  </tbody>\n",
       "</table>\n",
       "</div>"
      ],
      "text/plain": [
       "             country  beer_servings  spirit_servings  wine_servings  \\\n",
       "0        Afghanistan              0                0              0   \n",
       "1            Albania             89              132             54   \n",
       "2            Algeria             25                0             14   \n",
       "3            Andorra            245              138            312   \n",
       "4             Angola            217               57             45   \n",
       "5  Antigua & Barbuda            102              128             45   \n",
       "6          Argentina            193               25            221   \n",
       "7            Armenia             21              179             11   \n",
       "8          Australia            261               72            212   \n",
       "9            Austria            279               75            191   \n",
       "\n",
       "   total_litres_of_pure_alcohol continent  \n",
       "0                           0.0        AS  \n",
       "1                           4.9        EU  \n",
       "2                           0.7        AF  \n",
       "3                          12.4        EU  \n",
       "4                           5.9        AF  \n",
       "5                           4.9        OT  \n",
       "6                           8.3        SA  \n",
       "7                           3.8        EU  \n",
       "8                          10.4        OC  \n",
       "9                           9.7        EU  "
      ]
     },
     "execution_count": 7,
     "metadata": {},
     "output_type": "execute_result"
    }
   ],
   "source": [
    "#결측 데이터 처리 -> 기타 대륙으로 통합 ('OT')\n",
    "drinks['continent'] = drinks['continent'].fillna('OT')\n",
    "drinks.head(10)"
   ]
  },
  {
   "cell_type": "code",
   "execution_count": 8,
   "id": "cc58f243-fa6b-434f-bbd6-6b7ff3bc6617",
   "metadata": {},
   "outputs": [
    {
     "data": {
      "image/png": "[encoded data removed]",
      "text/plain": [
       "<Figure size 640x480 with 1 Axes>"
      ]
     },
     "metadata": {},
     "output_type": "display_data"
    }
   ],
   "source": [
    "# drinks['continent'].value_counts()하면 각 요소의 개수를 구할 수 있음\n",
    "labels = drinks['continent'].value_counts().index.tolist() #각 대륙의 이름을 리스트로 저장\n",
    "fracs1 = drinks['continent'].value_counts().values.tolist() #각 대륙의 표본 수를 리스트로 저장\n",
    "explode = (0, 0, 0, 0.25, 0, 0) # 파이 튀어나오는 정도 (OT)\n",
    "\n",
    "plt.pie(fracs1, explode=explode, labels = labels, autopct='%.0f%%', shadow=True) #%.0f%%는 백분율로 표시\n",
    "plt.show()"
   ]
  },
  {
   "cell_type": "code",
   "execution_count": 9,
   "id": "b7039738-818b-4112-9d6e-87e1c2167cd4",
   "metadata": {},
   "outputs": [
    {
     "data": {
      "text/plain": [
       "continent\n",
       "AF    53\n",
       "EU    45\n",
       "AS    44\n",
       "OT    23\n",
       "OC    16\n",
       "SA    12\n",
       "Name: count, dtype: int64"
      ]
     },
     "execution_count": 9,
     "metadata": {},
     "output_type": "execute_result"
    }
   ],
   "source": [
    "drinks['continent'].value_counts()"
   ]
  },
  {
   "cell_type": "code",
   "execution_count": 10,
   "id": "9ed076e8-646c-4033-bd0d-58626aa5c185",
   "metadata": {},
   "outputs": [
    {
     "data": {
      "text/html": [
       "<div>\n",
       "<style scoped>\n",
       "    .dataframe tbody tr th:only-of-type {\n",
       "        vertical-align: middle;\n",
       "    }\n",
       "\n",
       "    .dataframe tbody tr th {\n",
       "        vertical-align: top;\n",
       "    }\n",
       "\n",
       "    .dataframe thead th {\n",
       "        text-align: right;\n",
       "    }\n",
       "</style>\n",
       "<table border=\"1\" class=\"dataframe\">\n",
       "  <thead>\n",
       "    <tr style=\"text-align: right;\">\n",
       "      <th></th>\n",
       "      <th>mean</th>\n",
       "      <th>min</th>\n",
       "      <th>max</th>\n",
       "      <th>sum</th>\n",
       "    </tr>\n",
       "    <tr>\n",
       "      <th>continent</th>\n",
       "      <th></th>\n",
       "      <th></th>\n",
       "      <th></th>\n",
       "      <th></th>\n",
       "    </tr>\n",
       "  </thead>\n",
       "  <tbody>\n",
       "    <tr>\n",
       "      <th>AF</th>\n",
       "      <td>16.339623</td>\n",
       "      <td>0</td>\n",
       "      <td>152</td>\n",
       "      <td>866</td>\n",
       "    </tr>\n",
       "    <tr>\n",
       "      <th>AS</th>\n",
       "      <td>60.840909</td>\n",
       "      <td>0</td>\n",
       "      <td>326</td>\n",
       "      <td>2677</td>\n",
       "    </tr>\n",
       "    <tr>\n",
       "      <th>EU</th>\n",
       "      <td>132.555556</td>\n",
       "      <td>0</td>\n",
       "      <td>373</td>\n",
       "      <td>5965</td>\n",
       "    </tr>\n",
       "    <tr>\n",
       "      <th>OC</th>\n",
       "      <td>58.437500</td>\n",
       "      <td>0</td>\n",
       "      <td>254</td>\n",
       "      <td>935</td>\n",
       "    </tr>\n",
       "    <tr>\n",
       "      <th>OT</th>\n",
       "      <td>165.739130</td>\n",
       "      <td>68</td>\n",
       "      <td>438</td>\n",
       "      <td>3812</td>\n",
       "    </tr>\n",
       "  </tbody>\n",
       "</table>\n",
       "</div>"
      ],
      "text/plain": [
       "                 mean  min  max   sum\n",
       "continent                            \n",
       "AF          16.339623    0  152   866\n",
       "AS          60.840909    0  326  2677\n",
       "EU         132.555556    0  373  5965\n",
       "OC          58.437500    0  254   935\n",
       "OT         165.739130   68  438  3812"
      ]
     },
     "execution_count": 10,
     "metadata": {},
     "output_type": "execute_result"
    }
   ],
   "source": [
    "result = drinks.groupby('continent').spirit_servings.agg(['mean', 'min', 'max', 'sum'])\n",
    "result.head()"
   ]
  },
  {
   "cell_type": "code",
   "execution_count": 11,
   "id": "87c825f2-c44c-45c5-89ed-404ba6a9d4d0",
   "metadata": {},
   "outputs": [
    {
     "name": "stdout",
     "output_type": "stream",
     "text": [
      "continent\n",
      "EU    8.617778\n",
      "OT    5.995652\n",
      "SA    6.308333\n",
      "Name: total_litres_of_pure_alcohol, dtype: float64\n"
     ]
    }
   ],
   "source": [
    "# 전체 평균보다 많은 알코올을 섭취하는 대륙 구하기\n",
    "total_mean = drinks.total_litres_of_pure_alcohol.mean() # 전체 평균 알코올 섭취량\n",
    "continent_mean = drinks.groupby('continent').total_litres_of_pure_alcohol.mean() #대륙 간 평균 알코올 섭취량\n",
    "continent_over_mean = continent_mean[continent_mean >= total_mean]  # 전체 평균보다 많은 알코올을 섭취하는 대륙\n",
    "print(continent_over_mean)"
   ]
  },
  {
   "cell_type": "code",
   "execution_count": 12,
   "id": "78eccdeb-3aec-411c-b49f-e1d66ec6d922",
   "metadata": {},
   "outputs": [
    {
     "data": {
      "text/plain": [
       "continent\n",
       "AF    3.007547\n",
       "AS    2.170455\n",
       "EU    8.617778\n",
       "OC    3.381250\n",
       "OT    5.995652\n",
       "SA    6.308333\n",
       "Name: total_litres_of_pure_alcohol, dtype: float64"
      ]
     },
     "execution_count": 12,
     "metadata": {},
     "output_type": "execute_result"
    }
   ],
   "source": [
    "continent_mean"
   ]
  },
  {
   "cell_type": "code",
   "execution_count": 13,
   "id": "8eee1c74-1090-41c0-9fc7-661676b859b8",
   "metadata": {},
   "outputs": [
    {
     "name": "stdout",
     "output_type": "stream",
     "text": [
      "EU\n"
     ]
    }
   ],
   "source": [
    "#평균 beer_servings가 가장 높은 대륙 구하기\n",
    "\n",
    "# drinks.groupby('continent').beer_servings.mean()을 적용하면 대륙 당 beer_servings의 평균을 알 수 있음\n",
    "beer_continent = drinks.groupby('continent').beer_servings.mean().idxmax() #idxmax()를 이용해 값이 가장 큰 index 반환\n",
    "print(beer_continent)"
   ]
  },
  {
   "cell_type": "code",
   "execution_count": 14,
   "id": "38bfac5e-6f0c-4879-afed-b2c450ed37d7",
   "metadata": {},
   "outputs": [
    {
     "data": {
      "text/plain": [
       "continent\n",
       "AF     61.471698\n",
       "AS     37.045455\n",
       "EU    193.777778\n",
       "OC     89.687500\n",
       "OT    145.434783\n",
       "SA    175.083333\n",
       "Name: beer_servings, dtype: float64"
      ]
     },
     "execution_count": 14,
     "metadata": {},
     "output_type": "execute_result"
    }
   ],
   "source": [
    "drinks.groupby('continent').beer_servings.mean()"
   ]
  },
  {
   "cell_type": "code",
   "execution_count": 15,
   "id": "307d674e-e249-49bb-bbd6-dce1f830ebf1",
   "metadata": {},
   "outputs": [
    {
     "data": {
      "image/png": "[encoded data removed]",
      "text/plain": [
       "<Figure size 640x480 with 1 Axes>"
      ]
     },
     "metadata": {},
     "output_type": "display_data"
    }
   ],
   "source": [
    "#대륙별 spirit_servings의 평균, 최소, 최대, 합계를 시각화\n",
    "n_groups = len(result.index) # 6\n",
    "means = result['mean'].tolist() #result의 각 열을 가져와서 리스트로 저장\n",
    "mins = result['min'].tolist()\n",
    "maxs = result['max'].tolist()\n",
    "sums = result['sum'].tolist()\n",
    "\n",
    "index = np.arange(n_groups) # 0~5, 6개의 숫자가 저장\n",
    "bar_width = 0.1\n",
    "\n",
    "#plt.bar를 이용하여 막대그래프 생성 -> 겹치지 않도록 간격을 bar_width로 설정\n",
    "rects1 = plt.bar(index, means, bar_width, color='r', label='Mean')\n",
    "rects2 = plt.bar(index + bar_width, mins, bar_width, color='g', label='Min')\n",
    "rects3 = plt.bar(index + bar_width * 2, maxs, bar_width, color='b', label='Max')\n",
    "rects4 = plt.bar(index + bar_width * 3, sums, bar_width, color='y', label='Sum')\n",
    "\n",
    "plt.xticks(index, result.index.tolist()) # x축 레이블 설정 -> index를 대륙 이름으로 변경\n",
    "plt.legend() # 범례 표시\n",
    "plt.show()"
   ]
  },
  {
   "cell_type": "code",
   "execution_count": 33,
   "id": "71edb578-de58-4713-86ab-dadb545e39c0",
   "metadata": {},
   "outputs": [
    {
     "name": "stdout",
     "output_type": "stream",
     "text": [
      "continent\n",
      "AF    3.007547\n",
      "AS    2.170455\n",
      "EU    8.617778\n",
      "OC    3.381250\n",
      "OT    5.995652\n",
      "SA    6.308333\n",
      "Name: total_litres_of_pure_alcohol, dtype: float64\n"
     ]
    },
    {
     "data": {
      "image/png": "[encoded data removed]",
      "text/plain": [
       "<Figure size 640x480 with 1 Axes>"
      ]
     },
     "metadata": {},
     "output_type": "display_data"
    }
   ],
   "source": [
    "#대륙별 total_litres_of_pure_alcohol을 시각화\n",
    "print(continent_mean)\n",
    "continents = continent_mean.index.tolist() # 대륙 이름이 저장\n",
    "continents.append('mean') # 대륙별 알콜 평균과 전체 알콜 평균도 시각화 위해 'mean' 문자열 추가\n",
    "x_pos = np.arange(len(continents))\n",
    "alcohol = continent_mean.tolist() # continent_mean의 value 값이 저장(대륙별 알콜 평균 값)\n",
    "alcohol.append(total_mean) # 전체 알콜 평균 값 추가\n",
    "\n",
    "bar_list = plt.bar(x_pos, alcohol, align='center', alpha=0.5)\n",
    "bar_list[len(continents)-1].set_color('r') #마지막 막대그래프 색깔을 red로 설정\n",
    "plt.plot([0,6], [total_mean, total_mean], 'k--') # 점선이 그려질 x, y 좌표 지정 / 검정색 점선\n",
    "plt.xticks(x_pos, continents) # x좌표 레이블 설정 -> 0~6을 대륙 이름으로 변경\n",
    "\n",
    "plt.ylabel('total_litres_of_pure_alcohol')\n",
    "plt.title('total_litres_of_pure_alcohol by Continent')\n",
    "plt.show()"
   ]
  },
  {
   "cell_type": "code",
   "execution_count": 44,
   "id": "2360a2a2-ae2a-49fc-b584-12258a75fd3a",
   "metadata": {},
   "outputs": [
    {
     "data": {
      "image/png": "[encoded data removed]",
      "text/plain": [
       "<Figure size 640x480 with 1 Axes>"
      ]
     },
     "metadata": {},
     "output_type": "display_data"
    }
   ],
   "source": [
    "#대륙별 beer_servings를 시각화\n",
    "beer_group = drinks.groupby('continent')['beer_servings'].sum() #대륙 피처를 그룹화하고 맥주 피처만 필터링 한 뒤 sum() 함수 적용 -> 대륙 별 맥주량\n",
    "continents = beer_group.index.tolist() # 대륙 이름 저장\n",
    "y_pos = np.arange(len(continents)) # 대륙의 개수만큼 0~5\n",
    "alcohol = beer_group.values.tolist() # 대륙별 맥주량 저장\n",
    "\n",
    "bar_list = plt.bar(y_pos, alcohol, align='center', alpha=0.5) # 막대그래프 생성\n",
    "bar_list[continents.index(\"EU\")].set_color('r') # EU = 2 -> 2번째 인덱스를 가진 막대그래프 색깔 -> red\n",
    "plt.xticks(y_pos, continents)  # x좌표 레이블 설정 -> 0~6을 대륙 이름으로 변경\n",
    "plt.ylabel('beer_servings')\n",
    "plt.title('beer_servings by Continent')\n",
    "plt.show()"
   ]
  },
  {
   "cell_type": "code",
   "execution_count": 58,
   "id": "6c74123c-6e1e-45ec-9b43-be5b6734d128",
   "metadata": {},
   "outputs": [
    {
     "name": "stdout",
     "output_type": "stream",
     "text": [
      "The t-statistic and p-value assuming equal variances is -7.268 and 0.000.\n",
      "The t-statistic and p-value not assuming equal variances is -7.144 and 0.000.\n"
     ]
    }
   ],
   "source": [
    "#아프리카와 유럽 간의 맥주 소비량 차이를 검정\n",
    "africa = drinks[drinks['continent'] == 'AF']\n",
    "europe = drinks[drinks['continent'] == 'EU'] #대륙이 AF와 EU인 것을 각각 필터링 후 저장\n",
    "\n",
    "\n",
    "from scipy import stats #두 데이터 집합 간의 t-test를 검정\n",
    "tTestResult = stats.ttest_ind(africa['beer_servings'], europe['beer_servings']) #두 집단의 분산이 같을 때\n",
    "tTestResultDiffVar = stats.ttest_ind(africa['beer_servings'], europe['beer_servings'], equal_var=False) #두 집단의 분산이 다를 때\n",
    "#위 두 변수는 t-검정 통계량과 p-value를 반환\n",
    "print(\"The t-statistic and p-value assuming equal variances is %.3f and %.3f.\" %tTestResult) \n",
    "print(\"The t-statistic and p-value not assuming equal variances is %.3f and %.3f.\" %tTestResultDiffVar)\n"
   ]
  },
  {
   "cell_type": "code",
   "execution_count": 67,
   "id": "0f4f34f7-75eb-4640-842d-3d860897c53f",
   "metadata": {},
   "outputs": [
    {
     "data": {
      "text/html": [
       "<div>\n",
       "<style scoped>\n",
       "    .dataframe tbody tr th:only-of-type {\n",
       "        vertical-align: middle;\n",
       "    }\n",
       "\n",
       "    .dataframe tbody tr th {\n",
       "        vertical-align: top;\n",
       "    }\n",
       "\n",
       "    .dataframe thead th {\n",
       "        text-align: right;\n",
       "    }\n",
       "</style>\n",
       "<table border=\"1\" class=\"dataframe\">\n",
       "  <thead>\n",
       "    <tr style=\"text-align: right;\">\n",
       "      <th></th>\n",
       "      <th>country</th>\n",
       "      <th>alcohol_rate</th>\n",
       "    </tr>\n",
       "  </thead>\n",
       "  <tbody>\n",
       "    <tr>\n",
       "      <th>63</th>\n",
       "      <td>Gambia</td>\n",
       "      <td>0.266667</td>\n",
       "    </tr>\n",
       "    <tr>\n",
       "      <th>153</th>\n",
       "      <td>Sierra Leone</td>\n",
       "      <td>0.223333</td>\n",
       "    </tr>\n",
       "    <tr>\n",
       "      <th>124</th>\n",
       "      <td>Nigeria</td>\n",
       "      <td>0.185714</td>\n",
       "    </tr>\n",
       "    <tr>\n",
       "      <th>179</th>\n",
       "      <td>Uganda</td>\n",
       "      <td>0.153704</td>\n",
       "    </tr>\n",
       "    <tr>\n",
       "      <th>142</th>\n",
       "      <td>Rwanda</td>\n",
       "      <td>0.151111</td>\n",
       "    </tr>\n",
       "  </tbody>\n",
       "</table>\n",
       "</div>"
      ],
      "text/plain": [
       "          country  alcohol_rate\n",
       "63         Gambia      0.266667\n",
       "153  Sierra Leone      0.223333\n",
       "124       Nigeria      0.185714\n",
       "179        Uganda      0.153704\n",
       "142        Rwanda      0.151111"
      ]
     },
     "execution_count": 67,
     "metadata": {},
     "output_type": "execute_result"
    }
   ],
   "source": [
    "#대한민국은 얼마나 술을 독하게 마시는 나라일까?\n",
    "\n",
    "# total_servings 피처를 생성\n",
    "drinks['total_servings'] = drinks['beer_servings'] + drinks['spirit_servings'] + drinks['wine_servings']\n",
    "\n",
    "#술 소비량 대비 알코올 비율 피처를 생성\n",
    "drinks['alcohol_rate'] = drinks['total_litres_of_pure_alcohol'] / drinks['total_servings']\n",
    "drinks['alcohol_rate'] = drinks['alcohol_rate'].fillna(0) #결측값을 0으로 채워줌\n",
    "\n",
    "# 순위 정보를 생성\n",
    "country_with_rank = drinks[['country', 'alcohol_rate']] #나라 피처와 알콜 비율 피처를 필터링\n",
    "country_with_rank = country_with_rank.sort_values(by='alcohol_rate', ascending=False) #alcohol_rate 기준으로 내림차순\n",
    "country_with_rank.head(5)"
   ]
  },
  {
   "cell_type": "code",
   "execution_count": 100,
   "id": "c3c9e674-bd26-467d-a9dd-521feb50da78",
   "metadata": {},
   "outputs": [
    {
     "data": {
      "image/png": "[encoded data removed]",
      "text/plain": [
       "<Figure size 640x480 with 1 Axes>"
      ]
     },
     "metadata": {},
     "output_type": "display_data"
    }
   ],
   "source": [
    "#국가별 순위 정보 그래프 시각화\n",
    "country_list = country_with_rank.country.tolist() #나라 이름이 저장\n",
    "x_pos = np.arange(len(country_list)) #193 -> 0~192\n",
    "rank = country_with_rank.alcohol_rate.tolist() # 알콜 비율 피처를 리스트화\n",
    "\n",
    "bar_list = plt.bar(x_pos,rank)\n",
    "bar_list[country_list.index('South Korea')].set_color('r') #대한민국 인덱스를 이용해 대한민국 막대 그래프를 red로 설\n",
    "plt.ylabel('alcohol_rate')\n",
    "plt.title('liquor drink rank by country')\n",
    "plt.axis([0,200, 0, 0.3]) #x, y축 범위 설정\n",
    "\n",
    "korea_rank = country_list.index('South Korea') #대한민국이 몇번째 있는지 인덱스 값\n",
    "korea_alc_rate = country_with_rank[country_with_rank['country'] == 'South Korea']['alcohol_rate'].values[0] #대한민국 알콜 농도\n",
    "plt.annotate('South Korea : ' + str(korea_rank + 1), #그래프에 주석 추가\n",
    "            xy = (korea_rank, korea_alc_rate), #주석의 위치 지정\n",
    "            xytext = (korea_rank + 10, korea_alc_rate + 0.05), #주석의 텍스트가 표시될 위치 지정\n",
    "             arrowprops=dict(facecolor='red', shrink=0.05)) # 주석의 화살표 스타일 설정, 쪼그라드는 거\n",
    "\n",
    "plt.show()\n"
   ]
  },
  {
   "cell_type": "code",
   "execution_count": 149,
   "id": "9ee3572a-d19c-467e-b0f6-609f32e553b5",
   "metadata": {},
   "outputs": [],
   "source": [
    "import pandas as pd\n",
    "import numpy as np\n",
    "import matplotlib.pyplot as plt\n",
    "\n",
    "file_path = 'data/drinks.csv'\n",
    "drinks = pd.read_csv(file_path) #read_csv 함수를 이용해 csv 파일을 불러옴\n",
    "drinks['continent'] = drinks['continent'].fillna('OT')"
   ]
  },
  {
   "cell_type": "code",
   "execution_count": 150,
   "id": "b9573b09-cd56-479d-ac55-c195ad2e3bc1",
   "metadata": {},
   "outputs": [
    {
     "data": {
      "text/plain": [
       "continent\n",
       "AF     16.264151\n",
       "AS      9.068182\n",
       "EU    142.222222\n",
       "OC     35.625000\n",
       "OT     24.521739\n",
       "SA     62.416667\n",
       "Name: wine_servings, dtype: float64"
      ]
     },
     "execution_count": 150,
     "metadata": {},
     "output_type": "execute_result"
    }
   ],
   "source": [
    "#대륙별 평균 wine_servings를 탐색\n",
    "drinks.groupby('continent').wine_servings.mean()"
   ]
  },
  {
   "cell_type": "code",
   "execution_count": 151,
   "id": "b1cf64fb-d5cc-46e2-aae7-8d3396c5872f",
   "metadata": {
    "scrolled": true
   },
   "outputs": [
    {
     "data": {
      "text/html": [
       "<div>\n",
       "<style scoped>\n",
       "    .dataframe tbody tr th:only-of-type {\n",
       "        vertical-align: middle;\n",
       "    }\n",
       "\n",
       "    .dataframe tbody tr th {\n",
       "        vertical-align: top;\n",
       "    }\n",
       "\n",
       "    .dataframe thead th {\n",
       "        text-align: right;\n",
       "    }\n",
       "</style>\n",
       "<table border=\"1\" class=\"dataframe\">\n",
       "  <thead>\n",
       "    <tr style=\"text-align: right;\">\n",
       "      <th></th>\n",
       "      <th>country</th>\n",
       "      <th>beer_servings</th>\n",
       "      <th>spirit_servings</th>\n",
       "      <th>wine_servings</th>\n",
       "      <th>total_litres_of_pure_alcohol</th>\n",
       "      <th>continent</th>\n",
       "      <th>total_servings</th>\n",
       "    </tr>\n",
       "  </thead>\n",
       "  <tbody>\n",
       "    <tr>\n",
       "      <th>0</th>\n",
       "      <td>Afghanistan</td>\n",
       "      <td>0</td>\n",
       "      <td>0</td>\n",
       "      <td>0</td>\n",
       "      <td>0.0</td>\n",
       "      <td>AS</td>\n",
       "      <td>0</td>\n",
       "    </tr>\n",
       "    <tr>\n",
       "      <th>1</th>\n",
       "      <td>Albania</td>\n",
       "      <td>89</td>\n",
       "      <td>132</td>\n",
       "      <td>54</td>\n",
       "      <td>4.9</td>\n",
       "      <td>EU</td>\n",
       "      <td>275</td>\n",
       "    </tr>\n",
       "    <tr>\n",
       "      <th>2</th>\n",
       "      <td>Algeria</td>\n",
       "      <td>25</td>\n",
       "      <td>0</td>\n",
       "      <td>14</td>\n",
       "      <td>0.7</td>\n",
       "      <td>AF</td>\n",
       "      <td>39</td>\n",
       "    </tr>\n",
       "    <tr>\n",
       "      <th>3</th>\n",
       "      <td>Andorra</td>\n",
       "      <td>245</td>\n",
       "      <td>138</td>\n",
       "      <td>312</td>\n",
       "      <td>12.4</td>\n",
       "      <td>EU</td>\n",
       "      <td>695</td>\n",
       "    </tr>\n",
       "    <tr>\n",
       "      <th>4</th>\n",
       "      <td>Angola</td>\n",
       "      <td>217</td>\n",
       "      <td>57</td>\n",
       "      <td>45</td>\n",
       "      <td>5.9</td>\n",
       "      <td>AF</td>\n",
       "      <td>319</td>\n",
       "    </tr>\n",
       "    <tr>\n",
       "      <th>...</th>\n",
       "      <td>...</td>\n",
       "      <td>...</td>\n",
       "      <td>...</td>\n",
       "      <td>...</td>\n",
       "      <td>...</td>\n",
       "      <td>...</td>\n",
       "      <td>...</td>\n",
       "    </tr>\n",
       "    <tr>\n",
       "      <th>188</th>\n",
       "      <td>Venezuela</td>\n",
       "      <td>333</td>\n",
       "      <td>100</td>\n",
       "      <td>3</td>\n",
       "      <td>7.7</td>\n",
       "      <td>SA</td>\n",
       "      <td>436</td>\n",
       "    </tr>\n",
       "    <tr>\n",
       "      <th>189</th>\n",
       "      <td>Vietnam</td>\n",
       "      <td>111</td>\n",
       "      <td>2</td>\n",
       "      <td>1</td>\n",
       "      <td>2.0</td>\n",
       "      <td>AS</td>\n",
       "      <td>114</td>\n",
       "    </tr>\n",
       "    <tr>\n",
       "      <th>190</th>\n",
       "      <td>Yemen</td>\n",
       "      <td>6</td>\n",
       "      <td>0</td>\n",
       "      <td>0</td>\n",
       "      <td>0.1</td>\n",
       "      <td>AS</td>\n",
       "      <td>6</td>\n",
       "    </tr>\n",
       "    <tr>\n",
       "      <th>191</th>\n",
       "      <td>Zambia</td>\n",
       "      <td>32</td>\n",
       "      <td>19</td>\n",
       "      <td>4</td>\n",
       "      <td>2.5</td>\n",
       "      <td>AF</td>\n",
       "      <td>55</td>\n",
       "    </tr>\n",
       "    <tr>\n",
       "      <th>192</th>\n",
       "      <td>Zimbabwe</td>\n",
       "      <td>64</td>\n",
       "      <td>18</td>\n",
       "      <td>4</td>\n",
       "      <td>4.7</td>\n",
       "      <td>AF</td>\n",
       "      <td>86</td>\n",
       "    </tr>\n",
       "  </tbody>\n",
       "</table>\n",
       "<p>193 rows × 7 columns</p>\n",
       "</div>"
      ],
      "text/plain": [
       "         country  beer_servings  spirit_servings  wine_servings  \\\n",
       "0    Afghanistan              0                0              0   \n",
       "1        Albania             89              132             54   \n",
       "2        Algeria             25                0             14   \n",
       "3        Andorra            245              138            312   \n",
       "4         Angola            217               57             45   \n",
       "..           ...            ...              ...            ...   \n",
       "188    Venezuela            333              100              3   \n",
       "189      Vietnam            111                2              1   \n",
       "190        Yemen              6                0              0   \n",
       "191       Zambia             32               19              4   \n",
       "192     Zimbabwe             64               18              4   \n",
       "\n",
       "     total_litres_of_pure_alcohol continent  total_servings  \n",
       "0                             0.0        AS               0  \n",
       "1                             4.9        EU             275  \n",
       "2                             0.7        AF              39  \n",
       "3                            12.4        EU             695  \n",
       "4                             5.9        AF             319  \n",
       "..                            ...       ...             ...  \n",
       "188                           7.7        SA             436  \n",
       "189                           2.0        AS             114  \n",
       "190                           0.1        AS               6  \n",
       "191                           2.5        AF              55  \n",
       "192                           4.7        AF              86  \n",
       "\n",
       "[193 rows x 7 columns]"
      ]
     },
     "execution_count": 151,
     "metadata": {},
     "output_type": "execute_result"
    }
   ],
   "source": [
    "#국가별 모든 servings의 합을 계산한 total_servings 피처 생성\n",
    "drinks['total_servings'] = drinks['beer_servings'] + drinks['spirit_servings'] + drinks['wine_servings']\n",
    "drinks"
   ]
  },
  {
   "cell_type": "code",
   "execution_count": 152,
   "id": "b0ba927b-fa5e-4fe2-9f09-1b5b46b7f2ff",
   "metadata": {},
   "outputs": [
    {
     "data": {
      "text/html": [
       "<div>\n",
       "<style scoped>\n",
       "    .dataframe tbody tr th:only-of-type {\n",
       "        vertical-align: middle;\n",
       "    }\n",
       "\n",
       "    .dataframe tbody tr th {\n",
       "        vertical-align: top;\n",
       "    }\n",
       "\n",
       "    .dataframe thead th {\n",
       "        text-align: right;\n",
       "    }\n",
       "</style>\n",
       "<table border=\"1\" class=\"dataframe\">\n",
       "  <thead>\n",
       "    <tr style=\"text-align: right;\">\n",
       "      <th></th>\n",
       "      <th>country</th>\n",
       "      <th>spirit_servings</th>\n",
       "    </tr>\n",
       "  </thead>\n",
       "  <tbody>\n",
       "    <tr>\n",
       "      <th>134</th>\n",
       "      <td>Philippines</td>\n",
       "      <td>186</td>\n",
       "    </tr>\n",
       "  </tbody>\n",
       "</table>\n",
       "</div>"
      ],
      "text/plain": [
       "         country  spirit_servings\n",
       "134  Philippines              186"
      ]
     },
     "execution_count": 152,
     "metadata": {},
     "output_type": "execute_result"
    }
   ],
   "source": [
    "#전체 평균보다 적은 알코올을 마시는 대륙 중, spirit을 가장 많이 마시는 국가\n",
    "alcohol_mean = drinks.total_litres_of_pure_alcohol.mean() #전체 평균 알코올\n",
    "alcohol_less_country = drinks[drinks['total_litres_of_pure_alcohol'] < alcohol_mean][['country', 'spirit_servings']]\n",
    "alcohol_less_country.sort_values(by='spirit_servings', ascending=False).head(1)"
   ]
  },
  {
   "cell_type": "code",
   "execution_count": 154,
   "id": "8a4d7e7a-ab88-4c24-ac60-b6115493ffea",
   "metadata": {},
   "outputs": [
    {
     "data": {
      "text/plain": [
       "0           NaN\n",
       "1      0.017818\n",
       "2      0.017949\n",
       "3      0.017842\n",
       "4      0.018495\n",
       "         ...   \n",
       "188    0.017661\n",
       "189    0.017544\n",
       "190    0.016667\n",
       "191    0.045455\n",
       "192    0.054651\n",
       "Length: 193, dtype: float64"
      ]
     },
     "execution_count": 154,
     "metadata": {},
     "output_type": "execute_result"
    }
   ],
   "source": [
    "#술 소비량 대비 알코올 비율\n",
    "drinks['total_litres_of_pure_alcohol'] / drinks['total_servings']"
   ]
  },
  {
   "cell_type": "code",
   "execution_count": 155,
   "id": "a9eef440-9fe9-4711-a85d-badb3473b794",
   "metadata": {},
   "outputs": [
    {
     "data": {
      "text/plain": [
       "continent\n",
       "AF    0.031970\n",
       "AS    0.020293\n",
       "EU    0.018392\n",
       "OC    0.018401\n",
       "OT    0.017860\n",
       "SA    0.017909\n",
       "dtype: float64"
      ]
     },
     "execution_count": 155,
     "metadata": {},
     "output_type": "execute_result"
    }
   ],
   "source": [
    "#대륙별로 술 소비량 대비 알코올 비율을 계산\n",
    "continent_sum = drinks.groupby('continent').sum()\n",
    "continent_sum['total_litres_of_pure_alcohol'] / continent_sum['total_servings']"
   ]
  },
  {
   "cell_type": "code",
   "execution_count": 1,
   "id": "afa24a24-ad1d-43e4-b743-72ef472a8f0e",
   "metadata": {},
   "outputs": [
    {
     "name": "stdout",
     "output_type": "stream",
     "text": [
      "https://n.news.naver.com/mnews/article/437/0000398953\n",
      "https://n.news.naver.com/mnews/article/057/0001826103\n",
      "https://n.news.naver.com/mnews/article/022/0003945393\n",
      "https://n.news.naver.com/mnews/article/022/0003945392\n",
      "https://n.news.naver.com/mnews/article/031/0000848058\n"
     ]
    }
   ],
   "source": [
    "from selenium import webdriver\n",
    "from selenium.webdriver.chrome.service import Service\n",
    "from webdriver_manager.chrome import ChromeDriverManager\n",
    "\n",
    "from bs4 import BeautifulSoup\n",
    "import re\n",
    "\n",
    "# 크롤링할 사이트 주소를 입력\n",
    "source_url = \"https://news.naver.com/main/main.naver?mode=LSD&mid=shm&sid1=100\"\n",
    "\n",
    "options = webdriver.ChromeOptions() # 크롭 브라우저의 옵션을 설정\n",
    "service = Service(executable_path=ChromeDriverManager().install()) # 운영체제에 맞는 크롭 드라이버를 자동 설치\n",
    "\n",
    "# 사이트의 html 구조에 기반하여 크롤링을 수행\n",
    "driver = webdriver.Chrome(service=service, options=options) # 크롭 웹 드라이브를 초기화 후 옵션 전달하여 브라우저를 엶\n",
    "driver.get(source_url) # 해당 url로 브라우저를 이동\n",
    "req = driver.page_source # 현재 페이지의 HTML 소스를 문자열로 가져옴\n",
    "soup = BeautifulSoup(req, 'html.parser') # req를 파싱하여 Beautiful 객체 생성 -> 파이썬이 이해하기 쉬운형태로 변환\n",
    "cluster_text = soup.find_all(name=\"div\", attrs={\"class\":\"sa_text\"}) # 특정 클래스(sa_text)를 가진 div 태그를 찾아냄\n",
    "\n",
    "# a 태그의 href 속성을 리스트로 추출하여, 크롤링 할 페이지 리스트를 생성\n",
    "page_urls = []\n",
    "for idx in range(0, len(cluster_text)):\n",
    "    cluster = cluster_text[idx]\n",
    "    news_url = cluster.find(name='a', attrs={\"class\":\"sa_text_title\"}) # 특정 클래스(sa_text_title)를 가진 a 태그를 찾아냄\n",
    "    if news_url is not None:\n",
    "        page_urls.append(news_url.get(\"href\")) # href의 속성, 즉 링크 주소를 가져옴\n",
    "\n",
    "# 중복 url을 제거\n",
    "page_urls = list(set(page_urls))\n",
    "\n",
    "# 5개의 페이지를 출력\n",
    "for page in page_urls[:5]:\n",
    "    print(page)\n",
    "\n",
    "# 크롤링에 사용한 브라우저를 종료\n",
    "driver.close()"
   ]
  },
  {
   "cell_type": "code",
   "execution_count": 2,
   "id": "369beb52-2e4c-44d7-a748-258feae6d0a8",
   "metadata": {},
   "outputs": [
    {
     "data": {
      "text/plain": [
       "46"
      ]
     },
     "execution_count": 2,
     "metadata": {},
     "output_type": "execute_result"
    }
   ],
   "source": [
    "len(cluster_text)"
   ]
  },
  {
   "cell_type": "code",
   "execution_count": 3,
   "id": "edadc3aa-17f7-4d89-9640-5f4d791188f4",
   "metadata": {},
   "outputs": [
    {
     "name": "stdout",
     "output_type": "stream",
     "text": [
      "[돌비뉴스] 홍준표, 원희룡은 얼싸안더니…한동훈 겨냥 \"이상한 애\"\n",
      "\n",
      "\n",
      "< 조조·유비 아닌 맹획 >[기자]오늘(26일) 홍준표 대구시장과 원희룡 전 국토부 장관이 만났죠.만나자마자 손 잡고 얼싸 안고 거의 연인을 방불케하는 살가운 모습을 연출했습니다.[앵커]나경원 의원에 이어 원희룡 전 장관을 만났는데 한동훈 전 위원장도 만나나요?[기자]이 질문에 대한 대답, 홍준표 시장이 직접 했는데요.[홍준표/대구시장 : 우리 비서실장이 나한테 보고도 안 해요. 그런 거는. 27일날 온다고 그러는데, 그날도 오지 마라. 만날 이유가 없지.][한동훈/국민의힘 당대표 후보 : 본인이 만나기 싫다고 하시니 뵙기 어렵지 않겠습니까.][앵커]만나달라고 세 번까지 요청은 않겠네요.[기자]네, 홍 시장은 오늘도 한 전 위원장을 향한 비난을 이어갔습니다.'이상한 애'라 칭하는가 하면 '보수 진영' 사람이 아니었단 점도 강조했는데요.[홍준표/대구시장 : 이상한 애가 당선이 돼버리면 그다음부터는 정부 여당이 같이 몰락하는 겁니다.]한동훈 전 위원장이 오늘 '게임 삼국지'를 언급한게 이런 공격에 대한 답이 아닌가 싶은데요.앵커님 혹시 게임 삼국지 해 보셨나요? 누구를 주인공으로 많이 하셨나요?[앵커]네. 최고의 전략 시뮬레이션 게임, 아무래도 유비·조조 많이 하죠.[기자]근데 한동훈 전 위원장이 오늘 청년 보좌진들과 만난 자리에서 이 삼국지 게임을 좋아했는데, 유비나 조조가 아닌 \"남만의 맹획으로 주로 플레이를 했다\"고 밝혔는데요.'맹획' 딱 보기에도 주류 세력은 아닌 것 같죠.남만의 왕, 이민족 출신인데요.제갈량에 7번 잡힌 끝에 촉나라에 귀화해서 엄청난 충성심을 보였고요. 재상까지 지냈습니다.'외부인'이란 공격이 계속되니 과거에 전쟁을 벌이기는 했지만 결국 촉에 충성했던 맹획에 빗댄 것 아닌가 싶습니다.\n",
      "\t\t\n",
      "\n"
     ]
    }
   ],
   "source": [
    "#페이지 내 텍스트 구조 확인\n",
    "driver = webdriver.Chrome(service=service, options=options)\n",
    "\n",
    "driver.get(page_urls[0]) # 해당 url로 브라우저를 이동\n",
    "req = driver.page_source # 현재 페이지의 html 소스코드를 가져옴\n",
    "soup = BeautifulSoup(req, 'html.parser') # html을 파싱\n",
    "\n",
    "title_area = soup.find(name=\"div\", attrs={\"class\":\"media_end_head_title\"}) # 클래스가 \"media_end_head_title\"인 div 태그를 찾음\n",
    "title = title_area.find_all('h2')[0] # h2 태그를 찾아 제목을 가져\n",
    "content_paragraphs = soup.find(name=\"div\", attrs={\"class\":\"newsct_article\"}) # 클래스가 \"newsct_article\"인 div 태그를 찾음\n",
    "content_corpus = content_paragraphs.text # 기사 내용을 포함하는 텍스트를 추출\n",
    "\n",
    "print(title.text) # 기사 제목을 출력\n",
    "print(content_corpus) # 기사 내용을 출력\n",
    "\n",
    "driver.close() "
   ]
  },
  {
   "cell_type": "code",
   "execution_count": 4,
   "id": "3ced012f-0c57-402e-8672-f95d17d7430d",
   "metadata": {},
   "outputs": [
    {
     "data": {
      "text/plain": [
       "<div class=\"media_end_head_title\">\n",
       "<h2 class=\"media_end_head_headline\" id=\"title_area\"><span>[돌비뉴스] 홍준표, 원희룡은 얼싸안더니…한동훈 겨냥 \"이상한 애\"</span></h2>\n",
       "</div>"
      ]
     },
     "execution_count": 4,
     "metadata": {},
     "output_type": "execute_result"
    }
   ],
   "source": [
    "title_area"
   ]
  },
  {
   "cell_type": "code",
   "execution_count": 5,
   "id": "ecbeac8b-ce62-4c24-bc43-fdf9585aea82",
   "metadata": {},
   "outputs": [
    {
     "data": {
      "text/html": [
       "<div>\n",
       "<style scoped>\n",
       "    .dataframe tbody tr th:only-of-type {\n",
       "        vertical-align: middle;\n",
       "    }\n",
       "\n",
       "    .dataframe tbody tr th {\n",
       "        vertical-align: top;\n",
       "    }\n",
       "\n",
       "    .dataframe thead th {\n",
       "        text-align: right;\n",
       "    }\n",
       "</style>\n",
       "<table border=\"1\" class=\"dataframe\">\n",
       "  <thead>\n",
       "    <tr style=\"text-align: right;\">\n",
       "      <th></th>\n",
       "      <th>title</th>\n",
       "      <th>content_text</th>\n",
       "    </tr>\n",
       "  </thead>\n",
       "  <tbody>\n",
       "    <tr>\n",
       "      <th>0</th>\n",
       "      <td>[돌비뉴스] 홍준표, 원희룡은 얼싸안더니…한동훈 겨냥 \"이상한 애\"</td>\n",
       "      <td>\\n\\n&lt; 조조·유비 아닌 맹획 &gt;[기자]오늘(26일) 홍준표 대구시장과 원희룡 전...</td>\n",
       "    </tr>\n",
       "    <tr>\n",
       "      <th>1</th>\n",
       "      <td>[정치톡톡] 윤상현 \"대통령 입장 처박아\" / 조경태 \"최저위원 아닌가\" / '의새...</td>\n",
       "      <td>\\n\\n\\t\\t\\t【 앵커멘트 】  국회 출입하는 김지영 기자와 정치톡톡 시작합니다...</td>\n",
       "    </tr>\n",
       "    <tr>\n",
       "      <th>2</th>\n",
       "      <td>北, 美 핵항모·연합훈련 의식했나…오물풍선 살포 이어 ‘미사일 도발’</td>\n",
       "      <td>\\n\\n극초음속 성능 개량 시험한 듯합참 “공중 폭발… 실패로 추정”북한이 26일 ...</td>\n",
       "    </tr>\n",
       "    <tr>\n",
       "      <th>3</th>\n",
       "      <td>‘영남 당심 잡기’ 홍준표 구애 나선 與 당권주자들</td>\n",
       "      <td>\\n\\n원희룡, 대구시청서 홍 시장 면담나경원·윤상현도 홍 만나 친분 어필홍 ‘윤심...</td>\n",
       "    </tr>\n",
       "    <tr>\n",
       "      <th>4</th>\n",
       "      <td>[종합] 조국혁신당, '검찰 해체' 칼 들었다</td>\n",
       "      <td>\\n\\n'수사·기소' 분리 초점 맞춘 '검찰개혁 4법' 추진기소 전담 공소청·중요범...</td>\n",
       "    </tr>\n",
       "  </tbody>\n",
       "</table>\n",
       "</div>"
      ],
      "text/plain": [
       "                                               title  \\\n",
       "0              [돌비뉴스] 홍준표, 원희룡은 얼싸안더니…한동훈 겨냥 \"이상한 애\"   \n",
       "1  [정치톡톡] 윤상현 \"대통령 입장 처박아\" / 조경태 \"최저위원 아닌가\" / '의새...   \n",
       "2             北, 美 핵항모·연합훈련 의식했나…오물풍선 살포 이어 ‘미사일 도발’   \n",
       "3                       ‘영남 당심 잡기’ 홍준표 구애 나선 與 당권주자들   \n",
       "4                          [종합] 조국혁신당, '검찰 해체' 칼 들었다   \n",
       "\n",
       "                                        content_text  \n",
       "0  \\n\\n< 조조·유비 아닌 맹획 >[기자]오늘(26일) 홍준표 대구시장과 원희룡 전...  \n",
       "1  \\n\\n\\t\\t\\t【 앵커멘트 】  국회 출입하는 김지영 기자와 정치톡톡 시작합니다...  \n",
       "2  \\n\\n극초음속 성능 개량 시험한 듯합참 “공중 폭발… 실패로 추정”북한이 26일 ...  \n",
       "3  \\n\\n원희룡, 대구시청서 홍 시장 면담나경원·윤상현도 홍 만나 친분 어필홍 ‘윤심...  \n",
       "4  \\n\\n'수사·기소' 분리 초점 맞춘 '검찰개혁 4법' 추진기소 전담 공소청·중요범...  "
      ]
     },
     "execution_count": 5,
     "metadata": {},
     "output_type": "execute_result"
    }
   ],
   "source": [
    "import pandas as pd\n",
    "\n",
    "# 크롤링한 데이터를 데이터 프레임으로 만들기 위해 준비\n",
    "columns = [\"title\", \"content_text\"]\n",
    "dfs = []\n",
    "\n",
    "# 각 페이지 별 '제목', '본문' 정보를 데이터 프레임으로 만듦\n",
    "for page_url in page_urls:\n",
    "    driver = webdriver.Chrome(service=service, options=options)\n",
    "    driver.get(page_url)\n",
    "    req = driver.page_source\n",
    "    soup = BeautifulSoup(req, 'html.parser')\n",
    "\n",
    "    title_area = soup.find(name=\"div\", attrs={\"class\":\"media_end_head_title\"})\n",
    "    title = title_area.find('h2')\n",
    "    content_paragraphs = soup.find(name=\"div\", attrs={\"class\":\"newsct_article\"})\n",
    "    content_corpus = content_paragraphs.text\n",
    "\n",
    "    # 제목 정보에서 개행 문자를 제거 후 추출. 없으면 빈 문자열로 대체\n",
    "    if title is not None:\n",
    "        row_title = title.text.replace('\\n', ' ')\n",
    "    else:\n",
    "        row_title = \"\"\n",
    "\n",
    "    df = pd.DataFrame([[row_title, content_corpus]], columns=columns)\n",
    "    dfs.append(df)\n",
    "    \n",
    "    driver.close()\n",
    "\n",
    "# 모든 정보를 하나의 데이터 프레임에 저장\n",
    "df = pd.concat(dfs, ignore_index=True) # 데이터프레임을 하나로 결합, 인덱스를 재설정하여 새로운 인덱스를 생성\n",
    "df.head()"
   ]
  },
  {
   "cell_type": "code",
   "execution_count": 6,
   "id": "6429211a-d711-49e5-a886-2cc1c14b805b",
   "metadata": {},
   "outputs": [
    {
     "name": "stdout",
     "output_type": "stream",
     "text": [
      " 조조유비 아닌 맹획 기자오늘일 홍준표 대구시장과 원희룡 전 국토부 장관이 만났죠만나자마자 손 잡고 얼싸 안고 거의 연인을 방불케하는 살가운 모습을 연출했습니다앵커나경원 의원에 이어 원희룡 전 장관을 만났는데 한동훈 전 위원장도 만나나요기자이 질문에 대한 대답 홍준표 시장이 직접 했는데요홍준표대구시장  우리 비서실장이 나한테 보고도 안 해요 그런 거는 일날 온다고 그러는데 그날도 오지 마라 만날 이유가 없지한동훈국민의힘 당대표 후보  본인이 만나기 싫다고 하시니 뵙기 어렵지 않겠습니까앵커만나달라고 세 번까지 요청은 않겠네요기자네 홍 시장은 오늘도 한 전 위원장을 향한 비난을 이어갔습니다이상한 애라 칭하는가 하면 보수 진영 사람이 아니었단 점도 강조했는데요홍준표대구시장  이상한 애가 당선이 돼버리면 그다음부터는 정부 여당이 같이 몰락하는 겁니다한동훈 전 위원장이 오늘 게임 삼국지를 언급한게 이런 공격에 대한 답이 아닌가 싶은데요앵커님 혹시 게임 삼국지 해 보셨나요 누구를 주인공으로 많이 하셨나요앵커네 최고의 전략 시뮬레이션 게임 아무래도 유비조조 많이 하죠기자근데 한동훈 전 위원장이 오늘 청년 보좌진들과 만난 자리에서 이 삼국지 게임을 좋아했는데 유비나 조조가 아닌 남만의 맹획으로 주로 플레이를 했다고 밝혔는데요맹획 딱 보기에도 주류 세력은 아닌 것 같죠남만의 왕 이민족 출신인데요제갈량에 번 잡힌 끝에 촉나라에 귀화해서 엄청난 충성심을 보였고요 재상까지 지냈습니다외부인이란 공격이 계속되니 과거에 전쟁을 벌이기는 했지만 결국 촉에 충성했던 맹획에 빗댄 것 아닌가 싶습니다\n"
     ]
    }
   ],
   "source": [
    "import re\n",
    "\n",
    "# 한국어 문자열에서 한글 자모음만 남기고 나머지 문자들을 제거하는 함수\n",
    "def text_cleaning(text):\n",
    "    hangul = re.compile('[^ ㄱ-ㅣ가-힣]+') # 한글 자모음과 음절을 제외한 모든 문자 (^는 부정 문자 클래스)\n",
    "    result = hangul.sub('', text) # 해당 정규 표현식에 매치되는 부분을 빈 문자열로 치환\n",
    "    return result\n",
    "\n",
    "print(text_cleaning(df['content_text'][0]))"
   ]
  },
  {
   "cell_type": "code",
   "execution_count": 7,
   "id": "eaa7bf0f-a6d5-4582-a337-f376f23e03c2",
   "metadata": {},
   "outputs": [
    {
     "data": {
      "text/html": [
       "<div>\n",
       "<style scoped>\n",
       "    .dataframe tbody tr th:only-of-type {\n",
       "        vertical-align: middle;\n",
       "    }\n",
       "\n",
       "    .dataframe tbody tr th {\n",
       "        vertical-align: top;\n",
       "    }\n",
       "\n",
       "    .dataframe thead th {\n",
       "        text-align: right;\n",
       "    }\n",
       "</style>\n",
       "<table border=\"1\" class=\"dataframe\">\n",
       "  <thead>\n",
       "    <tr style=\"text-align: right;\">\n",
       "      <th></th>\n",
       "      <th>title</th>\n",
       "      <th>content_text</th>\n",
       "    </tr>\n",
       "  </thead>\n",
       "  <tbody>\n",
       "    <tr>\n",
       "      <th>0</th>\n",
       "      <td>돌비뉴스 홍준표 원희룡은 얼싸안더니한동훈 겨냥 이상한 애</td>\n",
       "      <td>조조유비 아닌 맹획 기자오늘일 홍준표 대구시장과 원희룡 전 국토부 장관이 만났죠만...</td>\n",
       "    </tr>\n",
       "    <tr>\n",
       "      <th>1</th>\n",
       "      <td>정치톡톡 윤상현 대통령 입장 처박아  조경태 최저위원 아닌가  의새 발언 소환  비...</td>\n",
       "      <td>앵커멘트   국회 출입하는 김지영 기자와 정치톡톡 시작합니다 질문      앞서 ...</td>\n",
       "    </tr>\n",
       "    <tr>\n",
       "      <th>2</th>\n",
       "      <td>핵항모연합훈련 의식했나오물풍선 살포 이어 미사일 도발</td>\n",
       "      <td>극초음속 성능 개량 시험한 듯합참 공중 폭발 실패로 추정북한이 일 동해상으로 탄도미...</td>\n",
       "    </tr>\n",
       "    <tr>\n",
       "      <th>3</th>\n",
       "      <td>영남 당심 잡기 홍준표 구애 나선  당권주자들</td>\n",
       "      <td>원희룡 대구시청서 홍 시장 면담나경원윤상현도 홍 만나 친분 어필홍 윤심 대변 보수층...</td>\n",
       "    </tr>\n",
       "    <tr>\n",
       "      <th>4</th>\n",
       "      <td>종합 조국혁신당 검찰 해체 칼 들었다</td>\n",
       "      <td>수사기소 분리 초점 맞춘 검찰개혁 법 추진기소 전담 공소청중요범죄 수사 중수청 신설...</td>\n",
       "    </tr>\n",
       "  </tbody>\n",
       "</table>\n",
       "</div>"
      ],
      "text/plain": [
       "                                               title  \\\n",
       "0                    돌비뉴스 홍준표 원희룡은 얼싸안더니한동훈 겨냥 이상한 애   \n",
       "1  정치톡톡 윤상현 대통령 입장 처박아  조경태 최저위원 아닌가  의새 발언 소환  비...   \n",
       "2                      핵항모연합훈련 의식했나오물풍선 살포 이어 미사일 도발   \n",
       "3                          영남 당심 잡기 홍준표 구애 나선  당권주자들   \n",
       "4                               종합 조국혁신당 검찰 해체 칼 들었다   \n",
       "\n",
       "                                        content_text  \n",
       "0   조조유비 아닌 맹획 기자오늘일 홍준표 대구시장과 원희룡 전 국토부 장관이 만났죠만...  \n",
       "1   앵커멘트   국회 출입하는 김지영 기자와 정치톡톡 시작합니다 질문      앞서 ...  \n",
       "2  극초음속 성능 개량 시험한 듯합참 공중 폭발 실패로 추정북한이 일 동해상으로 탄도미...  \n",
       "3  원희룡 대구시청서 홍 시장 면담나경원윤상현도 홍 만나 친분 어필홍 윤심 대변 보수층...  \n",
       "4  수사기소 분리 초점 맞춘 검찰개혁 법 추진기소 전담 공소청중요범죄 수사 중수청 신설...  "
      ]
     },
     "execution_count": 7,
     "metadata": {},
     "output_type": "execute_result"
    }
   ],
   "source": [
    "# 모든 데이터에 전처리 적용하기\n",
    "df['title'] = df['title'].apply(lambda x: text_cleaning(x))\n",
    "df['content_text'] = df['content_text'].apply(lambda x: text_cleaning(x))\n",
    "\n",
    "df.head(5)"
   ]
  },
  {
   "cell_type": "code",
   "execution_count": 8,
   "id": "69c416d4-00d2-4819-b491-a9f2ae158f98",
   "metadata": {},
   "outputs": [
    {
     "name": "stdout",
     "output_type": "stream",
     "text": [
      "돌비뉴스 홍준표 원희룡은 얼싸안더니한동훈 겨냥 이상한 애정치톡톡 윤상현 대통령 입장 처박아  조경태 최저위원 아닌가  의새 발언 소환  비속어 사과 공방  정청래 뜨거운 맛  핵항모연합훈련 의식했나오물풍선 살포 이어 미사일 도발영남 당심 잡기 홍준표 구애 나선  당권주자들종합 조국혁신당 검찰 해체 칼 들었다인터뷰원희룡 국민의힘 대표 후보임현택 의료공백 복지부 탓막말 사과 거부뉴스프라임 탄도 미사일에 오물풍선까지북 잇단 도발 속내는민주혁신당  옥죄기 넘어 검찰제도 폐지 연대 시동방심위 제재 건 집행정지김홍일이상인류희림이 소송 비용 내라민형배 검찰 돕는다에 경기도 황당이화영 자료제출 공방복지위 의료공백 청문회명 증원 근거 두고 공방돌비뉴스 저한테 미친 여자라 그러셨죠의협 회장 묘한 표정 짓더니 네여당 당권 주자들 핵무장 논쟁강성 보수층 끌어안기 기싸움서북도서 년 만에 해병대 포성  도발과  대응으로 한반도 격랑북 극초음속 미사일 공중 폭발수도권서 비행운 목격야권 외압 배경에 김 여사 의심임성근 이씨 본 적도 없는 사람홍준표 한동훈 면담 요청 번 거절 이상한 애  본인이 만나기 싫다는데윤 대통령 임기 내 만 명 심리상담다음 달 본격 시작진단과 오물에서 포탄과 미사일로다음은 제의 천안함연평도 명 집착 이천공 때문인가  국민  이상이 의료개혁 찬성 국회서 의정 격돌강선우 의원 저한테 미친 여자라 그랬죠의협회장 표현의 자유한동훈표 제자 추천 특검  일각에선 받자원희룡친윤계 연대론 시동에나경원 선 긋기천명 미스터리 공방 속 환자단체의 울분 불안 이용마라한동훈 알고보니 게임 덕후삼국지 조조유비 아닌 맹획으로 깬다신정훈 고집 과 싸워 이길 사람 이재명밖에막장 한동훈 결국 안 될 것여의도초대석한동훈의 제자 특검 진심일까 반윤 선언일까권영철의 뉴스미  랩터 또 한반도 왔다공격원점 타격 훈련의대 증원 천명 결정 누가 했나복지장관 내가 했다북 괌 타격 가능 극초음속 미사일 발사공중 폭발 영상 보니정청래 여 윤리위 제소 맞불법사위 방해 퇴거불응죄로 고발 검토이재명 경제 사정 어려워책 사서 변호사비 보태자 행렬에 나경원 개딸 쓸데없이 걱정윤상현 전당대회 전 백서 출간하라조정훈 지도부가 결정이상민 정청래 완전 완장 찬 사람일제 형사보다 더해강선우 저한테 미친 여자라고 그러셨죠 웃음 참던 의협회장 네가장 먼저  온 나경원 산은 부산 이전 팍팍 밀어줄 생각흔들리는 임현택 리더십회장 탄핵안 발의되면 통과될 수도백령연평도서 해상사격훈련합의로 중단 년만에 재개정부 의료개혁 첫발  의협 수가부터 개선 국회서 의정 격돌아들한테까지 핀잔 들어유상범 정청래에 손 내밀었다  탄도미사일 발사했지만 실패여랑야랑홍준표 한 명만 거절  년 만에 역주행  조국혁신당의 선전포고뉴스추적 공중 폭발 북한 미사일사격훈련 재개 의미는사건 회수 그날 대통령신범철 추가 통화국방부 장차관과 수차례 왜명 증원 의 일방적 결정 아닙니까 캐물은 \n"
     ]
    }
   ],
   "source": [
    "#각 피처마다 말뭉치를 생성\n",
    "title_corpus = \"\".join(df['title'].tolist()) # title 열을 리스트로 만들고 합치기\n",
    "content_corpus = \"\".join(df['content_text'].tolist()) # content_text 열을 리스트로 만들고 합치기\n",
    "print(title_corpus)"
   ]
  },
  {
   "cell_type": "code",
   "execution_count": 9,
   "id": "f80cd1a4-8c17-4014-803f-299664352255",
   "metadata": {
    "scrolled": true
   },
   "outputs": [
    {
     "data": {
      "text/plain": [
       "Counter({'것': 236,\n",
       "         '의원': 222,\n",
       "         '일': 150,\n",
       "         '전': 148,\n",
       "         '국민': 129,\n",
       "         '민주당': 119,\n",
       "         '이': 118,\n",
       "         '대표': 116,\n",
       "         '후보': 112,\n",
       "         '국회': 103,\n",
       "         '위원장': 101,\n",
       "         '북한': 101,\n",
       "         '의료': 99,\n",
       "         '힘': 95,\n",
       "         '수': 94,\n",
       "         '정부': 87,\n",
       "         '말': 85,\n",
       "         '훈련': 83,\n",
       "         '명': 81,\n",
       "         '기자': 78,\n",
       "         '등': 74,\n",
       "         '년': 73,\n",
       "         '회장': 71,\n",
       "         '생각': 67,\n",
       "         '대통령': 66,\n",
       "         '특검': 66,\n",
       "         '앵커': 65,\n",
       "         '장관': 63,\n",
       "         '증원': 62,\n",
       "         '한동훈': 61,\n",
       "         '미사일': 61,\n",
       "         '해상': 60,\n",
       "         '상황': 60,\n",
       "         '거': 59,\n",
       "         '발사': 59,\n",
       "         '검찰': 58,\n",
       "         '월': 57,\n",
       "         '날': 55,\n",
       "         '또': 55,\n",
       "         '의대': 54,\n",
       "         '관련': 53,\n",
       "         '결정': 53,\n",
       "         '지금': 52,\n",
       "         '사격': 51,\n",
       "         '그': 48,\n",
       "         '주장': 48,\n",
       "         '수사': 48,\n",
       "         '대한': 47,\n",
       "         '위': 47,\n",
       "         '법': 47,\n",
       "         '위원회': 46,\n",
       "         '임': 46,\n",
       "         '지난': 45,\n",
       "         '지역': 45,\n",
       "         '의사': 44,\n",
       "         '더': 44,\n",
       "         '오늘': 43,\n",
       "         '안': 43,\n",
       "         '정치': 42,\n",
       "         '대해': 42,\n",
       "         '혁신': 41,\n",
       "         '청문회': 39,\n",
       "         '시장': 38,\n",
       "         '우리': 38,\n",
       "         '때': 38,\n",
       "         '탄도미사일': 38,\n",
       "         '위원': 37,\n",
       "         '저': 37,\n",
       "         '이후': 36,\n",
       "         '좀': 36,\n",
       "         '해병대': 36,\n",
       "         '사건': 35,\n",
       "         '이재명': 35,\n",
       "         '건': 35,\n",
       "         '질문': 34,\n",
       "         '게': 33,\n",
       "         '사실': 33,\n",
       "         '비상': 33,\n",
       "         '선': 32,\n",
       "         '당시': 32,\n",
       "         '임현': 32,\n",
       "         '택': 32,\n",
       "         '추진': 32,\n",
       "         '조국': 32,\n",
       "         '유재': 32,\n",
       "         '홍': 31,\n",
       "         '입장': 31,\n",
       "         '당': 31,\n",
       "         '이번': 31,\n",
       "         '문제': 30,\n",
       "         '제': 30,\n",
       "         '분': 30,\n",
       "         '합의': 30,\n",
       "         '환자': 30,\n",
       "         '신정훈': 30,\n",
       "         '복지': 29,\n",
       "         '도발': 29,\n",
       "         '핵': 29,\n",
       "         '광': 29,\n",
       "         '특검법': 28,\n",
       "         '때문': 28,\n",
       "         '근거': 28,\n",
       "         '나': 27,\n",
       "         '여당': 27,\n",
       "         '가능성': 27,\n",
       "         '서울': 27,\n",
       "         '중': 27,\n",
       "         '과정': 27,\n",
       "         '통해': 27,\n",
       "         '보건': 27,\n",
       "         '사람': 26,\n",
       "         '차관': 26,\n",
       "         '의': 26,\n",
       "         '연합뉴스': 26,\n",
       "         '원': 26,\n",
       "         '총선': 26,\n",
       "         '정책': 26,\n",
       "         '나경원': 25,\n",
       "         '진': 25,\n",
       "         '진행': 25,\n",
       "         '한미': 25,\n",
       "         '발표': 25,\n",
       "         '도서': 25,\n",
       "         '시': 25,\n",
       "         '규홍': 25,\n",
       "         '출마': 24,\n",
       "         '서북': 24,\n",
       "         '달': 24,\n",
       "         '윤석열': 24,\n",
       "         '군사': 24,\n",
       "         '내': 23,\n",
       "         '추정': 23,\n",
       "         '실시': 23,\n",
       "         '대통령실': 23,\n",
       "         '주자': 23,\n",
       "         '원희룡': 22,\n",
       "         '비판': 22,\n",
       "         '의협': 22,\n",
       "         '조': 22,\n",
       "         '뉴스': 22,\n",
       "         '당원': 22,\n",
       "         '만큼': 22,\n",
       "         '당권': 22,\n",
       "         '개혁': 22,\n",
       "         '통화': 22,\n",
       "         '제안': 22,\n",
       "         '추천': 22,\n",
       "         '홍준표': 21,\n",
       "         '답변': 21,\n",
       "         '보건복지부': 21,\n",
       "         '대한의사협회': 21,\n",
       "         '말씀': 21,\n",
       "         '원장': 21,\n",
       "         '회의': 21,\n",
       "         '번': 20,\n",
       "         '강조': 20,\n",
       "         '지적': 20,\n",
       "         '위해': 20,\n",
       "         '두': 20,\n",
       "         '논의': 20,\n",
       "         '경기도': 20,\n",
       "         '요': 20,\n",
       "         '제출': 20,\n",
       "         '유상범': 20,\n",
       "         '대구시': 19,\n",
       "         '채': 19,\n",
       "         '발언': 19,\n",
       "         '점': 19,\n",
       "         '차례': 19,\n",
       "         '전당대회': 19,\n",
       "         '사태': 19,\n",
       "         '야당': 19,\n",
       "         '오후': 19,\n",
       "         '향': 18,\n",
       "         '복지부': 18,\n",
       "         '여자': 18,\n",
       "         '초음속': 18,\n",
       "         '동해': 18,\n",
       "         '설명': 18,\n",
       "         '군': 18,\n",
       "         '윤': 18,\n",
       "         '법안': 18,\n",
       "         '검사': 18,\n",
       "         '이제': 18,\n",
       "         '거부': 18,\n",
       "         '남북': 18,\n",
       "         '대책': 18,\n",
       "         '자신': 18,\n",
       "         '왜': 18,\n",
       "         '자료': 18,\n",
       "         '호남': 18,\n",
       "         '모습': 17,\n",
       "         '답': 17,\n",
       "         '사과': 17,\n",
       "         '강선우': 17,\n",
       "         '정청래': 17,\n",
       "         '오전': 17,\n",
       "         '기소': 17,\n",
       "         '범죄': 17,\n",
       "         '발의': 17,\n",
       "         '정도': 17,\n",
       "         '못': 17,\n",
       "         '씨': 17,\n",
       "         '서해': 17,\n",
       "         '달라': 17,\n",
       "         '전체': 17,\n",
       "         '만': 17,\n",
       "         '뭐': 17,\n",
       "         '제자': 17,\n",
       "         '보고': 16,\n",
       "         '요청': 16,\n",
       "         '보수': 16,\n",
       "         '심': 16,\n",
       "         '활동': 16,\n",
       "         '어제': 16,\n",
       "         '통과': 16,\n",
       "         '관계자': 16,\n",
       "         '데': 16,\n",
       "         '중수': 16,\n",
       "         '청': 16,\n",
       "         '다만': 16,\n",
       "         '걸': 16,\n",
       "         '공백': 16,\n",
       "         '라며': 16,\n",
       "         '반응': 16,\n",
       "         '부위': 16,\n",
       "         '부대': 16,\n",
       "         '박지환': 16,\n",
       "         '계속': 15,\n",
       "         '시작': 15,\n",
       "         '처': 15,\n",
       "         '선언': 15,\n",
       "         '박': 15,\n",
       "         '면담': 15,\n",
       "         '부산': 15,\n",
       "         '여의도': 15,\n",
       "         '적': 15,\n",
       "         '및': 15,\n",
       "         '제기': 15,\n",
       "         '모두': 15,\n",
       "         '결과': 15,\n",
       "         '건가': 15,\n",
       "         '숫자': 15,\n",
       "         '경우': 15,\n",
       "         '재개': 15,\n",
       "         '회': 15,\n",
       "         '확인': 15,\n",
       "         '김건희': 15,\n",
       "         '무장': 15,\n",
       "         '상병': 15,\n",
       "         '권영철': 15,\n",
       "         '해': 14,\n",
       "         '본인': 14,\n",
       "         '자리': 14,\n",
       "         '출신': 14,\n",
       "         '윤상현': 14,\n",
       "         '인터뷰': 14,\n",
       "         '정원': 14,\n",
       "         '반대': 14,\n",
       "         '요구': 14,\n",
       "         '연합': 14,\n",
       "         '대응': 14,\n",
       "         '사진': 14,\n",
       "         '개': 14,\n",
       "         '심의': 14,\n",
       "         '연대': 14,\n",
       "         '재': 14,\n",
       "         '대북': 14,\n",
       "         '민': 14,\n",
       "         '규모': 14,\n",
       "         '뒤': 14,\n",
       "         '위기': 14,\n",
       "         '소멸': 14,\n",
       "         '공군': 14,\n",
       "         '이유': 13,\n",
       "         '이야기': 13,\n",
       "         '국회법': 13,\n",
       "         '시험': 13,\n",
       "         '가운데': 13,\n",
       "         '연평도': 13,\n",
       "         '앞': 13,\n",
       "         '속': 13,\n",
       "         '거절': 13,\n",
       "         '첫': 13,\n",
       "         '정당': 13,\n",
       "         '부분': 13,\n",
       "         '관': 13,\n",
       "         '정': 13,\n",
       "         '의정': 13,\n",
       "         '갈등': 13,\n",
       "         '제보': 13,\n",
       "         '얘기': 13,\n",
       "         '협의': 13,\n",
       "         '전공': 13,\n",
       "         '책': 13,\n",
       "         '해결': 13,\n",
       "         '집단': 12,\n",
       "         '네': 12,\n",
       "         '여야': 12,\n",
       "         '방침': 12,\n",
       "         '정말': 12,\n",
       "         '김': 12,\n",
       "         '폭발': 12,\n",
       "         '분석': 12,\n",
       "         '선거': 12,\n",
       "         '문': 12,\n",
       "         '평가': 12,\n",
       "         '수사권': 12,\n",
       "         '시행': 12,\n",
       "         '소청': 12,\n",
       "         '제대로': 12,\n",
       "         '여러': 12,\n",
       "         '준비': 12,\n",
       "         '확대': 12,\n",
       "         '영상': 12,\n",
       "         '정치검찰': 12,\n",
       "         '법원': 12,\n",
       "         '해당': 12,\n",
       "         '대법원': 12,\n",
       "         '최근': 12,\n",
       "         '의혹': 12,\n",
       "         '예상': 12,\n",
       "         '사위': 12,\n",
       "         '간': 12,\n",
       "         '간사': 12,\n",
       "         '투표': 12,\n",
       "         '내부': 11,\n",
       "         '법사': 11,\n",
       "         '방식': 11,\n",
       "         '공중': 11,\n",
       "         '일대': 11,\n",
       "         '를': 11,\n",
       "         '인근': 11,\n",
       "         '고체': 11,\n",
       "         '백령도': 11,\n",
       "         '모든': 11,\n",
       "         '친': 11,\n",
       "         '시간': 11,\n",
       "         '경쟁': 11,\n",
       "         '현재': 11,\n",
       "         '책임': 11,\n",
       "         '단체': 11,\n",
       "         '전문가': 11,\n",
       "         '효력': 11,\n",
       "         '정지': 11,\n",
       "         '재판': 11,\n",
       "         '피해': 11,\n",
       "         '현': 11,\n",
       "         '판결': 11,\n",
       "         '질의': 11,\n",
       "         '고': 11,\n",
       "         '며': 11,\n",
       "         '교육': 11,\n",
       "         '자주포': 11,\n",
       "         '한반도': 11,\n",
       "         '구역': 11,\n",
       "         '사단': 11,\n",
       "         '특별검사': 11,\n",
       "         '용산': 11,\n",
       "         '직접': 10,\n",
       "         '언급': 10,\n",
       "         '최고': 10,\n",
       "         '앞서': 10,\n",
       "         '박민수': 10,\n",
       "         '대변인': 10,\n",
       "         '표현': 10,\n",
       "         '발': 10,\n",
       "         '여': 10,\n",
       "         '약': 10,\n",
       "         '오물': 10,\n",
       "         '경계': 10,\n",
       "         '대구': 10,\n",
       "         '왼쪽': 10,\n",
       "         '지지': 10,\n",
       "         '집중': 10,\n",
       "         '법무부': 10,\n",
       "         '검': 10,\n",
       "         '기관': 10,\n",
       "         '총': 10,\n",
       "         '자체': 10,\n",
       "         '핵심': 10,\n",
       "         '의견': 10,\n",
       "         '판단': 10,\n",
       "         '우려': 10,\n",
       "         '임명': 10,\n",
       "         '결선': 10,\n",
       "         '막말': 10,\n",
       "         '천': 10,\n",
       "         '과학': 10,\n",
       "         '교수': 10,\n",
       "         '노력': 10,\n",
       "         '변호사': 10,\n",
       "         '개월': 10,\n",
       "         '이전': 10,\n",
       "         '여사': 10,\n",
       "         '출석': 10,\n",
       "         '지난해': 10,\n",
       "         '산출': 10,\n",
       "         '홍보': 10,\n",
       "         '연평': 10,\n",
       "         '전투기': 10,\n",
       "         '참여': 10,\n",
       "         '이상': 10,\n",
       "         '기지': 10,\n",
       "         '아마': 10,\n",
       "         '책임감': 10,\n",
       "         '지방': 10,\n",
       "         '게임': 9,\n",
       "         '온': 9,\n",
       "         '라디오': 9,\n",
       "         '비': 9,\n",
       "         '사회': 9,\n",
       "         '예': 9,\n",
       "         '자유': 9,\n",
       "         '방송': 9,\n",
       "         '본부': 9,\n",
       "         '평양': 9,\n",
       "         '연료': 9,\n",
       "         '인천': 9,\n",
       "         '체': 9,\n",
       "         '지난달': 9,\n",
       "         '모임': 9,\n",
       "         '공개': 9,\n",
       "         '방위': 9,\n",
       "         '확보': 9,\n",
       "         '천공': 9,\n",
       "         '반박': 9,\n",
       "         '의미': 9,\n",
       "         '실제': 9,\n",
       "         '처음': 9,\n",
       "         '수도': 9,\n",
       "         '다음': 9,\n",
       "         '확정': 9,\n",
       "         '공부': 9,\n",
       "         '가장': 9,\n",
       "         '스파이크': 9,\n",
       "         '반발': 9,\n",
       "         '내용': 9,\n",
       "         '관리': 9,\n",
       "         '비대': 9,\n",
       "         '줄': 9,\n",
       "         '순직': 9,\n",
       "         '본회의': 9,\n",
       "         '국방부': 9,\n",
       "         '전략': 8,\n",
       "         '해병': 8,\n",
       "         '찬성': 8,\n",
       "         '견제': 8,\n",
       "         '겨냥': 8,\n",
       "         '행동': 8,\n",
       "         '일부': 8,\n",
       "         '의도': 8,\n",
       "         '강': 8,\n",
       "         '논평': 8,\n",
       "         '단독': 8,\n",
       "         '제소': 8,\n",
       "         '몇': 8,\n",
       "         '합참': 8,\n",
       "         '정보': 8,\n",
       "         '추가': 8,\n",
       "         '원안': 8,\n",
       "         '운': 8,\n",
       "         '바': 8,\n",
       "         '경기': 8,\n",
       "         '국가': 8,\n",
       "         '상공': 8,\n",
       "         '풍선': 8,\n",
       "         '살포': 8,\n",
       "         '전날': 8,\n",
       "         '한국': 8,\n",
       "         '실': 8,\n",
       "         '이해': 8,\n",
       "         '무엇': 8,\n",
       "         '원내대표': 8,\n",
       "         '무력': 8,\n",
       "         '각각': 8,\n",
       "         '정안': 8,\n",
       "         '대상': 8,\n",
       "         '러시아': 8,\n",
       "         '기술': 8,\n",
       "         '송금': 8,\n",
       "         '조작': 8,\n",
       "         '이상인': 8,\n",
       "         '노': 8,\n",
       "         '목소리': 8,\n",
       "         '로서': 8,\n",
       "         '사안': 8,\n",
       "         '지지자': 8,\n",
       "         '박주민': 8,\n",
       "         '안상훈': 8,\n",
       "         '명의': 8,\n",
       "         '대화': 8,\n",
       "         '가지': 8,\n",
       "         '미국': 8,\n",
       "         '언제': 8,\n",
       "         '지원': 8,\n",
       "         '상태': 8,\n",
       "         '설정': 8,\n",
       "         '시도': 8,\n",
       "         '금지': 8,\n",
       "         '천명': 8,\n",
       "         '국정': 8,\n",
       "         '전남': 8,\n",
       "         '작전': 8,\n",
       "         '세': 7,\n",
       "         '당선': 7,\n",
       "         '만난': 7,\n",
       "         '끝': 7,\n",
       "         '과거': 7,\n",
       "         '측': 7,\n",
       "         '유튜브': 7,\n",
       "         '잘못': 7,\n",
       "         '유감': 7,\n",
       "         '헌법': 7,\n",
       "         '영역': 7,\n",
       "         '윤리': 7,\n",
       "         '위반': 7,\n",
       "         '바로': 7,\n",
       "         '항적': 7,\n",
       "         '연기': 7,\n",
       "         '다시': 7,\n",
       "         '뉴시스': 7,\n",
       "         '참석': 7,\n",
       "         '후': 7,\n",
       "         '서로': 7,\n",
       "         '협력': 7,\n",
       "         '지휘': 7,\n",
       "         '검찰청': 7,\n",
       "         '폐지': 7,\n",
       "         '시민': 7,\n",
       "         '동의': 7,\n",
       "         '행정': 7,\n",
       "         '면서': 7,\n",
       "         '무슨': 7,\n",
       "         '생': 7,\n",
       "         '출연': 7,\n",
       "         '물풍선': 7,\n",
       "         '포함': 7,\n",
       "         '집행정지': 7,\n",
       "         '과': 7,\n",
       "         '의결': 7,\n",
       "         '마음': 7,\n",
       "         '글': 7,\n",
       "         '국제': 7,\n",
       "         '구심': 7,\n",
       "         '문재인': 7,\n",
       "         '참고인': 7,\n",
       "         '여러분': 7,\n",
       "         '당장': 7,\n",
       "         '처리': 7,\n",
       "         '사령부': 7,\n",
       "         '여단': 7,\n",
       "         '제공': 7,\n",
       "         '로켓': 7,\n",
       "         '정례': 7,\n",
       "         '역시': 7,\n",
       "         '먼저': 7,\n",
       "         '이씨': 7,\n",
       "         '만남': 7,\n",
       "         '전화': 7,\n",
       "         '측은': 7,\n",
       "         '도': 7,\n",
       "         '판사': 7,\n",
       "         '개원': 7,\n",
       "         '레이스': 7,\n",
       "         '소통': 7,\n",
       "         '복원': 7,\n",
       "         '무기한': 7,\n",
       "         '맹획': 6,\n",
       "         '거의': 6,\n",
       "         '삼국지': 6,\n",
       "         '멘트': 6,\n",
       "         '교란': 6,\n",
       "         '재차': 6,\n",
       "         '보도': 6,\n",
       "         '싸움': 6,\n",
       "         '행태': 6,\n",
       "         '저희': 6,\n",
       "         '불법': 6,\n",
       "         '고발': 6,\n",
       "         '검토': 6,\n",
       "         '영상편집': 6,\n",
       "         '듯': 6,\n",
       "         '당국': 6,\n",
       "         '거리': 6,\n",
       "         '센터': 6,\n",
       "         '옹진군': 6,\n",
       "         '대연평도': 6,\n",
       "         '새벽': 6,\n",
       "         '프리덤': 6,\n",
       "         '에지': 6,\n",
       "         '항공모함': 6,\n",
       "         '함': 6,\n",
       "         '국': 6,\n",
       "         '단': 6,\n",
       "         '질타': 6,\n",
       "         '만약': 6,\n",
       "         '역량': 6,\n",
       "         '차지': 6,\n",
       "         '해석': 6,\n",
       "         '경남': 6,\n",
       "         '오른쪽': 6,\n",
       "         '소속': 6,\n",
       "         '경북': 6,\n",
       "         '그룹': 6,\n",
       "         '거론': 6,\n",
       "         '권한': 6,\n",
       "         '공소': 6,\n",
       "         '제시': 6,\n",
       "         '방안': 6,\n",
       "         '직무': 6,\n",
       "         '장기': 6,\n",
       "         '남용': 6,\n",
       "         '개입': 6,\n",
       "         '중인': 6,\n",
       "         '표': 6,\n",
       "         '여부': 6,\n",
       "         '공무원': 6,\n",
       "         '겁': 6,\n",
       "         '예고': 6,\n",
       "         '다른': 6,\n",
       "         '지지율': 6,\n",
       "         '비행운': 6,\n",
       "         '기존': 6,\n",
       "         '엔진': 6,\n",
       "         '대비': 6,\n",
       "         '간담': 6,\n",
       "         '급': 6,\n",
       "         '부지': 6,\n",
       "         '스스로': 6,\n",
       "         '민형배': 6,\n",
       "         '필요성': 6,\n",
       "         '행사': 6,\n",
       "         '필요': 6,\n",
       "         '소송': 6,\n",
       "         '비용': 6,\n",
       "         '전부': 6,\n",
       "         '한편': 6,\n",
       "         '로': 6,\n",
       "         '방': 6,\n",
       "         '진실': 6,\n",
       "         '범죄자': 6,\n",
       "         '일방': 6,\n",
       "         '필수': 6,\n",
       "         '합리': 6,\n",
       "         '비롯': 6,\n",
       "         '인력': 6,\n",
       "         '복귀': 6,\n",
       "         '회원': 6,\n",
       "         '수준': 6,\n",
       "         '천무': 6,\n",
       "         '연장': 6,\n",
       "         '전력': 6,\n",
       "         '계획': 6,\n",
       "         '임성근': 6,\n",
       "         '정신건강': 6,\n",
       "         '최대': 6,\n",
       "         '선임': 6,\n",
       "         '장': 6,\n",
       "         '누가': 6,\n",
       "         '진정': 6,\n",
       "         '공식': 6,\n",
       "         '은': 6,\n",
       "         '여론조사': 6,\n",
       "         '어찌': 6,\n",
       "         '탄핵': 6,\n",
       "         '방점': 6,\n",
       "         '반윤': 6,\n",
       "         '권': 6,\n",
       "         '변호': 6,\n",
       "         '사비': 6,\n",
       "         '백서': 6,\n",
       "         '오지': 5,\n",
       "         '애': 5,\n",
       "         '공격': 5,\n",
       "         '누구': 5,\n",
       "         '보좌': 5,\n",
       "         '보기': 5,\n",
       "         '동안': 5,\n",
       "         '협회': 5,\n",
       "         '뜻': 5,\n",
       "         '부': 5,\n",
       "         '합동': 5,\n",
       "         '참모': 5,\n",
       "         '비행': 5,\n",
       "         '루스벨트': 5,\n",
       "         '조선': 5,\n",
       "         '투쟁': 5,\n",
       "         '윤심': 5,\n",
       "         '인사': 5,\n",
       "         '감': 5,\n",
       "         '주년': 5,\n",
       "         '기자회견': 5,\n",
       "         '일정': 5,\n",
       "         '방문': 5,\n",
       "         '해체': 5,\n",
       "         '영남권': 5,\n",
       "         '우위': 5,\n",
       "         '지층': 5,\n",
       "         '지사': 5,\n",
       "         '창원': 5,\n",
       "         '일화': 5,\n",
       "         '소위': 5,\n",
       "         '령': 5,\n",
       "         '수완': 5,\n",
       "         '범위': 5,\n",
       "         '예정': 5,\n",
       "         '유지': 5,\n",
       "         '통제': 5,\n",
       "         '마련': 5,\n",
       "         '즉': 5,\n",
       "         '절차': 5,\n",
       "         '균형': 5,\n",
       "         '약간': 5,\n",
       "         '청장': 5,\n",
       "         '검찰총장': 5,\n",
       "         '사항': 5,\n",
       "         '이름': 5,\n",
       "         '최종': 5,\n",
       "         '체계': 5,\n",
       "         '부패': 5,\n",
       "         '분류': 5,\n",
       "         '하나': 5,\n",
       "         '안전': 5,\n",
       "         '본격': 5,\n",
       "         '양': 5,\n",
       "         '조직': 5,\n",
       "         '알': 5,\n",
       "         '탓': 5,\n",
       "         '메시지': 5,\n",
       "         '기억': 5,\n",
       "         '김선민': 5,\n",
       "         '소문': 5,\n",
       "         '채널': 5,\n",
       "         '기도': 5,\n",
       "         '그동안': 5,\n",
       "         '볼': 5,\n",
       "         '개선': 5,\n",
       "         '군사훈련': 5,\n",
       "         '전면': 5,\n",
       "         '기사': 5,\n",
       "         '나라': 5,\n",
       "         '현실': 5,\n",
       "         '시기': 5,\n",
       "         '특별': 5,\n",
       "         '노종면': 5,\n",
       "         '제재': 5,\n",
       "         '집': 5,\n",
       "         '증인': 5,\n",
       "         '서비스': 5,\n",
       "         '주가조작': 5,\n",
       "         '물': 5,\n",
       "         '그것': 5,\n",
       "         '노예': 5,\n",
       "         '기간': 5,\n",
       "         '수치': 5,\n",
       "         '각': 5,\n",
       "         '적극': 5,\n",
       "         '역대': 5,\n",
       "         '토론': 5,\n",
       "         '불': 5,\n",
       "         '톡': 5,\n",
       "         '초등학생': 5,\n",
       "         '아들': 5,\n",
       "         '보시': 5,\n",
       "         '그간': 5,\n",
       "         '전술핵': 5,\n",
       "         '실효': 5,\n",
       "         '성과': 5,\n",
       "         '세계': 5,\n",
       "         '배경': 5,\n",
       "         '체결': 5,\n",
       "         '도이치': 5,\n",
       "         '범': 5,\n",
       "         '행': 5,\n",
       "         '임기': 5,\n",
       "         '불안': 5,\n",
       "         '대전': 5,\n",
       "         '충돌': 5,\n",
       "         '완충': 5,\n",
       "         '수역': 5,\n",
       "         '채상병': 5,\n",
       "         '규명': 5,\n",
       "         '중진': 5,\n",
       "         '조금': 5,\n",
       "         '거부권': 5,\n",
       "         '윤계': 5,\n",
       "         '유': 5,\n",
       "         '현장': 5,\n",
       "         '호소': 5,\n",
       "         '주먹구구': 5,\n",
       "         '의원님': 5,\n",
       "         '반성': 5,\n",
       "         '여기': 5,\n",
       "         '그때': 5,\n",
       "         '항공': 5,\n",
       "         '차단': 5,\n",
       "         '김혜경': 5,\n",
       "         '요리': 5,\n",
       "         '만원': 5,\n",
       "         '성함': 5,\n",
       "         '불참': 5,\n",
       "         '회수': 5,\n",
       "         '법무': 5,\n",
       "         '조조': 4,\n",
       "         '유비': 4,\n",
       "         '국토부': 4,\n",
       "         '비난': 4,\n",
       "         '점도': 4,\n",
       "         '주로': 4,\n",
       "         '전쟁': 4,\n",
       "         '구도': 4,\n",
       "         '분위기': 4,\n",
       "         '단어': 4,\n",
       "         '초선': 4,\n",
       "         '상대': 4,\n",
       "         '상임': 4,\n",
       "         '발음': 4,\n",
       "         '일본': 4,\n",
       "         '대위': 4,\n",
       "         '사용': 4,\n",
       "         '수가': 4,\n",
       "         '죄': 4,\n",
       "         '발사체': 4,\n",
       "         '감행': 4,\n",
       "         '발전': 4,\n",
       "         '신형': 4,\n",
       "         '발생': 4,\n",
       "         '안보': 4,\n",
       "         '연구원': 4,\n",
       "         '아침': 4,\n",
       "         '포착': 4,\n",
       "         '이틀': 4,\n",
       "         '남쪽': 4,\n",
       "         '시어도어': 4,\n",
       "         '행보': 4,\n",
       "         '거듭': 4,\n",
       "         '열': 4,\n",
       "         '대변': 4,\n",
       "         '영향': 4,\n",
       "         '존재': 4,\n",
       "         '기': 4,\n",
       "         '촬영': 4,\n",
       "         '상징': 4,\n",
       "         '참패': 4,\n",
       "         '직후': 4,\n",
       "         '압도': 4,\n",
       "         '신설': 4,\n",
       "         '어디': 4,\n",
       "         '검수': 4,\n",
       "         '강화': 4,\n",
       "         '범죄수사': 4,\n",
       "         '향후': 4,\n",
       "         '독자': 4,\n",
       "         '측면': 4,\n",
       "         '면': 4,\n",
       "         '보유': 4,\n",
       "         '제한': 4,\n",
       "         '공직자': 4,\n",
       "         '경제': 4,\n",
       "         '사업': 4,\n",
       "         '소개': 4,\n",
       "         '쟁점': 4,\n",
       "         '쪽': 4,\n",
       "         '경찰청': 4,\n",
       "         '우선': 4,\n",
       "         '규정': 4,\n",
       "         '법률': 4,\n",
       "         '사전': 4,\n",
       "         '석': 4,\n",
       "         '도움': 4,\n",
       "         '여론': 4,\n",
       "         '의향': 4,\n",
       "         '시스템': 4,\n",
       "         '성폭행': 4,\n",
       "         '징계': 4,\n",
       "         '추궁': 4,\n",
       "         '공유': 4,\n",
       "         '호': 4,\n",
       "         '특정': 4,\n",
       "         '전혀': 4,\n",
       "         '취재': 4,\n",
       "         '발견': 4,\n",
       "         '중단': 4,\n",
       "         '확성기': 4,\n",
       "         '공범': 4,\n",
       "         '박찬': 4,\n",
       "         '대행': 4,\n",
       "         '응징': 4,\n",
       "         '직': 4,\n",
       "         '인물': 4,\n",
       "         '선고': 4,\n",
       "         '현행': 4,\n",
       "         '공동': 4,\n",
       "         '저녁': 4,\n",
       "         '법정': 4,\n",
       "         '현안': 4,\n",
       "         '대로': 4,\n",
       "         '쌍방울': 4,\n",
       "         '변호인': 4,\n",
       "         '강성': 4,\n",
       "         '국회의원': 4,\n",
       "         '원칙': 4,\n",
       "         '민생': 4,\n",
       "         '서도': 4,\n",
       "         '수급': 4,\n",
       "         '연구': 4,\n",
       "         '수석': 4,\n",
       "         '신청': 4,\n",
       "         '도마': 4,\n",
       "         '매우': 4,\n",
       "         '의회': 4,\n",
       "         '하자': 4,\n",
       "         '정세': 4,\n",
       "         '회관': 4,\n",
       "         '일단': 4,\n",
       "         '동맹': 4,\n",
       "         '약속': 4,\n",
       "         '북도': 4,\n",
       "         '별': 4,\n",
       "         '북방한계선': 4,\n",
       "         '풀': 4,\n",
       "         '가상': 4,\n",
       "         '랩터': 4,\n",
       "         '쌍': 4,\n",
       "         '부지역': 4,\n",
       "         '인정': 4,\n",
       "         '기준': 4,\n",
       "         '정전협정': 4,\n",
       "         '위성': 4,\n",
       "         '방향': 4,\n",
       "         '주': 4,\n",
       "         '전망': 4,\n",
       "         '군사분계선': 4,\n",
       "         '점검': 4,\n",
       "         '모터': 4,\n",
       "         '스': 4,\n",
       "         '골프': 4,\n",
       "         '초대': 4,\n",
       "         '입': 4,\n",
       "         '유죄': 4,\n",
       "         '번호': 4,\n",
       "         '규': 4,\n",
       "         '일상': 4,\n",
       "         '중심': 4,\n",
       "         '남한': 4,\n",
       "         '사망': 4,\n",
       "         '상의': 4,\n",
       "         '당사자': 4,\n",
       "         '통행': 4,\n",
       "         '통': 4,\n",
       "         '차': 4,\n",
       "         '진료': 4,\n",
       "         '소리': 4,\n",
       "         '논란': 4,\n",
       "         '보': 4,\n",
       "         '구성': 4,\n",
       "         '고수': 4,\n",
       "         '공천': 4,\n",
       "         '재의': 4,\n",
       "         '친윤': 4,\n",
       "         '혼자': 4,\n",
       "         '와중': 4,\n",
       "         '이인영': 4,\n",
       "         '정치권': 4,\n",
       "         '기대': 4,\n",
       "         '어쨌든': 4,\n",
       "         '운영': 4,\n",
       "         '역할': 4,\n",
       "         '반영': 4,\n",
       "         '안위': 4,\n",
       "         '개인': 4,\n",
       "         '극복': 4,\n",
       "         '부활': 4,\n",
       "         '김현정': 4,\n",
       "         '뉴스쇼': 4,\n",
       "         '법조인': 4,\n",
       "         '경찰': 4,\n",
       "         '백지': 4,\n",
       "         '기록': 4,\n",
       "         '구입': 4,\n",
       "         '재산': 4,\n",
       "         '설전': 4,\n",
       "         '병원': 4,\n",
       "         '치': 4,\n",
       "         '처벌': 4,\n",
       "         '초': 4,\n",
       "         '국가안보실': 4,\n",
       "         '손': 3,\n",
       "         '연출': 3,\n",
       "         '대답': 3,\n",
       "         '그날': 3,\n",
       "         '애가': 3,\n",
       "         '그다음': 3,\n",
       "         '혹시': 3,\n",
       "         '주인공': 3,\n",
       "         '청년': 3,\n",
       "         '남만': 3,\n",
       "         '주류': 3,\n",
       "         '파탄': 3,\n",
       "         ...})"
      ]
     },
     "execution_count": 9,
     "metadata": {},
     "output_type": "execute_result"
    }
   ],
   "source": [
    "from konlpy.tag import Okt #한국어 형태소 추출 라이브러리\n",
    "from collections import Counter\n",
    "\n",
    "# konlpy의 형태소 분석기로 명사 단위의 키워드를 추출\n",
    "nouns_tagger = Okt()\n",
    "nouns = nouns_tagger.nouns(content_corpus) # 명사 추출\n",
    "count = Counter(nouns) # 각 명사의 빈도 수를 게산\n",
    "count"
   ]
  },
  {
   "cell_type": "code",
   "execution_count": 16,
   "id": "b80a4645-734e-4e93-af50-c841dd7f37c4",
   "metadata": {},
   "outputs": [
    {
     "name": "stdout",
     "output_type": "stream",
     "text": [
      "Counter({'의원': 222, '국민': 129, '민주당': 119, '대표': 116, '후보': 112, '국회': 103, '위원장': 101, '북한': 101, '의료': 99, '정부': 87, '훈련': 83, '기자': 78, '회장': 71, '생각': 67, '대통령': 66, '특검': 66, '앵커': 65, '장관': 63, '증원': 62, '한동훈': 61, '미사일': 61, '해상': 60, '상황': 60, '발사': 59, '검찰': 58, '의대': 54, '관련': 53, '결정': 53, '지금': 52, '사격': 51, '주장': 48, '수사': 48, '대한': 47, '위원회': 46, '지난': 45, '지역': 45, '의사': 44, '오늘': 43, '정치': 42, '대해': 42, '혁신': 41, '청문회': 39, '시장': 38, '우리': 38, '탄도미사일': 38, '위원': 37, '이후': 36, '해병대': 36, '사건': 35, '이재명': 35, '질문': 34, '사실': 33, '비상': 33, '당시': 32, '임현': 32, '추진': 32, '조국': 32, '유재': 32, '입장': 31, '이번': 31, '문제': 30, '합의': 30, '환자': 30, '신정훈': 30, '복지': 29, '도발': 29, '특검법': 28, '때문': 28, '근거': 28, '여당': 27, '가능성': 27, '서울': 27, '과정': 27, '통해': 27, '보건': 27, '사람': 26, '차관': 26, '연합뉴스': 26, '총선': 26, '정책': 26, '나경원': 25, '진행': 25, '한미': 25, '발표': 25, '도서': 25, '규홍': 25, '출마': 24, '서북': 24, '윤석열': 24, '군사': 24, '추정': 23, '실시': 23, '대통령실': 23, '주자': 23, '원희룡': 22, '비판': 22, '의협': 22, '뉴스': 22, '당원': 22, '만큼': 22, '당권': 22, '개혁': 22, '통화': 22, '제안': 22, '추천': 22, '홍준표': 21, '답변': 21, '보건복지부': 21, '대한의사협회': 21, '말씀': 21, '원장': 21, '회의': 21, '강조': 20, '지적': 20, '위해': 20, '논의': 20, '경기도': 20, '제출': 20, '유상범': 20, '대구시': 19, '발언': 19, '차례': 19, '전당대회': 19, '사태': 19, '야당': 19, '오후': 19, '복지부': 18, '여자': 18, '초음속': 18, '동해': 18, '설명': 18, '법안': 18, '검사': 18, '이제': 18, '거부': 18, '남북': 18, '대책': 18, '자신': 18, '자료': 18, '호남': 18, '모습': 17, '사과': 17, '강선우': 17, '정청래': 17, '오전': 17, '기소': 17, '범죄': 17, '발의': 17, '정도': 17, '서해': 17, '달라': 17, '전체': 17, '제자': 17, '보고': 16, '요청': 16, '보수': 16, '활동': 16, '어제': 16, '통과': 16, '관계자': 16, '중수': 16, '다만': 16, '공백': 16, '라며': 16, '반응': 16, '부위': 16, '부대': 16, '박지환': 16, '계속': 15, '시작': 15, '선언': 15, '면담': 15, '부산': 15, '여의도': 15, '제기': 15, '모두': 15, '결과': 15, '건가': 15, '숫자': 15, '경우': 15, '재개': 15, '확인': 15, '김건희': 15, '무장': 15, '상병': 15, '권영철': 15, '본인': 14, '자리': 14, '출신': 14, '윤상현': 14, '인터뷰': 14, '정원': 14, '반대': 14, '요구': 14, '연합': 14, '대응': 14, '사진': 14, '심의': 14, '연대': 14, '대북': 14, '규모': 14, '위기': 14, '소멸': 14, '공군': 14, '이유': 13, '이야기': 13, '국회법': 13, '시험': 13, '가운데': 13, '연평도': 13, '거절': 13, '정당': 13, '부분': 13, '의정': 13, '갈등': 13, '제보': 13, '얘기': 13, '협의': 13, '전공': 13, '해결': 13, '집단': 12, '여야': 12, '방침': 12, '정말': 12, '폭발': 12, '분석': 12, '선거': 12, '평가': 12, '수사권': 12, '시행': 12, '소청': 12, '제대로': 12, '여러': 12, '준비': 12, '확대': 12, '영상': 12, '정치검찰': 12, '법원': 12, '해당': 12, '대법원': 12, '최근': 12, '의혹': 12, '예상': 12, '사위': 12, '간사': 12, '투표': 12, '내부': 11, '법사': 11, '방식': 11, '공중': 11, '일대': 11, '인근': 11, '고체': 11, '백령도': 11, '모든': 11, '시간': 11, '경쟁': 11, '현재': 11, '책임': 11, '단체': 11, '전문가': 11, '효력': 11, '정지': 11, '재판': 11, '피해': 11, '판결': 11, '질의': 11, '교육': 11, '자주포': 11, '한반도': 11, '구역': 11, '사단': 11, '특별검사': 11, '용산': 11, '직접': 10, '언급': 10, '최고': 10, '앞서': 10, '박민수': 10, '대변인': 10, '표현': 10, '오물': 10, '경계': 10, '대구': 10, '왼쪽': 10, '지지': 10, '집중': 10, '법무부': 10, '기관': 10, '자체': 10, '핵심': 10, '의견': 10, '판단': 10, '우려': 10, '임명': 10, '결선': 10, '막말': 10, '과학': 10, '교수': 10, '노력': 10, '변호사': 10, '개월': 10, '이전': 10, '여사': 10, '출석': 10, '지난해': 10, '산출': 10, '홍보': 10, '연평': 10, '전투기': 10, '참여': 10, '이상': 10, '기지': 10, '아마': 10, '책임감': 10, '지방': 10, '게임': 9, '라디오': 9, '사회': 9, '자유': 9, '방송': 9, '본부': 9, '평양': 9, '연료': 9, '인천': 9, '지난달': 9, '모임': 9, '공개': 9, '방위': 9, '확보': 9, '천공': 9, '반박': 9, '의미': 9, '실제': 9, '처음': 9, '수도': 9, '다음': 9, '확정': 9, '공부': 9, '가장': 9, '스파이크': 9, '반발': 9, '내용': 9, '관리': 9, '비대': 9, '순직': 9, '본회의': 9, '국방부': 9, '전략': 8, '해병': 8, '찬성': 8, '견제': 8, '겨냥': 8, '행동': 8, '일부': 8, '의도': 8, '논평': 8, '단독': 8, '제소': 8, '합참': 8, '정보': 8, '추가': 8, '원안': 8, '경기': 8, '국가': 8, '상공': 8, '풍선': 8, '살포': 8, '전날': 8, '한국': 8, '이해': 8, '무엇': 8, '원내대표': 8, '무력': 8, '각각': 8, '정안': 8, '대상': 8, '러시아': 8, '기술': 8, '송금': 8, '조작': 8, '이상인': 8, '목소리': 8, '로서': 8, '사안': 8, '지지자': 8, '박주민': 8, '안상훈': 8, '명의': 8, '대화': 8, '가지': 8, '미국': 8, '언제': 8, '지원': 8, '상태': 8, '설정': 8, '시도': 8, '금지': 8, '천명': 8, '국정': 8, '전남': 8, '작전': 8, '당선': 7, '만난': 7, '과거': 7, '유튜브': 7, '잘못': 7, '유감': 7, '헌법': 7, '영역': 7, '윤리': 7, '위반': 7, '바로': 7, '항적': 7, '연기': 7, '다시': 7, '뉴시스': 7, '참석': 7, '서로': 7, '협력': 7, '지휘': 7, '검찰청': 7, '폐지': 7, '시민': 7, '동의': 7, '행정': 7, '면서': 7, '무슨': 7, '출연': 7, '물풍선': 7, '포함': 7, '집행정지': 7, '의결': 7, '마음': 7, '국제': 7, '구심': 7, '문재인': 7, '참고인': 7, '여러분': 7, '당장': 7, '처리': 7, '사령부': 7, '여단': 7, '제공': 7, '로켓': 7, '정례': 7, '역시': 7, '먼저': 7, '이씨': 7, '만남': 7, '전화': 7, '측은': 7, '판사': 7, '개원': 7, '레이스': 7, '소통': 7, '복원': 7, '무기한': 7, '맹획': 6, '거의': 6, '삼국지': 6, '멘트': 6, '교란': 6, '재차': 6, '보도': 6, '싸움': 6, '행태': 6, '저희': 6, '불법': 6, '고발': 6, '검토': 6, '영상편집': 6, '당국': 6, '거리': 6, '센터': 6, '옹진군': 6, '대연평도': 6, '새벽': 6, '프리덤': 6, '에지': 6, '항공모함': 6, '질타': 6, '만약': 6, '역량': 6, '차지': 6, '해석': 6, '경남': 6, '오른쪽': 6, '소속': 6, '경북': 6, '그룹': 6, '거론': 6, '권한': 6, '공소': 6, '제시': 6, '방안': 6, '직무': 6, '장기': 6, '남용': 6, '개입': 6, '중인': 6, '여부': 6, '공무원': 6, '예고': 6, '다른': 6, '지지율': 6, '비행운': 6, '기존': 6, '엔진': 6, '대비': 6, '간담': 6, '부지': 6, '스스로': 6, '민형배': 6, '필요성': 6, '행사': 6, '필요': 6, '소송': 6, '비용': 6, '전부': 6, '한편': 6, '진실': 6, '범죄자': 6, '일방': 6, '필수': 6, '합리': 6, '비롯': 6, '인력': 6, '복귀': 6, '회원': 6, '수준': 6, '천무': 6, '연장': 6, '전력': 6, '계획': 6, '임성근': 6, '정신건강': 6, '최대': 6, '선임': 6, '누가': 6, '진정': 6, '공식': 6, '여론조사': 6, '어찌': 6, '탄핵': 6, '방점': 6, '반윤': 6, '변호': 6, '사비': 6, '백서': 6, '오지': 5, '공격': 5, '누구': 5, '보좌': 5, '보기': 5, '동안': 5, '협회': 5, '합동': 5, '참모': 5, '비행': 5, '루스벨트': 5, '조선': 5, '투쟁': 5, '윤심': 5, '인사': 5, '주년': 5, '기자회견': 5, '일정': 5, '방문': 5, '해체': 5, '영남권': 5, '우위': 5, '지층': 5, '지사': 5, '창원': 5, '일화': 5, '소위': 5, '수완': 5, '범위': 5, '예정': 5, '유지': 5, '통제': 5, '마련': 5, '절차': 5, '균형': 5, '약간': 5, '청장': 5, '검찰총장': 5, '사항': 5, '이름': 5, '최종': 5, '체계': 5, '부패': 5, '분류': 5, '하나': 5, '안전': 5, '본격': 5, '조직': 5, '메시지': 5, '기억': 5, '김선민': 5, '소문': 5, '채널': 5, '기도': 5, '그동안': 5, '개선': 5, '군사훈련': 5, '전면': 5, '기사': 5, '나라': 5, '현실': 5, '시기': 5, '특별': 5, '노종면': 5, '제재': 5, '증인': 5, '서비스': 5, '주가조작': 5, '그것': 5, '노예': 5, '기간': 5, '수치': 5, '적극': 5, '역대': 5, '토론': 5, '초등학생': 5, '아들': 5, '보시': 5, '그간': 5, '전술핵': 5, '실효': 5, '성과': 5, '세계': 5, '배경': 5, '체결': 5, '도이치': 5, '임기': 5, '불안': 5, '대전': 5, '충돌': 5, '완충': 5, '수역': 5, '채상병': 5, '규명': 5, '중진': 5, '조금': 5, '거부권': 5, '윤계': 5, '현장': 5, '호소': 5, '주먹구구': 5, '의원님': 5, '반성': 5, '여기': 5, '그때': 5, '항공': 5, '차단': 5, '김혜경': 5, '요리': 5, '만원': 5, '성함': 5, '불참': 5, '회수': 5, '법무': 5, '조조': 4, '유비': 4, '국토부': 4, '비난': 4, '점도': 4, '주로': 4, '전쟁': 4, '구도': 4, '분위기': 4, '단어': 4, '초선': 4, '상대': 4, '상임': 4, '발음': 4, '일본': 4, '대위': 4, '사용': 4, '수가': 4, '발사체': 4, '감행': 4, '발전': 4, '신형': 4, '발생': 4, '안보': 4, '연구원': 4, '아침': 4, '포착': 4, '이틀': 4, '남쪽': 4, '시어도어': 4, '행보': 4, '거듭': 4, '대변': 4, '영향': 4, '존재': 4, '촬영': 4, '상징': 4, '참패': 4, '직후': 4, '압도': 4, '신설': 4, '어디': 4, '검수': 4, '강화': 4, '범죄수사': 4, '향후': 4, '독자': 4, '측면': 4, '보유': 4, '제한': 4, '공직자': 4, '경제': 4, '사업': 4, '소개': 4, '쟁점': 4, '경찰청': 4, '우선': 4, '규정': 4, '법률': 4, '사전': 4, '도움': 4, '여론': 4, '의향': 4, '시스템': 4, '성폭행': 4, '징계': 4, '추궁': 4, '공유': 4, '특정': 4, '전혀': 4, '취재': 4, '발견': 4, '중단': 4, '확성기': 4, '공범': 4, '박찬': 4, '대행': 4, '응징': 4, '인물': 4, '선고': 4, '현행': 4, '공동': 4, '저녁': 4, '법정': 4, '현안': 4, '대로': 4, '쌍방울': 4, '변호인': 4, '강성': 4, '국회의원': 4, '원칙': 4, '민생': 4, '서도': 4, '수급': 4, '연구': 4, '수석': 4, '신청': 4, '도마': 4, '매우': 4, '의회': 4, '하자': 4, '정세': 4, '회관': 4, '일단': 4, '동맹': 4, '약속': 4, '북도': 4, '북방한계선': 4, '가상': 4, '랩터': 4, '부지역': 4, '인정': 4, '기준': 4, '정전협정': 4, '위성': 4, '방향': 4, '전망': 4, '군사분계선': 4, '점검': 4, '모터': 4, '골프': 4, '초대': 4, '유죄': 4, '번호': 4, '일상': 4, '중심': 4, '남한': 4, '사망': 4, '상의': 4, '당사자': 4, '통행': 4, '진료': 4, '소리': 4, '논란': 4, '구성': 4, '고수': 4, '공천': 4, '재의': 4, '친윤': 4, '혼자': 4, '와중': 4, '이인영': 4, '정치권': 4, '기대': 4, '어쨌든': 4, '운영': 4, '역할': 4, '반영': 4, '안위': 4, '개인': 4, '극복': 4, '부활': 4, '김현정': 4, '뉴스쇼': 4, '법조인': 4, '경찰': 4, '백지': 4, '기록': 4, '구입': 4, '재산': 4, '설전': 4, '병원': 4, '처벌': 4, '국가안보실': 4, '연출': 3, '대답': 3, '그날': 3, '애가': 3, '그다음': 3, '혹시': 3, '주인공': 3, '청년': 3, '남만': 3, '주류': 3, '파탄': 3, '한판': 3, '승부': 3, '반문': 3, '캠프': 3, '조경태': 3, '재선': 3, '경험': 3, '부각': 3, '의새': 3, '브리핑': 3, '존중': 3, '실수': 3, '해명': 3, '분노': 3, '하라': 3, '방해': 3, '선진': 3, '화법': 3, '화살': 3, '그래픽': 3, '성능': 3, '개량': 3, '중이': 3, '원산': 3, '파편': 3, '바다': 3, '염두': 3, '올해': 3, '관측': 3, '단계': 3, '원인': 3, '만이': 3, '연속': 3, '여개': 3, '북부': 3, '의식': 3, '중앙': 3, '집회': 3, '기회': 3, '시각': 3, '공략': 3, '의중': 3, '시청': 3, '얼마나': 3, '국토교통부': 3, '가량': 3, '비공개': 3, '박완수': 3, '통관': 3, '이재': 3, '당내': 3, '친윤친': 3, '가라': 3, '박형준': 3, '부산시': 3, '언론': 3, '초점': 3, '전담': 3, '청중': 3, '황운하': 3, '완전': 3, '박탈': 3, '진짜': 3, '권력': 3, '개정안': 3, '수행': 3, '장치': 3, '위험': 3, '개정': 3, '부서': 3, '포괄': 3, '참사': 3, '전환': 3, '구체': 3, '대안': 3, '일인': 3, '묘수': 3, '주력': 3, '어서': 3, '대선': 3, '국면': 3, '갑자기': 3, '가요': 3, '결심': 3, '당신': 3, '공세': 3, '격노': 3, '결함': 3, '조치': 3, '생활': 3, '또한': 3, '접경': 3, '가동': 3, '초임': 3, '대우': 3, '제도': 3, '관계': 3, '평화': 3, '증언': 3, '반드시': 3, '되풀이': 3, '고위': 3, '주철': 3, '이자': 3, '최초': 3, '단장': 3, '징역': 3, '사의': 3, '부인': 3, '업무': 3, '일반': 3, '토론회': 3, '억만': 3, '생중계': 3, '김홍일': 3, '방심위': 3, '방통위': 3, '인용': 3, '드릴': 3, '얼굴': 3, '잠깐': 3, '좌석': 3, '마이크': 3, '차이': 3, '뭔가': 3, '김광민': 3, '혐의': 3, '리스크': 3, '화면': 3, '캡처': 3, '보고서': 3, '마치': 3, '화성': 3, '보이': 3, '보정': 3, '이견': 3, '이수진': 3, '월일': 3, '서영석': 3, '의료인': 3, '감안': 3, '정권': 3, '인원': 3, '기반': 3, '취급': 3, '정상': 3, '카카오': 3, '검색': 3, '이메일': 3, '홈페이지': 3, '제일': 3, '김종배': 3, '시선집중': 3, '수면': 3, '내시경': 3, '고작': 3, '자격정지': 3, '변화': 3, '잠재': 3, '핵우산': 3, '논쟁': 3, '나선': 3, '핵무기': 3, '개발': 3, '영해': 3, '확장': 3, '차기': 3, '김일성': 3, '북핵': 3, '오세훈': 3, '남해': 3, '비궁': 3, '화염': 3, '서북도서방위사령부': 3, '능력': 3, '태세': 3, '검증': 3, '최강': 3, '스텔스': 3, '포격': 3, '다수': 3, '중거리': 3, '정상회담': 3, '부부': 3, '함정': 3, '이내': 3, '하늘': 3, '회전': 3, '신뢰': 3, '번의': 3, '전국': 3, '이모': 3, '서영교': 3, '구명': 3, '로비': 3, '휴대전화': 3, '입수': 3, '심리상담': 3, '예방': 3, '정신': 3, '내년': 3, '전단': 3, '높이': 3, '이하': 3, '서방사': 3, '남서쪽': 3, '표적': 3, '날인': 3, '동원': 3, '지도': 3, '국경선': 3, '영토': 3, '사령관': 3, '미상': 3, '방법': 3, '명인': 3, '지속': 3, '반복': 3, '각종': 3, '지법': 3, '도부': 3, '무관': 3, '동참': 3, '정성호': 3, '이탈': 3, '가결': 3, '안대': 3, '안이': 3, '라면': 3, '대론': 3, '초반': 3, '소연': 3, '울분': 3, '소화': 3, '시점': 3, '토대': 3, '명도': 3, '불편': 3, '대란': 3, '이슈': 3, '캐릭터': 3, '의지': 3, '추대': 3, '전대': 3, '식용': 3, '대명': 3, '관심': 3, '리더십': 3, '아주': 3, '나가야': 3, '자기': 3, '현황': 3, '특별법': 3, '민심': 3, '하루': 3, '특별자치도': 3, '설치': 3, '인구': 3, '최선': 3, '나머지': 3, '지구': 3, '공간': 3, '도민': 3, '생산': 3, '김대중': 3, '정체': 3, '비중': 3, '불신': 3, '교섭단체': 3, '근무': 3, '다년': 3, '협상': 3, '아무': 3, '오산': 3, '타격': 3, '법제사': 3, '동료': 3, '작가': 3, '어요': 3, '사정': 3, '발간': 3, '특위': 3, '웃음': 3, '부울경': 3, '선거인단': 3, '독단': 3, '취임': 3, '사직': 3, '구안': 3, '표명': 3, '봉직': 3, '내륙': 3, '여건': 3, '철회': 3, '의학': 3, '학년': 3, '마음대로': 3, '주제': 3, '용범': 3, '실장': 3, '비서실': 2, '만날': 2, '시뮬레이션': 2, '제갈량': 2, '충성': 2, '외부': 2, '벌이': 2, '출입': 2, '김지영': 2, '리포트': 2, '일도': 2, '박재홍': 2, '행위': 2, '고요': 2, '최저': 2, '박정훈': 2, '정치인': 2, '최소한': 2, '선급': 2, '무선': 2, '부족': 2, '사퇴': 2, '촉구': 2, '파행': 2, '극한': 2, '대치': 2, '배준영': 2, '요소': 2, '퇴거': 2, '불응': 2, '실패': 2, '동쪽': 2, '중랑구': 2, '면목동': 2, '사가정역': 2, '추측': 2, '평소': 2, '파주': 2, '연천': 2, '장영근': 2, '상승': 2, '관악산': 2, '국기봉': 2, '구름': 2, '대기': 2, '대남': 2, '낙하': 2, '지적도': 2, '항모': 2, '미군': 2, '자산': 2, '부적': 2, '통신': 2, '미제': 2, '불행': 2, '고통': 2, '어필': 2, '영남': 2, '홍심': 2, '표시': 2, '빨간색': 2, '독설': 2, '전례': 2, '만찬': 2, '목적': 2, '언론인': 2, '공통': 2, '공중전': 2, '한층': 2, '청과': 2, '중대': 2, '부여': 2, '청사진': 2, '청법': 2, '형사소송법': 2, '막강': 2, '아이': 2, '당분간': 2, '명시': 2, '제조': 2, '임시': 2, '담당': 2, '영장': 2, '방지': 2, '마약': 2, '대형': 2, '억제': 2, '다라': 2, '대통령령': 2, '중요': 2, '해소': 2, '행안부': 2, '의뢰': 2, '승리': 2, '시선': 2, '보완': 2, '사관': 2, '역사': 2, '명예훼손': 2, '달리': 2, '성은': 2, '서주희': 2, '남인순': 2, '미래': 2, '환경': 2, '심지어': 2, '이개': 2, '김용현': 2, '동국대': 2, '학과': 2, '탄도': 2, '항공기': 2, '훼손': 2, '수위': 2, '민주': 2, '규탄': 2, '대검': 2, '격상': 2, '현직': 2, '형사': 2, '시동': 2, '의심': 2, '이화영': 2, '가세': 2, '사례': 2, '상상': 2, '부정': 2, '저격': 2, '목표': 2, '거기': 2, '부합': 2, '피해자': 2, '의문': 2, '도입': 2, '울산': 2, '대검찰청': 2, '조정': 2, '대신': 2, '구조': 2, '수로': 2, '따라서': 2, '팽팽': 2, '방송통신': 2, '방심': 2, '길이': 2, '세금': 2, '경청': 2, '굳이': 2, '서대문구': 2, '비밀': 2, '실마리': 2, '인스타그램': 2, '대회': 2, '일부러': 2, '소지': 2, '국정감사': 2, '수습': 2, '남윤호': 2, '소재': 2, '경위': 2, '군사작전': 2, '일사천리': 2, '패키지': 2, '밀실': 2, '선용': 2, '본명': 2, '명품': 2, '가방': 2, '수수': 2, '리기': 2, '엄호': 2, '바텀업': 2, '주문': 2, '각고': 2, '가슴': 2, '팩트': 2, '법대': 2, '비교': 2, '반면': 2, '런가': 2, '배치': 2, '기조': 2, '집권': 2, '강경': 2, '차별': 2, '풀이': 2, '재배': 2, '공해': 2, '탑재': 2, '원자력': 2, '협정': 2, '농축': 2, '의존': 2, '심정': 2, '워싱턴': 2, '김정은': 2, '해법': 2, '복합': 2, '시위': 2, '긴장': 2, '출동': 2, '내뿜으': 2, '전격': 2, '대대': 2, '세대': 2, '방어': 2, '파괴': 2, '거란': 2, '수수방관': 2, '침범': 2, '참관': 2, '알섬': 2, '성공': 2, '종류': 2, '북러': 2, '카드': 2, '중국': 2, '참가': 2, '반미': 2, '대화방': 2, '야권': 2, '외압': 2, '포항': 2, '가족': 2, '장식': 2, '연락': 2, '디자인': 2, '불쾌감': 2, '정태진': 2, '태도': 2, '출범': 2, '정신질환': 2, '권역': 2, '포탄': 2, '거주': 2, '보도자료': 2, '인치': 2, '유도': 2, '운용': 2, '향상': 2, '구속': 2, '민간인': 2, '침해': 2, '대청도': 2, '소청도': 2, '적용': 2, '선포': 2, '가기': 2, '경비': 2, '모양': 2, '완화': 2, '노무현': 2, '미사': 2, '일일': 2, '것일': 2, '하필': 2, '스님': 2, '개최': 2, '방이': 2, '당초': 2, '타당성': 2, '적절': 2, '중간': 2, '오해': 2, '다임': 2, '잠시': 2, '여성': 2, '마취': 2, '평생': 2, '약과': 2, '제정': 2, '신입': 2, '김윤': 2, '십상시': 2, '언행': 2, '상처': 2, '출처': 2, '네이버': 2, '정통': 2, '영향력': 2, '원내': 2, '일보': 2, '주목': 2, '표결': 2, '전인': 2, '회기': 2, '진상': 2, '현역': 2, '한자리': 2, '선거운동': 2, '원론': 2, '차원': 2, '바람': 2, '일이': 2, '한쪽': 2, '기각': 2, '입김': 2, '작용': 2, '수긍': 2, '대결': 2, '다지': 2, '그게': 2, '대목': 2, '사이': 2, '민원': 2, '사무': 2, '비주류': 2, '흥행': 2, '추파': 2, '광역': 2, '어차피': 2, '민주화': 2, '감지': 2, '부응': 2, '전반': 2, '위협': 2, '파악': 2, '별도': 2, '인기': 2, '아예': 2, '개설': 2, '도살': 2, '배우자': 2, '청원': 2, '만요': 2, '낙후': 2, '분권': 2, '소관': 2, '이기': 2, '조건': 2, '선수': 2, '도당': 2, '온라인': 2, '활성화': 2, '보장': 2, '오히려': 2, '구현': 2, '사랑': 2, '응답': 2, '권리': 2, '착각': 2, '하여튼': 2, '홀로': 2, '서기': 2, '절윤': 2, '담보': 2, '김태현': 2, '선정': 2, '복수': 2, '유전': 2, '완료': 2, '이외': 2, '회부': 2, '진전': 2, '전향': 2, '특수': 2, '머리': 2, '대권': 2, '알맹이': 2, '이명박': 2, '처분': 2, '파견': 2, '노컷뉴스': 2, '세상': 2, '지연': 2, '미리': 2, '평택': 2, '도착': 2, '대의': 2, '확충': 2, '세종': 2, '작년': 2, '공급': 2, '추락': 2, '카메라': 2, '물체': 2, '목격자': 2, '서점': 2, '베스트셀러': 2, '분야': 2, '구매': 2, '인증': 2, '성향': 2, '일주일': 2, '호응': 2, '수임료': 2, '억만원': 2, '현금': 2, '감소': 2, '기탁금': 2, '걱정': 2, '아버지': 2, '조정훈': 2, '부가': 2, '강원': 2, '보이지': 2, '관여': 2, '코미디': 2, '공연장': 2, '사하구': 2, '미술관': 2, '이동': 2, '주요': 2, '산업': 2, '은행': 2, '수도권': 2, '리얼미터': 2, '소말리아': 2, '용산구': 2, '구토': 2, '약도': 2, '연일': 2, '당황': 2, '모양새': 2, '불만': 2, '고도': 2, '단추': 2, '대면': 2, '명령': 2, '대학병원': 2, '교육부': 2, '세브란스병원': 2, '접촉': 2, '연습': 2, '윤수': 2, '여랑': 2, '신경': 2, '역주행': 2, '선전포고': 2, '정읍시': 2, '일출': 2, '국방': 2, '신범철': 2, '이종섭': 2, '조태용': 2, '요조': 2, '비서': 2, '상윤': 2, '잡고': 1, '안고': 1, '연인': 1, '방불': 1, '가운': 1, '나달': 1, '진영': 1, '플레이': 1, '세력': 1, '민족': 1, '촉나라': 1, '귀화': 1, '재상': 1, '톡톡': 1, '반한': 1, '정식': 1, '당정관': 1, '장인': 1, '러닝': 1, '메이트': 1, '장동혁': 1, '관록': 1, '소환': 1, '독일': 1, '프랑스': 1, '직업': 1, '삼은': 1, '백혜련': 1, '기본': 1, '단순': 1, '소아': 1, '청소년': 1, '비속어': 1, '소란': 1, '눈살': 1, '고압': 1, '김경준': 1, '문혁': 1, '반경': 1, '중장': 1, '모종': 1, '차고': 1, '자취': 1, '선전': 1, '군중': 1, '경기장': 1, '근로자': 1, '학생': 1, '여명': 1, '원수': 1, '불꽃': 1, '튕긴다': 1, '절대로': 1, '행성': 1, '화근': 1, '기상': 1, '청서': 1, '친분': 1, '쟁탈전': 1, '호불호': 1, '산격': 1, '청사': 1, '회의실': 1, '민선': 1, '산격청사': 1, '기념': 1, '색인': 1, '점퍼': 1, '곧장': 1, '용납': 1, '대다수': 1, '회동': 1, '인색': 1, '연결': 1, '하니': 1, '보리': 1, '분리': 1, '사부': 1, '관건': 1, '원상': 1, '복구': 1, '노리': 1, '선봉': 1, '자처': 1, '엄포': 1, '내달': 1, '초로': 1, '절차법': 1, '삭제': 1, '축의': 1, '법성': 1, '송치': 1, '속칭': 1, '캐비닛': 1, '편의': 1, '주의': 1, '선정절차': 1, '구체화': 1, '작동': 1, '지위': 1, '결론': 1, '재량': 1, '직책': 1, '국무회의': 1, '개헌': 1, '정해': 1, '통한': 1, '기능': 1, '청구권': 1, '강제': 1, '청구': 1, '감시': 1, '분할': 1, '방편': 1, '방향성': 1, '자당': 1, '기소권': 1, '본부장': 1, '더욱이': 1, '거대': 1, '힘겨루기': 1, '강행': 1, '개시': 1, '경제범죄': 1, '법질서': 1, '저해': 1, '개별': 1, '덜박': 1, '희망': 1, '이직': 1, '인권': 1, '옹호': 1, '재건축': 1, '회견': 1, '완박': 1, '방금': 1, '영수회담': 1, '양평': 1, '고속도로': 1, '감옥': 1, '소야': 1, '등판': 1, '권유': 1, '레드': 1, '복안': 1, '적도': 1, '니눴습': 1, '가능': 1, '강점': 1, '수장': 1, '파업': 1, '질책': 1, '고성': 1, '솜방망이': 1, '정상화': 1, '정기': 1, '홍승택': 1, '배시': 1, '무게': 1, '목격': 1, '이례': 1, '육안': 1, '예의': 1, '시해': 1, '하나로': 1, '인천공항': 1, '운행': 1, '물질': 1, '내용물': 1, '양말': 1, '옷감': 1, '장갑': 1, '퇴비': 1, '기생충': 1, '실태': 1, '김씨': 1, '일가': 1, '우상화': 1, '문건': 1, '중범죄': 1, '어가': 1, '상실': 1, '문의': 1, '카톡': 1, '라인': 1, '검도': 1, '손질': 1, '빼기': 1, '겨눠': 1, '포문': 1, '진술': 1, '회유': 1, '척결': 1, '부남': 1, '군사정권': 1, '그대로': 1, '사가': 1, '정화': 1, '자격': 1, '남편': 1, '서초구': 1, '전경': 1, '행정안전부': 1, '국가수': 1, '부처': 1, '고등': 1, '건축학': 1, '건물': 1, '구조도': 1, '임관': 1, '김형': 1, '특보': 1, '본봉': 1, '상당': 1, '지급': 1, '경력': 1, '법관': 1, '폐기': 1, '공수': 1, '처가': 1, '도일': 1, '리자': 1, '과학기술': 1, '희림': 1, '둘이서': 1, '행정소송': 1, '본안': 1, '부담': 1, '표정': 1, '모니터': 1, '아래': 1, '짐작': 1, '최민희': 1, '감정': 1, '모욕': 1, '단상': 1, '요원': 1, '가처분': 1, '방송사': 1, '연전': 1, '연승': 1, '허위': 1, '무상': 1, '누설': 1, '고발장': 1, '접수': 1, '민의원': 1, '소셜': 1, '네트워크': 1, '김동연': 1, '도지사': 1, '방북': 1, '대납': 1, '합작': 1, '게시': 1, '아시아': 1, '태평양': 1, '열람': 1, '전해철': 1, '입하': 1, '비명': 1, '악용': 1, '행정감사': 1, '일관': 1, '견지': 1, '정보공개': 1, '듯이': 1, '공장': 1, '화재': 1, '과연': 1, '사회과학': 1, '공전': 1, '역술': 1, '음모론': 1, '안건': 1, '포럼': 1, '년도': 1, '주먹': 1, '주식': 1, '다그': 1, '제로': 1, '채택': 1, '다발': 1, '경전': 1, '간의': 1, '으름장': 1, '놨습니': 1, '도리어': 1, '실례': 1, '칭찬': 1, '클립': 1, '앙금': 1, '끼리': 1, '건데': 1, '온건': 1, '밀착': 1, '트럼프': 1, '사고방식': 1, '주저': 1, '한원': 1, '잠수함': 1, '자고': 1, '철수': 1, '치하': 1, '명실': 1, '상부': 1, '핵보유국': 1, '공조': 1, '안정': 1, '한계': 1, '핵물질': 1, '국제사회': 1, '자평': 1, '말로': 1, '양국': 1, '밀고': 1, '스탈린': 1, '남침': 1, '처럼': 1, '푸틴': 1, '무얼': 1, '서울시장': 1, '강연': 1, '소형': 1, '경량': 1, '종국': 1, '나토': 1, '배치도': 1, '고도화': 1, '뿜으': 1, '회귀': 1, '미공군': 1, '모의': 1, '전투력': 1, '민감': 1, '타깃': 1, '관할': 1, '포성': 1, '자극': 1, '무진': 1, '대학원': 1, '억지': 1, '트집': 1, '연례': 1, '포격했다': 1, '유엔군': 1, '정전': 1, '준수': 1, '항행': 1, '경보': 1, '발령': 1, '모자라': 1, '항법': 1, '전파': 1, '선제': 1, '실험': 1, '주도': 1, '주지': 1, '중러': 1, '이지스': 1, '구축함': 1, '남구': 1, '해군작전사령부': 1, '출항': 1, '신중하': 1, '단호': 1, '항상': 1, '강도': 1, '점차': 1, '뭉치': 1, '김여정': 1, '노동당': 1, '담화': 1, '긴장감': 1, '육군': 1, '전방': 1, '안정식': 1, '형태': 1, '다소': 1, '미련': 1, '발발': 1, '대규모': 1, '반미투쟁': 1, '정성훈': 1, '일제': 1, '유선': 1, '거짓말쟁이': 1, '팻말': 1, '답니': 1, '인지도': 1, '계좌': 1, '연루': 1, '징역형': 1, '집행유예': 1, '블랙펄': 1, '인베스트먼트': 1, '매개': 1, '저장': 1, '무근': 1, '지난주': 1, '거짓말': 1, '듣기': 1, '내내': 1, '아람': 1, '바로가기': 1, '소식': 1, '비유': 1, '점령': 1, '패배': 1, '가관': 1, '숨기': 1, '패싱': 1, '윤곽': 1, '라웅': 1, '국립': 1, '직속': 1, '주재': 1, '우울': 1, '조기': 1, '투자': 1, '응급의료': 1, '개소': 1, '검진': 1, '자살': 1, '상담': 1, '시설': 1, '매년': 1, '주거': 1, '치료': 1, '회복': 1, '이보': 1, '화약고': 1, '타개': 1, '주민': 1, '가중': 1, '남북정상회담': 1, '잠정': 1, '지상': 1, '중지': 1, '정찰위성': 1, '만리': 1, '경호': 1, '운반': 1, '천리마': 1, '항의': 1, '국방성': 1, '성명': 1, '파기': 1, '민간': 1, '군인': 1, '미가': 1, '일례': 1, '해안포': 1, '방사포': 1, '곳곳': 1, '인명': 1, '국무위원': 1, '수리': 1, '개념': 1, '요인': 1, '시비': 1, '주권': 1, '간주': 1, '단언': 1, '일치': 1, '자의': 1, '우도': 1, '유엔': 1, '비무장지대': 1, '인접': 1, '허가': 1, '국장': 1, '작성': 1, '연안': 1, '제목': 1, '문서': 1, '전문': 1, '법적': 1, '취약성': 1, '분계선': 1, '좌우': 1, '마일': 1, '항만': 1, '허용': 1, '해역': 1, '육지': 1, '년대': 1, '장성': 1, '회담': 1, '김정일': 1, '국방위원장': 1, '지정': 1, '시범': 1, '고조': 1, '그림': 1, '파란색': 1, '실선': 1, '참여연대': 1, '동체': 1, '발동기': 1, '믿음성': 1, '정박': 1, '무기': 1, '프로그램': 1, '방만': 1, '불투명': 1, '맹공': 1, '잘잘못': 1, '실행': 1, '항간': 1, '화의': 1, '건강': 1, '보험': 1, '심사평가원': 1, '집착': 1, '간호사': 1, '마구잡이': 1, '숙의': 1, '졸속': 1, '독촉': 1, '언성': 1, '취소소송': 1, '각하': 1, '고등법원': 1, '문구': 1, '미애': 1, '고함': 1, '사실관계': 1, '개혁당': 1, '서명': 1, '책무': 1, '이예': 1, '강구': 1, '남제': 1, '언쟁': 1, '구독': 1, '실리': 1, '수용': 1, '미지수': 1, '우상호': 1, '로직': 1, '실기': 1, '유력': 1, '측근': 1, '재석': 1, '전원': 1, '명분': 1, '임시회': 1, '재발': 1, '동력': 1, '한민수': 1, '사견': 1, '전제': 1, '찬반': 1, '수정': 1, '협조': 1, '김주형': 1, '유미': 1, '채원': 1, '조사상': 1, '선두': 1, '시나리오': 1, '캠페인': 1, '그었다': 1, '가게': 1, '배제': 1, '중첩': 1, '도래': 1, '파전': 1, '과반': 1, '득표': 1, '감치': 1, '실망': 1, '자칫': 1, '프레임': 1, '경쟁력': 1, '활용': 1, '풍문': 1, '시종일관': 1, '방관': 1, '시민사회': 1, '견해': 1, '축소': 1, '강변': 1, '감원': 1, '논리': 1, '성씨': 1, '오씨': 1, '육씨': 1, '웃음소리': 1, '오죽': 1, '증폭': 1, '혼란': 1, '논문': 1, '참고': 1, '시한': 1, '달이': 1, '당부': 1, '이용': 1, '입지': 1, '지대': 1, '시름': 1, '구제': 1, '시정': 1, '당직': 1, '미래세': 1, '오찬': 1, '취향': 1, '참석자': 1, '스타크래프트': 1, '에이지': 1, '오브': 1, '엠파이어': 1, '병력': 1, '오랑캐': 1, '원정': 1, '복종': 1, '칠종칠금': 1, '손권': 1, '장수': 1, '기득권': 1, '군주': 1, '천하': 1, '통일': 1, '다한': 1, '변방': 1, '워낙': 1, '불가피': 1, '국힘': 1, '가도': 1, '막장': 1, '드라마': 1, '패장': 1, '막론': 1, '연하': 1, '사상': 1, '초유': 1, '고지': 1, '반기': 1, '시오': 1, '안녕하십니까': 1, '수순': 1, '크게': 1, '단합': 1, '총괄': 1, '지지도': 1, '직선제': 1, '전대협': 1, '의장': 1, '운동권': 1, '맏형': 1, '통일부': 1, '친문': 1, '손색': 1, '자연': 1, '후반기': 1, '입법권': 1, '처지': 1, '민의': 1, '심기': 1, '전해': 1, '고삐': 1, '취지': 1, '단결': 1, '돌파': 1, '이해식': 1, '준위': 1, '이건': 1, '조롱': 1, '고집': 1, '상대로': 1, '강요': 1, '눈치': 1, '이중': 1, '스탠스': 1, '바깥': 1, '대체로': 1, '김기현': 1, '가령': 1, '밀당': 1, '내막': 1, '등록': 1, '전자': 1, '근본': 1, '내지': 1, '사육': 1, '유통': 1, '종식': 1, '거가': 1, '정무': 1, '정국': 1, '혼탁': 1, '듭니': 1, '세지': 1, '방문자': 1, '수의': 1, '실정': 1, '깨알': 1, '영부인': 1, '중책': 1, '각오': 1, '영광': 1, '몰리': 1, '자치': 1, '실천': 1, '혼신': 1, '계류': 1, '금주': 1, '요약': 1, '지수': 1, '불명': 1, '심화': 1, '특구랄까': 1, '전남도': 1, '얼마': 1, '후임': 1, '대개': 1, '김원': 1, '김영배': 1, '옛날': 1, '금은': 1, '빈대': 1, '초가삼간': 1, '태운': 1, '격이': 1, '일선': 1, '사당': 1, '손발': 1, '팬덤': 1, '지방자치': 1, '오프라인': 1, '절박': 1, '개딸': 1, '중화가': 1, '디지털': 1, '현상': 1, '계기': 1, '모수': 1, '여지': 1, '민주주의': 1, '파워': 1, '다해': 1, '케네디': 1, '주기': 1, '바라지': 1, '해도': 1, '매달': 1, '당비': 1, '정치가': 1, '호의': 1, '마무리': 1, '보답': 1, '나주': 1, '여수': 1, '자주': 1, '다음카카오': 1, '포털': 1, '치면': 1, '콘텐츠': 1, '대용': 1, '표준': 1, '요동': 1, '실현': 1, '심판': 1, '래서': 1, '안과': 1, '통상': 1, '조항': 1, '일간': 1, '만료': 1, '승인': 1, '대하': 1, '알권리': 1, '외형': 1, '서서': 1, '이브': 1, '전선': 1, '흐트리려': 1, '자충수': 1, '절대': 1, '외향': 1, '저런': 1, '여러가지': 1, '고려': 1, '목도': 1, '과실치사': 1, '격앙': 1, '박성민': 1, '컨설턴트': 1, '느낌': 1, '대척점': 1, '작정': 1, '범의': 1, '항소심': 1, '임박': 1, '대부분': 1, '법리': 1, '감찰관': 1, '투명': 1, '재고': 1, '부속': 1, '즉시': 1, '강력': 1, '일지': 1, '고검': 1, '중견': 1, '한마디': 1, '외화': 1, '내빈': 1, '유튜버': 1, '서정욱': 1, '워딩': 1, '사할린': 1, '월간': 1, '사법': 1, '종료': 1, '혈세': 1, '당선인': 1, '무혐의': 1, '면죄부': 1, '다스': 1, '소유': 1, '디도스': 1, '발자국': 1, '혹평': 1, '디테': 1, '가늠': 1, '중립': 1, '농단': 1, '드루': 1, '결과물': 1, '도출': 1, '간과': 1, '사법부': 1, '정쟁': 1, '비리': 1, '부당': 1, '사고': 1, '미담': 1, '얘깃': 1, '사이트': 1, '이륙': 1, '적의': 1, '원점': 1, '제거': 1, '적기': 1, '일환': 1, '청주': 1, '충주': 1, '조성': 1, '박영주': 1, '심각': 1, '전병': 1, '과장': 1, '폭력': 1, '촉발': 1, '국감': 1, '입학': 1, '계산': 1, '의사결정': 1, '년임': 1, '위로': 1, '순간': 1, '남아': 1, '그냥': 1, '함경북도': 1, '앞바다': 1, '양욱': 1, '아산': 1, '동시': 1, '추구': 1, '제원': 1, '이주호': 1, '유승희': 1, '최민지': 1, '시청자': 1, '적하': 1, '페이스북': 1, '장석': 1, '막무가내': 1, '퇴장': 1, '코너': 1, '계단': 1, '오른': 1, '팬카페': 1, '마을': 1, '진보': 1, '녹록': 1, '원금': 1, '인세': 1, '신고': 1, '증가': 1, '예금': 1, '억원': 1, '아파트': 1, '보증금': 1, '제외': 1, '내야': 1, '천지': 1, '대한민국': 1, '로펌': 1, '전락': 1, '대장동': 1, '교주': 1, '이미지': 1, '바탕': 1, '과오': 1, '완성': 1, '한잔': 1, '이상민': 1, '시그널': 1, '일상생활': 1, '내비': 1, '완장': 1, '일제시대': 1, '덕담': 1, '오라': 1, '분만': 1, '대국민': 1, '장면': 1, '슬라이드': 1, '아동': 1, '입원': 1, '명단': 1, '폭격기': 1, '어조': 1, '선점': 1, '정종': 1, '직전': 1, '마산': 1, '합포': 1, '글로벌': 1, '허브': 1, '도시': 1, '의제': 1, '균형발전': 1, '당일': 1, '당협': 1, '동하': 1, '텃밭': 1, '타진': 1, '격인': 1, '경선': 1, '충청': 1, '충북': 1, '충남': 1, '광주': 1, '전북': 1, '게다가': 1, '순회': 1, '지자체': 1, '장점': 1, '조사': 1, '우군': 1, '에너지': 1, '신문': 1, '유권자': 1, '신뢰수준': 1, '표본': 1, '오차': 1, '포인트': 1, '자동': 1, '참조': 1, '인종차별': 1, '대표자': 1, '파장': 1, '이심': 1, '상치': 1, '불발': 1, '불협화음': 1, '피로': 1, '임안': 1, '상정': 1, '무난': 1, '시사저널': 1, '종합': 1, '거치': 1, '깜짝': 1, '이동욱': 1, '장기판': 1, '황규석': 1, '서울시': 1, '다현': 1, '결속': 1, '추산': 1, '진율': 1, '절반': 1, '테이블': 1, '손해': 1, '학교': 1, '소수': 1, '성적': 1, '원외': 1, '장악': 1, '후퇴': 1, '전철': 1, '의과대학': 1, '사직서': 1, '긴급': 1, '총회': 1, '격화': 1, '득표율': 1, '저변': 1, '봉합': 1, '대감': 1, '파면': 1, '특유': 1, '날선': 1, '갈수록': 1, '설득': 1, '과실': 1, '졸업생': 1, '거나': 1, '교도소': 1, '무릅쓸': 1, '정제': 1, '화해': 1, '대중': 1, '전달': 1, '명망': 1, '욕심': 1, '실무': 1, '수렴': 1, '초기': 1, '확률': 1, '분열': 1, '응당': 1, '김계환': 1, '주둔': 1, '마지막': 1, '성격': 1, '육상': 1, '내뿜': 1, '공감': 1, '불통': 1, '마주': 1, '간극': 1, '뒷받침': 1, '고스': 1, '쟁점들': 1, '명칭': 1, '이제껏': 1, '각자': 1, '어려움': 1, '인지': 1, '나름': 1, '유화': 1, '조속': 1, '부실': 1, '방도': 1, '재현': 1, '안덕선': 1, '교육평가': 1, '충분': 1, '퇴보': 1, '수나': 1, '교육병원': 1, '상응': 1, '불합리': 1, '선행': 1, '신촌': 1, '보호자': 1, '발걸음': 1, '예측': 1, '정설': 1, '이어진': 1, '생명': 1, '장난': 1, '시내': 1, '의의': 1, '커뮤니티': 1, '항복': 1, '진심': 1, '후회': 1, '전문의': 1, '반수': 1, '현주소': 1, '화협': 1, '시일': 1, '진과': 1, '진척': 1, '박진규': 1, '핀잔': 1, '희화': 1, '기요': 1, '누구세요': 1, '개그콘서트': 1, '나이': 1, '회하': 1, '사흘': 1, '이동식': 1, '식별': 1, '여섯': 1, '박차': 1, '해군': 1, '을지': 1, '방패': 1, '가정': 1, '조약': 1, '동향': 1, '주시': 1, '형님': 1, '내일': 1, '의례': 1, '만도': 1, '작심': 1, '육성': 1, '무너': 1, '선출': 1, '그거': 1, '요홍': 1, '미남': 1, '셀카': 1, '은근': 1, '외모': 1, '서점가': 1, '아내': 1, '집밥': 1, '세운': 1, '요리실': 1, '장금': 1, '김장': 1, '지단': 1, '혜경': 1, '이요': 1, '인터넷': 1, '위고': 1, '품절': 1, '배송': 1, '주머니': 1, '형성': 1, '덕분': 1, '독려': 1, '릴레이': 1, '니요': 1, '이학수': 1, '공직선거법': 1, '보궐선거': 1, '생기': 1, '공언': 1, '황현': 1, '총장': 1, '선택': 1, '비례': 1, '지역구': 1, '윈윈하': 1, '결선투표제': 1, '교체': 1, '이지': 1, '전도': 1, '성안': 1, '겹치': 1, '김민정': 1, '편집': 1, '정새': 1, '연진': 1, '디자이너': 1, '권현정': 1, '의선': 1, '추적': 1, '여행': 1, '지그재그': 1, '우연': 1, '우연이': 1, '연소': 1, '문제점': 1, '곧바로': 1, '지원이': 1, '진호': 1, '동맹국': 1, '접근': 1, '초음': 1, '기세': 1, '주포': 1, '사거리': 1, '분당': 1, '황해도': 1, '장사정포': 1, '목구멍': 1, '허리': 1, '겨누': 1, '족쇄': 1, '실전': 1, '광환': 1, '백미': 1, '김주하': 1, '최규진': 1, '시간대': 1, '시가': 1, '횟수': 1, '실과': 1, '녹취': 1, '이신': 1, '국가정보원장': 1, '이첩': 1, '나중': 1, '부장': 1, '직통': 1, '허성': 1, '정수': 1, '복건': 1, '평행선': 1, '석비': 1, '서관': 1, '계환자': 1, '주체': 1, '닷새': 1, '정면': 1, '적정': 1, '통보': 1, '토로': 1, '수립': 1, '송구': 1})\n"
     ]
    }
   ],
   "source": [
    "# 한 글자 키워드 제거\n",
    "remove_char_counter = Counter({x : count[x] for x in count if len(x) > 1})\n",
    "print(remove_char_counter)"
   ]
  },
  {
   "cell_type": "code",
   "execution_count": 17,
   "id": "5aac818a-c085-4d52-a1f2-27b44515d6f9",
   "metadata": {},
   "outputs": [
    {
     "name": "stdout",
     "output_type": "stream",
     "text": [
      "['아', '휴', '아이구', '아이쿠', '아이고', '어', '나', '우리', '저희', '따라']\n"
     ]
    }
   ],
   "source": [
    "# 불용어 데이터 파일\n",
    "korean_stopwords_path = 'data/korean_stopwords.txt'\n",
    "\n",
    "# 텍스트 파일 오픈\n",
    "with open(korean_stopwords_path, encoding='utf8') as f:\n",
    "    stopwords = f.readlines()\n",
    "stopwords = [x.strip() for x in stopwords] # 양쪽 끝에서 공백이나 개행 문자 제거\n",
    "print(stopwords[:10]) # 불용어 10개 출력"
   ]
  },
  {
   "cell_type": "code",
   "execution_count": 18,
   "id": "7d6d0a78-0ab7-402f-803b-25cee659ab68",
   "metadata": {
    "scrolled": true
   },
   "outputs": [
    {
     "name": "stdout",
     "output_type": "stream",
     "text": [
      "Counter({'의원': 222, '국민': 129, '민주당': 119, '대표': 116, '후보': 112, '국회': 103, '위원장': 101, '북한': 101, '의료': 99, '정부': 87, '훈련': 83, '기자': 78, '회장': 71, '생각': 67, '대통령': 66, '특검': 66, '앵커': 65, '장관': 63, '증원': 62, '한동훈': 61, '미사일': 61, '해상': 60, '상황': 60, '발사': 59, '검찰': 58, '의대': 54, '관련': 53, '결정': 53, '지금': 52, '사격': 51, '주장': 48, '수사': 48, '대한': 47, '위원회': 46, '지난': 45, '지역': 45, '의사': 44, '오늘': 43, '정치': 42, '대해': 42, '혁신': 41, '청문회': 39, '시장': 38, '탄도미사일': 38, '위원': 37, '이후': 36, '해병대': 36, '사건': 35, '이재명': 35, '질문': 34, '사실': 33, '비상': 33, '당시': 32, '임현': 32, '추진': 32, '조국': 32, '유재': 32, '입장': 31, '문제': 30, '합의': 30, '환자': 30, '신정훈': 30, '복지': 29, '도발': 29, '특검법': 28, '때문': 28, '근거': 28, '여당': 27, '가능성': 27, '서울': 27, '과정': 27, '통해': 27, '보건': 27, '사람': 26, '차관': 26, '연합뉴스': 26, '총선': 26, '정책': 26, '나경원': 25, '진행': 25, '한미': 25, '발표': 25, '도서': 25, '규홍': 25, '출마': 24, '서북': 24, '윤석열': 24, '군사': 24, '추정': 23, '실시': 23, '대통령실': 23, '주자': 23, '원희룡': 22, '비판': 22, '의협': 22, '뉴스': 22, '당원': 22, '만큼': 22, '당권': 22, '개혁': 22, '통화': 22, '제안': 22, '추천': 22, '홍준표': 21, '답변': 21, '보건복지부': 21, '대한의사협회': 21, '말씀': 21, '원장': 21, '회의': 21, '강조': 20, '지적': 20, '위해': 20, '논의': 20, '경기도': 20, '제출': 20, '유상범': 20, '대구시': 19, '발언': 19, '차례': 19, '전당대회': 19, '사태': 19, '야당': 19, '오후': 19, '복지부': 18, '여자': 18, '초음속': 18, '동해': 18, '설명': 18, '법안': 18, '검사': 18, '이제': 18, '거부': 18, '남북': 18, '대책': 18, '자료': 18, '호남': 18, '모습': 17, '사과': 17, '강선우': 17, '정청래': 17, '오전': 17, '기소': 17, '범죄': 17, '발의': 17, '정도': 17, '서해': 17, '달라': 17, '전체': 17, '제자': 17, '보고': 16, '요청': 16, '보수': 16, '활동': 16, '어제': 16, '통과': 16, '관계자': 16, '중수': 16, '공백': 16, '라며': 16, '반응': 16, '부위': 16, '부대': 16, '박지환': 16, '계속': 15, '시작': 15, '선언': 15, '면담': 15, '부산': 15, '여의도': 15, '제기': 15, '결과': 15, '건가': 15, '숫자': 15, '경우': 15, '재개': 15, '확인': 15, '김건희': 15, '무장': 15, '상병': 15, '권영철': 15, '본인': 14, '자리': 14, '출신': 14, '윤상현': 14, '인터뷰': 14, '정원': 14, '반대': 14, '요구': 14, '연합': 14, '대응': 14, '사진': 14, '심의': 14, '연대': 14, '대북': 14, '규모': 14, '위기': 14, '소멸': 14, '공군': 14, '이유': 13, '이야기': 13, '국회법': 13, '시험': 13, '가운데': 13, '연평도': 13, '거절': 13, '정당': 13, '부분': 13, '의정': 13, '갈등': 13, '제보': 13, '얘기': 13, '협의': 13, '전공': 13, '해결': 13, '집단': 12, '여야': 12, '방침': 12, '정말': 12, '폭발': 12, '분석': 12, '선거': 12, '평가': 12, '수사권': 12, '시행': 12, '소청': 12, '제대로': 12, '여러': 12, '준비': 12, '확대': 12, '영상': 12, '정치검찰': 12, '법원': 12, '해당': 12, '대법원': 12, '최근': 12, '의혹': 12, '예상': 12, '사위': 12, '간사': 12, '투표': 12, '내부': 11, '법사': 11, '방식': 11, '공중': 11, '일대': 11, '인근': 11, '고체': 11, '백령도': 11, '모든': 11, '경쟁': 11, '현재': 11, '책임': 11, '단체': 11, '전문가': 11, '효력': 11, '정지': 11, '재판': 11, '피해': 11, '판결': 11, '질의': 11, '교육': 11, '자주포': 11, '한반도': 11, '구역': 11, '사단': 11, '특별검사': 11, '용산': 11, '직접': 10, '언급': 10, '최고': 10, '앞서': 10, '박민수': 10, '대변인': 10, '표현': 10, '오물': 10, '경계': 10, '대구': 10, '왼쪽': 10, '지지': 10, '집중': 10, '법무부': 10, '기관': 10, '자체': 10, '핵심': 10, '의견': 10, '판단': 10, '우려': 10, '임명': 10, '결선': 10, '막말': 10, '과학': 10, '교수': 10, '노력': 10, '변호사': 10, '개월': 10, '이전': 10, '여사': 10, '출석': 10, '지난해': 10, '산출': 10, '홍보': 10, '연평': 10, '전투기': 10, '참여': 10, '기지': 10, '아마': 10, '책임감': 10, '지방': 10, '게임': 9, '라디오': 9, '사회': 9, '자유': 9, '방송': 9, '본부': 9, '평양': 9, '연료': 9, '인천': 9, '지난달': 9, '모임': 9, '공개': 9, '방위': 9, '확보': 9, '천공': 9, '반박': 9, '의미': 9, '실제': 9, '처음': 9, '수도': 9, '확정': 9, '공부': 9, '가장': 9, '스파이크': 9, '반발': 9, '내용': 9, '관리': 9, '비대': 9, '순직': 9, '본회의': 9, '국방부': 9, '전략': 8, '해병': 8, '찬성': 8, '견제': 8, '겨냥': 8, '행동': 8, '일부': 8, '의도': 8, '논평': 8, '단독': 8, '제소': 8, '합참': 8, '정보': 8, '추가': 8, '원안': 8, '경기': 8, '국가': 8, '상공': 8, '풍선': 8, '살포': 8, '전날': 8, '한국': 8, '이해': 8, '원내대표': 8, '무력': 8, '정안': 8, '대상': 8, '러시아': 8, '기술': 8, '송금': 8, '조작': 8, '이상인': 8, '목소리': 8, '로서': 8, '사안': 8, '지지자': 8, '박주민': 8, '안상훈': 8, '명의': 8, '대화': 8, '가지': 8, '미국': 8, '지원': 8, '상태': 8, '설정': 8, '시도': 8, '금지': 8, '천명': 8, '국정': 8, '전남': 8, '작전': 8, '당선': 7, '만난': 7, '과거': 7, '유튜브': 7, '잘못': 7, '유감': 7, '헌법': 7, '영역': 7, '윤리': 7, '위반': 7, '항적': 7, '연기': 7, '다시': 7, '뉴시스': 7, '참석': 7, '서로': 7, '협력': 7, '지휘': 7, '검찰청': 7, '폐지': 7, '시민': 7, '동의': 7, '행정': 7, '면서': 7, '출연': 7, '물풍선': 7, '포함': 7, '집행정지': 7, '의결': 7, '마음': 7, '국제': 7, '구심': 7, '문재인': 7, '참고인': 7, '처리': 7, '사령부': 7, '여단': 7, '제공': 7, '로켓': 7, '정례': 7, '역시': 7, '먼저': 7, '이씨': 7, '만남': 7, '전화': 7, '측은': 7, '판사': 7, '개원': 7, '레이스': 7, '소통': 7, '복원': 7, '무기한': 7, '맹획': 6, '삼국지': 6, '멘트': 6, '교란': 6, '재차': 6, '보도': 6, '싸움': 6, '행태': 6, '불법': 6, '고발': 6, '검토': 6, '영상편집': 6, '당국': 6, '거리': 6, '센터': 6, '옹진군': 6, '대연평도': 6, '새벽': 6, '프리덤': 6, '에지': 6, '항공모함': 6, '질타': 6, '역량': 6, '차지': 6, '해석': 6, '경남': 6, '오른쪽': 6, '소속': 6, '경북': 6, '그룹': 6, '거론': 6, '권한': 6, '공소': 6, '제시': 6, '방안': 6, '직무': 6, '장기': 6, '남용': 6, '개입': 6, '중인': 6, '공무원': 6, '예고': 6, '지지율': 6, '비행운': 6, '기존': 6, '엔진': 6, '대비': 6, '간담': 6, '부지': 6, '스스로': 6, '민형배': 6, '필요성': 6, '행사': 6, '필요': 6, '소송': 6, '비용': 6, '한편': 6, '진실': 6, '범죄자': 6, '일방': 6, '필수': 6, '합리': 6, '비롯': 6, '인력': 6, '복귀': 6, '회원': 6, '수준': 6, '천무': 6, '연장': 6, '전력': 6, '계획': 6, '임성근': 6, '정신건강': 6, '최대': 6, '선임': 6, '누가': 6, '진정': 6, '공식': 6, '여론조사': 6, '탄핵': 6, '방점': 6, '반윤': 6, '변호': 6, '사비': 6, '백서': 6, '오지': 5, '공격': 5, '보좌': 5, '보기': 5, '협회': 5, '합동': 5, '참모': 5, '비행': 5, '루스벨트': 5, '조선': 5, '투쟁': 5, '윤심': 5, '인사': 5, '주년': 5, '기자회견': 5, '일정': 5, '방문': 5, '해체': 5, '영남권': 5, '우위': 5, '지층': 5, '지사': 5, '창원': 5, '일화': 5, '소위': 5, '수완': 5, '범위': 5, '예정': 5, '유지': 5, '통제': 5, '마련': 5, '절차': 5, '균형': 5, '청장': 5, '검찰총장': 5, '사항': 5, '이름': 5, '최종': 5, '체계': 5, '부패': 5, '분류': 5, '안전': 5, '본격': 5, '조직': 5, '메시지': 5, '기억': 5, '김선민': 5, '소문': 5, '채널': 5, '기도': 5, '그동안': 5, '개선': 5, '군사훈련': 5, '전면': 5, '기사': 5, '나라': 5, '현실': 5, '시기': 5, '특별': 5, '노종면': 5, '제재': 5, '증인': 5, '서비스': 5, '주가조작': 5, '그것': 5, '노예': 5, '기간': 5, '수치': 5, '적극': 5, '역대': 5, '토론': 5, '초등학생': 5, '아들': 5, '보시': 5, '그간': 5, '전술핵': 5, '실효': 5, '성과': 5, '세계': 5, '배경': 5, '체결': 5, '도이치': 5, '임기': 5, '불안': 5, '대전': 5, '충돌': 5, '완충': 5, '수역': 5, '채상병': 5, '규명': 5, '중진': 5, '거부권': 5, '윤계': 5, '현장': 5, '호소': 5, '주먹구구': 5, '의원님': 5, '반성': 5, '항공': 5, '차단': 5, '김혜경': 5, '요리': 5, '만원': 5, '성함': 5, '불참': 5, '회수': 5, '법무': 5, '조조': 4, '유비': 4, '국토부': 4, '비난': 4, '점도': 4, '주로': 4, '전쟁': 4, '구도': 4, '분위기': 4, '단어': 4, '초선': 4, '상대': 4, '상임': 4, '발음': 4, '일본': 4, '대위': 4, '사용': 4, '수가': 4, '발사체': 4, '감행': 4, '발전': 4, '신형': 4, '발생': 4, '안보': 4, '연구원': 4, '아침': 4, '포착': 4, '이틀': 4, '남쪽': 4, '시어도어': 4, '행보': 4, '거듭': 4, '대변': 4, '영향': 4, '존재': 4, '촬영': 4, '상징': 4, '참패': 4, '직후': 4, '압도': 4, '신설': 4, '검수': 4, '강화': 4, '범죄수사': 4, '향후': 4, '독자': 4, '측면': 4, '보유': 4, '제한': 4, '공직자': 4, '경제': 4, '사업': 4, '소개': 4, '쟁점': 4, '경찰청': 4, '규정': 4, '법률': 4, '사전': 4, '도움': 4, '여론': 4, '의향': 4, '시스템': 4, '성폭행': 4, '징계': 4, '추궁': 4, '공유': 4, '특정': 4, '전혀': 4, '취재': 4, '발견': 4, '중단': 4, '확성기': 4, '공범': 4, '박찬': 4, '대행': 4, '응징': 4, '인물': 4, '선고': 4, '현행': 4, '공동': 4, '저녁': 4, '법정': 4, '현안': 4, '대로': 4, '쌍방울': 4, '변호인': 4, '강성': 4, '국회의원': 4, '원칙': 4, '민생': 4, '서도': 4, '수급': 4, '연구': 4, '수석': 4, '신청': 4, '도마': 4, '매우': 4, '의회': 4, '하자': 4, '정세': 4, '회관': 4, '동맹': 4, '약속': 4, '북도': 4, '북방한계선': 4, '가상': 4, '랩터': 4, '부지역': 4, '인정': 4, '기준': 4, '정전협정': 4, '위성': 4, '방향': 4, '전망': 4, '군사분계선': 4, '점검': 4, '모터': 4, '골프': 4, '초대': 4, '유죄': 4, '번호': 4, '일상': 4, '중심': 4, '남한': 4, '사망': 4, '상의': 4, '당사자': 4, '통행': 4, '진료': 4, '소리': 4, '논란': 4, '구성': 4, '고수': 4, '공천': 4, '재의': 4, '친윤': 4, '와중': 4, '이인영': 4, '정치권': 4, '기대': 4, '어쨌든': 4, '운영': 4, '역할': 4, '반영': 4, '안위': 4, '개인': 4, '극복': 4, '부활': 4, '김현정': 4, '뉴스쇼': 4, '법조인': 4, '경찰': 4, '백지': 4, '기록': 4, '구입': 4, '재산': 4, '설전': 4, '병원': 4, '처벌': 4, '국가안보실': 4, '연출': 3, '대답': 3, '그날': 3, '애가': 3, '그다음': 3, '주인공': 3, '청년': 3, '남만': 3, '주류': 3, '파탄': 3, '한판': 3, '승부': 3, '반문': 3, '캠프': 3, '조경태': 3, '재선': 3, '경험': 3, '부각': 3, '의새': 3, '브리핑': 3, '존중': 3, '실수': 3, '해명': 3, '분노': 3, '하라': 3, '방해': 3, '선진': 3, '화법': 3, '화살': 3, '그래픽': 3, '성능': 3, '개량': 3, '중이': 3, '원산': 3, '파편': 3, '바다': 3, '염두': 3, '올해': 3, '관측': 3, '단계': 3, '원인': 3, '만이': 3, '연속': 3, '여개': 3, '북부': 3, '의식': 3, '중앙': 3, '집회': 3, '기회': 3, '공략': 3, '의중': 3, '시청': 3, '국토교통부': 3, '가량': 3, '비공개': 3, '박완수': 3, '통관': 3, '이재': 3, '당내': 3, '친윤친': 3, '가라': 3, '박형준': 3, '부산시': 3, '언론': 3, '초점': 3, '전담': 3, '청중': 3, '황운하': 3, '완전': 3, '박탈': 3, '진짜': 3, '권력': 3, '개정안': 3, '수행': 3, '장치': 3, '위험': 3, '개정': 3, '부서': 3, '포괄': 3, '참사': 3, '전환': 3, '구체': 3, '대안': 3, '일인': 3, '묘수': 3, '주력': 3, '어서': 3, '대선': 3, '국면': 3, '갑자기': 3, '가요': 3, '결심': 3, '공세': 3, '격노': 3, '결함': 3, '조치': 3, '생활': 3, '접경': 3, '가동': 3, '초임': 3, '대우': 3, '제도': 3, '관계': 3, '평화': 3, '증언': 3, '되풀이': 3, '고위': 3, '주철': 3, '이자': 3, '최초': 3, '단장': 3, '징역': 3, '사의': 3, '부인': 3, '업무': 3, '일반': 3, '토론회': 3, '억만': 3, '생중계': 3, '김홍일': 3, '방심위': 3, '방통위': 3, '인용': 3, '드릴': 3, '얼굴': 3, '좌석': 3, '마이크': 3, '차이': 3, '뭔가': 3, '김광민': 3, '혐의': 3, '리스크': 3, '화면': 3, '캡처': 3, '보고서': 3, '화성': 3, '보이': 3, '보정': 3, '이견': 3, '이수진': 3, '월일': 3, '서영석': 3, '의료인': 3, '감안': 3, '정권': 3, '인원': 3, '기반': 3, '취급': 3, '정상': 3, '카카오': 3, '검색': 3, '이메일': 3, '홈페이지': 3, '제일': 3, '김종배': 3, '시선집중': 3, '수면': 3, '내시경': 3, '고작': 3, '자격정지': 3, '변화': 3, '잠재': 3, '핵우산': 3, '논쟁': 3, '나선': 3, '핵무기': 3, '개발': 3, '영해': 3, '확장': 3, '차기': 3, '김일성': 3, '북핵': 3, '오세훈': 3, '남해': 3, '비궁': 3, '화염': 3, '서북도서방위사령부': 3, '능력': 3, '태세': 3, '검증': 3, '최강': 3, '스텔스': 3, '포격': 3, '중거리': 3, '정상회담': 3, '부부': 3, '함정': 3, '이내': 3, '하늘': 3, '회전': 3, '신뢰': 3, '번의': 3, '전국': 3, '이모': 3, '서영교': 3, '구명': 3, '로비': 3, '휴대전화': 3, '입수': 3, '심리상담': 3, '예방': 3, '정신': 3, '내년': 3, '전단': 3, '높이': 3, '이하': 3, '서방사': 3, '남서쪽': 3, '표적': 3, '날인': 3, '동원': 3, '지도': 3, '국경선': 3, '영토': 3, '사령관': 3, '미상': 3, '방법': 3, '명인': 3, '지속': 3, '반복': 3, '지법': 3, '도부': 3, '무관': 3, '동참': 3, '정성호': 3, '이탈': 3, '가결': 3, '안대': 3, '안이': 3, '라면': 3, '대론': 3, '초반': 3, '소연': 3, '울분': 3, '소화': 3, '시점': 3, '토대': 3, '명도': 3, '불편': 3, '대란': 3, '이슈': 3, '캐릭터': 3, '의지': 3, '추대': 3, '전대': 3, '식용': 3, '대명': 3, '관심': 3, '리더십': 3, '아주': 3, '나가야': 3, '현황': 3, '특별법': 3, '민심': 3, '하루': 3, '특별자치도': 3, '설치': 3, '인구': 3, '최선': 3, '나머지': 3, '지구': 3, '공간': 3, '도민': 3, '생산': 3, '김대중': 3, '정체': 3, '비중': 3, '불신': 3, '교섭단체': 3, '근무': 3, '다년': 3, '협상': 3, '아무': 3, '오산': 3, '타격': 3, '법제사': 3, '동료': 3, '작가': 3, '어요': 3, '사정': 3, '발간': 3, '특위': 3, '웃음': 3, '부울경': 3, '선거인단': 3, '독단': 3, '취임': 3, '사직': 3, '구안': 3, '표명': 3, '봉직': 3, '내륙': 3, '여건': 3, '철회': 3, '의학': 3, '학년': 3, '주제': 3, '용범': 3, '실장': 3, '비서실': 2, '만날': 2, '시뮬레이션': 2, '제갈량': 2, '충성': 2, '외부': 2, '벌이': 2, '출입': 2, '김지영': 2, '리포트': 2, '일도': 2, '박재홍': 2, '행위': 2, '고요': 2, '최저': 2, '박정훈': 2, '정치인': 2, '최소한': 2, '선급': 2, '무선': 2, '부족': 2, '사퇴': 2, '촉구': 2, '파행': 2, '극한': 2, '대치': 2, '배준영': 2, '요소': 2, '퇴거': 2, '불응': 2, '실패': 2, '동쪽': 2, '중랑구': 2, '면목동': 2, '사가정역': 2, '추측': 2, '평소': 2, '파주': 2, '연천': 2, '장영근': 2, '상승': 2, '관악산': 2, '국기봉': 2, '구름': 2, '대기': 2, '대남': 2, '낙하': 2, '지적도': 2, '항모': 2, '미군': 2, '자산': 2, '부적': 2, '통신': 2, '미제': 2, '불행': 2, '고통': 2, '어필': 2, '영남': 2, '홍심': 2, '표시': 2, '빨간색': 2, '독설': 2, '전례': 2, '만찬': 2, '목적': 2, '언론인': 2, '공통': 2, '공중전': 2, '한층': 2, '청과': 2, '중대': 2, '부여': 2, '청사진': 2, '청법': 2, '형사소송법': 2, '막강': 2, '당분간': 2, '명시': 2, '제조': 2, '임시': 2, '담당': 2, '영장': 2, '방지': 2, '마약': 2, '대형': 2, '억제': 2, '다라': 2, '대통령령': 2, '중요': 2, '해소': 2, '행안부': 2, '의뢰': 2, '승리': 2, '시선': 2, '보완': 2, '사관': 2, '역사': 2, '명예훼손': 2, '달리': 2, '성은': 2, '서주희': 2, '남인순': 2, '미래': 2, '환경': 2, '이개': 2, '김용현': 2, '동국대': 2, '학과': 2, '탄도': 2, '항공기': 2, '훼손': 2, '수위': 2, '민주': 2, '규탄': 2, '대검': 2, '격상': 2, '현직': 2, '형사': 2, '시동': 2, '의심': 2, '이화영': 2, '가세': 2, '사례': 2, '상상': 2, '부정': 2, '저격': 2, '목표': 2, '거기': 2, '부합': 2, '피해자': 2, '의문': 2, '도입': 2, '울산': 2, '대검찰청': 2, '조정': 2, '대신': 2, '구조': 2, '수로': 2, '팽팽': 2, '방송통신': 2, '방심': 2, '길이': 2, '세금': 2, '경청': 2, '굳이': 2, '서대문구': 2, '비밀': 2, '실마리': 2, '인스타그램': 2, '대회': 2, '일부러': 2, '소지': 2, '국정감사': 2, '수습': 2, '남윤호': 2, '소재': 2, '경위': 2, '군사작전': 2, '일사천리': 2, '패키지': 2, '밀실': 2, '선용': 2, '본명': 2, '명품': 2, '가방': 2, '수수': 2, '리기': 2, '엄호': 2, '바텀업': 2, '주문': 2, '각고': 2, '가슴': 2, '팩트': 2, '법대': 2, '비교': 2, '반면': 2, '런가': 2, '배치': 2, '기조': 2, '집권': 2, '강경': 2, '차별': 2, '풀이': 2, '재배': 2, '공해': 2, '탑재': 2, '원자력': 2, '협정': 2, '농축': 2, '의존': 2, '심정': 2, '워싱턴': 2, '김정은': 2, '해법': 2, '복합': 2, '시위': 2, '긴장': 2, '출동': 2, '내뿜으': 2, '전격': 2, '대대': 2, '세대': 2, '방어': 2, '파괴': 2, '거란': 2, '수수방관': 2, '침범': 2, '참관': 2, '알섬': 2, '성공': 2, '종류': 2, '북러': 2, '카드': 2, '중국': 2, '참가': 2, '반미': 2, '대화방': 2, '야권': 2, '외압': 2, '포항': 2, '가족': 2, '장식': 2, '연락': 2, '디자인': 2, '불쾌감': 2, '정태진': 2, '태도': 2, '출범': 2, '정신질환': 2, '권역': 2, '포탄': 2, '거주': 2, '보도자료': 2, '인치': 2, '유도': 2, '운용': 2, '향상': 2, '구속': 2, '민간인': 2, '침해': 2, '대청도': 2, '소청도': 2, '적용': 2, '선포': 2, '가기': 2, '경비': 2, '모양': 2, '완화': 2, '노무현': 2, '미사': 2, '일일': 2, '것일': 2, '하필': 2, '스님': 2, '개최': 2, '방이': 2, '당초': 2, '타당성': 2, '적절': 2, '중간': 2, '오해': 2, '다임': 2, '여성': 2, '마취': 2, '평생': 2, '약과': 2, '제정': 2, '신입': 2, '김윤': 2, '십상시': 2, '언행': 2, '상처': 2, '출처': 2, '네이버': 2, '정통': 2, '영향력': 2, '원내': 2, '일보': 2, '주목': 2, '표결': 2, '전인': 2, '회기': 2, '진상': 2, '현역': 2, '한자리': 2, '선거운동': 2, '원론': 2, '차원': 2, '바람': 2, '일이': 2, '한쪽': 2, '기각': 2, '입김': 2, '작용': 2, '수긍': 2, '대결': 2, '다지': 2, '그게': 2, '대목': 2, '사이': 2, '민원': 2, '사무': 2, '비주류': 2, '흥행': 2, '추파': 2, '광역': 2, '어차피': 2, '민주화': 2, '감지': 2, '부응': 2, '전반': 2, '위협': 2, '파악': 2, '별도': 2, '인기': 2, '아예': 2, '개설': 2, '도살': 2, '배우자': 2, '청원': 2, '만요': 2, '낙후': 2, '분권': 2, '소관': 2, '이기': 2, '조건': 2, '선수': 2, '도당': 2, '온라인': 2, '활성화': 2, '보장': 2, '구현': 2, '사랑': 2, '응답': 2, '권리': 2, '착각': 2, '하여튼': 2, '홀로': 2, '서기': 2, '절윤': 2, '담보': 2, '김태현': 2, '선정': 2, '복수': 2, '유전': 2, '완료': 2, '이외': 2, '회부': 2, '진전': 2, '전향': 2, '특수': 2, '머리': 2, '대권': 2, '알맹이': 2, '이명박': 2, '처분': 2, '파견': 2, '노컷뉴스': 2, '세상': 2, '지연': 2, '미리': 2, '평택': 2, '도착': 2, '대의': 2, '확충': 2, '세종': 2, '작년': 2, '공급': 2, '추락': 2, '카메라': 2, '물체': 2, '목격자': 2, '서점': 2, '베스트셀러': 2, '분야': 2, '구매': 2, '인증': 2, '성향': 2, '일주일': 2, '호응': 2, '수임료': 2, '억만원': 2, '현금': 2, '감소': 2, '기탁금': 2, '걱정': 2, '아버지': 2, '조정훈': 2, '부가': 2, '강원': 2, '보이지': 2, '관여': 2, '코미디': 2, '공연장': 2, '사하구': 2, '미술관': 2, '이동': 2, '주요': 2, '산업': 2, '은행': 2, '수도권': 2, '리얼미터': 2, '소말리아': 2, '용산구': 2, '구토': 2, '약도': 2, '연일': 2, '당황': 2, '모양새': 2, '불만': 2, '고도': 2, '단추': 2, '대면': 2, '명령': 2, '대학병원': 2, '교육부': 2, '세브란스병원': 2, '접촉': 2, '연습': 2, '윤수': 2, '여랑': 2, '신경': 2, '역주행': 2, '선전포고': 2, '정읍시': 2, '일출': 2, '국방': 2, '신범철': 2, '이종섭': 2, '조태용': 2, '요조': 2, '비서': 2, '상윤': 2, '잡고': 1, '안고': 1, '연인': 1, '방불': 1, '가운': 1, '나달': 1, '진영': 1, '플레이': 1, '세력': 1, '민족': 1, '촉나라': 1, '귀화': 1, '재상': 1, '톡톡': 1, '반한': 1, '정식': 1, '당정관': 1, '장인': 1, '러닝': 1, '메이트': 1, '장동혁': 1, '관록': 1, '소환': 1, '독일': 1, '프랑스': 1, '직업': 1, '삼은': 1, '백혜련': 1, '기본': 1, '단순': 1, '소아': 1, '청소년': 1, '비속어': 1, '소란': 1, '눈살': 1, '고압': 1, '김경준': 1, '문혁': 1, '반경': 1, '중장': 1, '모종': 1, '차고': 1, '자취': 1, '선전': 1, '군중': 1, '경기장': 1, '근로자': 1, '학생': 1, '여명': 1, '원수': 1, '불꽃': 1, '튕긴다': 1, '절대로': 1, '행성': 1, '화근': 1, '기상': 1, '청서': 1, '친분': 1, '쟁탈전': 1, '호불호': 1, '산격': 1, '청사': 1, '회의실': 1, '민선': 1, '산격청사': 1, '기념': 1, '색인': 1, '점퍼': 1, '곧장': 1, '용납': 1, '대다수': 1, '회동': 1, '인색': 1, '연결': 1, '하니': 1, '보리': 1, '분리': 1, '사부': 1, '관건': 1, '원상': 1, '복구': 1, '노리': 1, '선봉': 1, '자처': 1, '엄포': 1, '내달': 1, '초로': 1, '절차법': 1, '삭제': 1, '축의': 1, '법성': 1, '송치': 1, '속칭': 1, '캐비닛': 1, '편의': 1, '주의': 1, '선정절차': 1, '구체화': 1, '작동': 1, '지위': 1, '결론': 1, '재량': 1, '직책': 1, '국무회의': 1, '개헌': 1, '정해': 1, '통한': 1, '기능': 1, '청구권': 1, '강제': 1, '청구': 1, '감시': 1, '분할': 1, '방편': 1, '방향성': 1, '자당': 1, '기소권': 1, '본부장': 1, '더욱이': 1, '거대': 1, '힘겨루기': 1, '강행': 1, '개시': 1, '경제범죄': 1, '법질서': 1, '저해': 1, '개별': 1, '덜박': 1, '희망': 1, '이직': 1, '인권': 1, '옹호': 1, '재건축': 1, '회견': 1, '완박': 1, '방금': 1, '영수회담': 1, '양평': 1, '고속도로': 1, '감옥': 1, '소야': 1, '등판': 1, '권유': 1, '레드': 1, '복안': 1, '적도': 1, '니눴습': 1, '가능': 1, '강점': 1, '수장': 1, '파업': 1, '질책': 1, '고성': 1, '솜방망이': 1, '정상화': 1, '정기': 1, '홍승택': 1, '배시': 1, '무게': 1, '목격': 1, '이례': 1, '육안': 1, '예의': 1, '시해': 1, '하나로': 1, '인천공항': 1, '운행': 1, '물질': 1, '내용물': 1, '양말': 1, '옷감': 1, '장갑': 1, '퇴비': 1, '기생충': 1, '실태': 1, '김씨': 1, '일가': 1, '우상화': 1, '문건': 1, '중범죄': 1, '어가': 1, '상실': 1, '문의': 1, '카톡': 1, '라인': 1, '검도': 1, '손질': 1, '빼기': 1, '겨눠': 1, '포문': 1, '진술': 1, '회유': 1, '척결': 1, '부남': 1, '군사정권': 1, '그대로': 1, '사가': 1, '정화': 1, '자격': 1, '남편': 1, '서초구': 1, '전경': 1, '행정안전부': 1, '국가수': 1, '부처': 1, '고등': 1, '건축학': 1, '건물': 1, '구조도': 1, '임관': 1, '김형': 1, '특보': 1, '본봉': 1, '상당': 1, '지급': 1, '경력': 1, '법관': 1, '폐기': 1, '공수': 1, '처가': 1, '도일': 1, '리자': 1, '과학기술': 1, '희림': 1, '둘이서': 1, '행정소송': 1, '본안': 1, '부담': 1, '표정': 1, '모니터': 1, '아래': 1, '짐작': 1, '최민희': 1, '감정': 1, '모욕': 1, '단상': 1, '요원': 1, '가처분': 1, '방송사': 1, '연전': 1, '연승': 1, '허위': 1, '무상': 1, '누설': 1, '고발장': 1, '접수': 1, '민의원': 1, '소셜': 1, '네트워크': 1, '김동연': 1, '도지사': 1, '방북': 1, '대납': 1, '합작': 1, '게시': 1, '아시아': 1, '태평양': 1, '열람': 1, '전해철': 1, '입하': 1, '비명': 1, '악용': 1, '행정감사': 1, '일관': 1, '견지': 1, '정보공개': 1, '듯이': 1, '공장': 1, '화재': 1, '사회과학': 1, '공전': 1, '역술': 1, '음모론': 1, '안건': 1, '포럼': 1, '년도': 1, '주먹': 1, '주식': 1, '다그': 1, '제로': 1, '채택': 1, '다발': 1, '경전': 1, '간의': 1, '으름장': 1, '놨습니': 1, '도리어': 1, '실례': 1, '칭찬': 1, '클립': 1, '앙금': 1, '끼리': 1, '건데': 1, '온건': 1, '밀착': 1, '트럼프': 1, '사고방식': 1, '주저': 1, '한원': 1, '잠수함': 1, '자고': 1, '철수': 1, '치하': 1, '명실': 1, '상부': 1, '핵보유국': 1, '공조': 1, '안정': 1, '한계': 1, '핵물질': 1, '국제사회': 1, '자평': 1, '말로': 1, '양국': 1, '밀고': 1, '스탈린': 1, '남침': 1, '처럼': 1, '푸틴': 1, '무얼': 1, '서울시장': 1, '강연': 1, '소형': 1, '경량': 1, '종국': 1, '나토': 1, '배치도': 1, '고도화': 1, '뿜으': 1, '회귀': 1, '미공군': 1, '모의': 1, '전투력': 1, '민감': 1, '타깃': 1, '관할': 1, '포성': 1, '자극': 1, '무진': 1, '대학원': 1, '억지': 1, '트집': 1, '연례': 1, '포격했다': 1, '유엔군': 1, '정전': 1, '준수': 1, '항행': 1, '경보': 1, '발령': 1, '모자라': 1, '항법': 1, '전파': 1, '선제': 1, '실험': 1, '주도': 1, '주지': 1, '중러': 1, '이지스': 1, '구축함': 1, '남구': 1, '해군작전사령부': 1, '출항': 1, '신중하': 1, '단호': 1, '항상': 1, '강도': 1, '점차': 1, '뭉치': 1, '김여정': 1, '노동당': 1, '담화': 1, '긴장감': 1, '육군': 1, '전방': 1, '안정식': 1, '형태': 1, '미련': 1, '발발': 1, '대규모': 1, '반미투쟁': 1, '정성훈': 1, '일제': 1, '유선': 1, '거짓말쟁이': 1, '팻말': 1, '답니': 1, '인지도': 1, '계좌': 1, '연루': 1, '징역형': 1, '집행유예': 1, '블랙펄': 1, '인베스트먼트': 1, '매개': 1, '저장': 1, '무근': 1, '지난주': 1, '거짓말': 1, '듣기': 1, '내내': 1, '아람': 1, '바로가기': 1, '소식': 1, '비유': 1, '점령': 1, '패배': 1, '가관': 1, '숨기': 1, '패싱': 1, '윤곽': 1, '라웅': 1, '국립': 1, '직속': 1, '주재': 1, '우울': 1, '조기': 1, '투자': 1, '응급의료': 1, '개소': 1, '검진': 1, '자살': 1, '상담': 1, '시설': 1, '매년': 1, '주거': 1, '치료': 1, '회복': 1, '이보': 1, '화약고': 1, '타개': 1, '주민': 1, '가중': 1, '남북정상회담': 1, '잠정': 1, '지상': 1, '중지': 1, '정찰위성': 1, '만리': 1, '경호': 1, '운반': 1, '천리마': 1, '항의': 1, '국방성': 1, '성명': 1, '파기': 1, '민간': 1, '군인': 1, '미가': 1, '일례': 1, '해안포': 1, '방사포': 1, '곳곳': 1, '인명': 1, '국무위원': 1, '수리': 1, '개념': 1, '요인': 1, '시비': 1, '주권': 1, '간주': 1, '단언': 1, '일치': 1, '자의': 1, '우도': 1, '유엔': 1, '비무장지대': 1, '인접': 1, '허가': 1, '국장': 1, '작성': 1, '연안': 1, '제목': 1, '문서': 1, '전문': 1, '법적': 1, '취약성': 1, '분계선': 1, '좌우': 1, '마일': 1, '항만': 1, '허용': 1, '해역': 1, '육지': 1, '년대': 1, '장성': 1, '회담': 1, '김정일': 1, '국방위원장': 1, '지정': 1, '시범': 1, '고조': 1, '그림': 1, '파란색': 1, '실선': 1, '참여연대': 1, '동체': 1, '발동기': 1, '믿음성': 1, '정박': 1, '무기': 1, '프로그램': 1, '방만': 1, '불투명': 1, '맹공': 1, '잘잘못': 1, '실행': 1, '항간': 1, '화의': 1, '건강': 1, '보험': 1, '심사평가원': 1, '집착': 1, '간호사': 1, '마구잡이': 1, '숙의': 1, '졸속': 1, '독촉': 1, '언성': 1, '취소소송': 1, '각하': 1, '고등법원': 1, '문구': 1, '미애': 1, '고함': 1, '사실관계': 1, '개혁당': 1, '서명': 1, '책무': 1, '이예': 1, '강구': 1, '남제': 1, '언쟁': 1, '구독': 1, '실리': 1, '수용': 1, '미지수': 1, '우상호': 1, '로직': 1, '실기': 1, '유력': 1, '측근': 1, '재석': 1, '전원': 1, '명분': 1, '임시회': 1, '재발': 1, '동력': 1, '한민수': 1, '사견': 1, '전제': 1, '찬반': 1, '수정': 1, '협조': 1, '김주형': 1, '유미': 1, '채원': 1, '조사상': 1, '선두': 1, '시나리오': 1, '캠페인': 1, '그었다': 1, '가게': 1, '배제': 1, '중첩': 1, '도래': 1, '파전': 1, '과반': 1, '득표': 1, '감치': 1, '실망': 1, '자칫': 1, '프레임': 1, '경쟁력': 1, '활용': 1, '풍문': 1, '시종일관': 1, '방관': 1, '시민사회': 1, '견해': 1, '축소': 1, '강변': 1, '감원': 1, '논리': 1, '성씨': 1, '오씨': 1, '육씨': 1, '웃음소리': 1, '오죽': 1, '증폭': 1, '혼란': 1, '논문': 1, '참고': 1, '시한': 1, '달이': 1, '당부': 1, '이용': 1, '입지': 1, '지대': 1, '시름': 1, '구제': 1, '시정': 1, '당직': 1, '미래세': 1, '오찬': 1, '취향': 1, '참석자': 1, '스타크래프트': 1, '에이지': 1, '오브': 1, '엠파이어': 1, '병력': 1, '오랑캐': 1, '원정': 1, '복종': 1, '칠종칠금': 1, '손권': 1, '장수': 1, '기득권': 1, '군주': 1, '천하': 1, '통일': 1, '다한': 1, '변방': 1, '워낙': 1, '불가피': 1, '국힘': 1, '가도': 1, '막장': 1, '드라마': 1, '패장': 1, '막론': 1, '연하': 1, '사상': 1, '초유': 1, '고지': 1, '반기': 1, '시오': 1, '안녕하십니까': 1, '수순': 1, '크게': 1, '단합': 1, '총괄': 1, '지지도': 1, '직선제': 1, '전대협': 1, '의장': 1, '운동권': 1, '맏형': 1, '통일부': 1, '친문': 1, '손색': 1, '자연': 1, '후반기': 1, '입법권': 1, '처지': 1, '민의': 1, '심기': 1, '전해': 1, '고삐': 1, '취지': 1, '단결': 1, '돌파': 1, '이해식': 1, '준위': 1, '이건': 1, '조롱': 1, '고집': 1, '상대로': 1, '강요': 1, '눈치': 1, '이중': 1, '스탠스': 1, '바깥': 1, '대체로': 1, '김기현': 1, '밀당': 1, '내막': 1, '등록': 1, '근본': 1, '내지': 1, '사육': 1, '유통': 1, '종식': 1, '거가': 1, '정무': 1, '정국': 1, '혼탁': 1, '듭니': 1, '세지': 1, '방문자': 1, '수의': 1, '실정': 1, '깨알': 1, '영부인': 1, '중책': 1, '각오': 1, '영광': 1, '몰리': 1, '자치': 1, '실천': 1, '혼신': 1, '계류': 1, '금주': 1, '요약': 1, '지수': 1, '불명': 1, '심화': 1, '특구랄까': 1, '전남도': 1, '후임': 1, '대개': 1, '김원': 1, '김영배': 1, '옛날': 1, '금은': 1, '빈대': 1, '초가삼간': 1, '태운': 1, '격이': 1, '일선': 1, '사당': 1, '손발': 1, '팬덤': 1, '지방자치': 1, '오프라인': 1, '절박': 1, '개딸': 1, '중화가': 1, '디지털': 1, '현상': 1, '계기': 1, '모수': 1, '여지': 1, '민주주의': 1, '파워': 1, '다해': 1, '케네디': 1, '주기': 1, '바라지': 1, '해도': 1, '매달': 1, '당비': 1, '정치가': 1, '호의': 1, '마무리': 1, '보답': 1, '나주': 1, '여수': 1, '자주': 1, '다음카카오': 1, '포털': 1, '치면': 1, '콘텐츠': 1, '대용': 1, '표준': 1, '요동': 1, '실현': 1, '심판': 1, '래서': 1, '안과': 1, '통상': 1, '조항': 1, '일간': 1, '만료': 1, '승인': 1, '대하': 1, '알권리': 1, '외형': 1, '서서': 1, '이브': 1, '전선': 1, '흐트리려': 1, '자충수': 1, '절대': 1, '외향': 1, '저런': 1, '여러가지': 1, '고려': 1, '목도': 1, '과실치사': 1, '격앙': 1, '박성민': 1, '컨설턴트': 1, '느낌': 1, '대척점': 1, '작정': 1, '범의': 1, '항소심': 1, '임박': 1, '대부분': 1, '법리': 1, '감찰관': 1, '투명': 1, '재고': 1, '부속': 1, '강력': 1, '일지': 1, '고검': 1, '중견': 1, '외화': 1, '내빈': 1, '유튜버': 1, '서정욱': 1, '워딩': 1, '사할린': 1, '월간': 1, '사법': 1, '종료': 1, '혈세': 1, '당선인': 1, '무혐의': 1, '면죄부': 1, '다스': 1, '소유': 1, '디도스': 1, '발자국': 1, '혹평': 1, '디테': 1, '가늠': 1, '중립': 1, '농단': 1, '드루': 1, '결과물': 1, '도출': 1, '간과': 1, '사법부': 1, '정쟁': 1, '비리': 1, '부당': 1, '사고': 1, '미담': 1, '얘깃': 1, '사이트': 1, '이륙': 1, '적의': 1, '원점': 1, '제거': 1, '적기': 1, '일환': 1, '청주': 1, '충주': 1, '조성': 1, '박영주': 1, '심각': 1, '전병': 1, '과장': 1, '폭력': 1, '촉발': 1, '국감': 1, '입학': 1, '계산': 1, '의사결정': 1, '년임': 1, '위로': 1, '순간': 1, '남아': 1, '그냥': 1, '함경북도': 1, '앞바다': 1, '양욱': 1, '아산': 1, '동시': 1, '추구': 1, '제원': 1, '이주호': 1, '유승희': 1, '최민지': 1, '시청자': 1, '적하': 1, '페이스북': 1, '장석': 1, '막무가내': 1, '퇴장': 1, '코너': 1, '계단': 1, '오른': 1, '팬카페': 1, '마을': 1, '진보': 1, '녹록': 1, '원금': 1, '인세': 1, '신고': 1, '증가': 1, '예금': 1, '억원': 1, '아파트': 1, '보증금': 1, '제외': 1, '내야': 1, '천지': 1, '대한민국': 1, '로펌': 1, '전락': 1, '대장동': 1, '교주': 1, '이미지': 1, '바탕': 1, '과오': 1, '완성': 1, '한잔': 1, '이상민': 1, '시그널': 1, '일상생활': 1, '내비': 1, '완장': 1, '일제시대': 1, '덕담': 1, '오라': 1, '분만': 1, '대국민': 1, '장면': 1, '슬라이드': 1, '아동': 1, '입원': 1, '명단': 1, '폭격기': 1, '어조': 1, '선점': 1, '정종': 1, '직전': 1, '마산': 1, '합포': 1, '글로벌': 1, '허브': 1, '도시': 1, '의제': 1, '균형발전': 1, '당일': 1, '당협': 1, '동하': 1, '텃밭': 1, '타진': 1, '격인': 1, '경선': 1, '충청': 1, '충북': 1, '충남': 1, '광주': 1, '전북': 1, '순회': 1, '지자체': 1, '장점': 1, '조사': 1, '우군': 1, '에너지': 1, '신문': 1, '유권자': 1, '신뢰수준': 1, '표본': 1, '오차': 1, '포인트': 1, '자동': 1, '참조': 1, '인종차별': 1, '대표자': 1, '파장': 1, '이심': 1, '상치': 1, '불발': 1, '불협화음': 1, '피로': 1, '임안': 1, '상정': 1, '무난': 1, '시사저널': 1, '종합': 1, '거치': 1, '깜짝': 1, '이동욱': 1, '장기판': 1, '황규석': 1, '서울시': 1, '다현': 1, '결속': 1, '추산': 1, '진율': 1, '절반': 1, '테이블': 1, '손해': 1, '학교': 1, '소수': 1, '성적': 1, '원외': 1, '장악': 1, '후퇴': 1, '전철': 1, '의과대학': 1, '사직서': 1, '긴급': 1, '총회': 1, '격화': 1, '득표율': 1, '저변': 1, '봉합': 1, '대감': 1, '파면': 1, '특유': 1, '날선': 1, '갈수록': 1, '설득': 1, '과실': 1, '졸업생': 1, '거나': 1, '교도소': 1, '무릅쓸': 1, '정제': 1, '화해': 1, '대중': 1, '전달': 1, '명망': 1, '욕심': 1, '실무': 1, '수렴': 1, '초기': 1, '확률': 1, '분열': 1, '김계환': 1, '주둔': 1, '마지막': 1, '성격': 1, '육상': 1, '내뿜': 1, '공감': 1, '불통': 1, '마주': 1, '간극': 1, '뒷받침': 1, '고스': 1, '쟁점들': 1, '명칭': 1, '이제껏': 1, '어려움': 1, '인지': 1, '나름': 1, '유화': 1, '조속': 1, '부실': 1, '방도': 1, '재현': 1, '안덕선': 1, '교육평가': 1, '충분': 1, '퇴보': 1, '수나': 1, '교육병원': 1, '상응': 1, '불합리': 1, '선행': 1, '신촌': 1, '보호자': 1, '발걸음': 1, '예측': 1, '정설': 1, '이어진': 1, '생명': 1, '장난': 1, '시내': 1, '의의': 1, '커뮤니티': 1, '항복': 1, '진심': 1, '후회': 1, '전문의': 1, '반수': 1, '현주소': 1, '화협': 1, '시일': 1, '진과': 1, '진척': 1, '박진규': 1, '핀잔': 1, '희화': 1, '기요': 1, '누구세요': 1, '개그콘서트': 1, '나이': 1, '회하': 1, '사흘': 1, '이동식': 1, '식별': 1, '박차': 1, '해군': 1, '을지': 1, '방패': 1, '가정': 1, '조약': 1, '동향': 1, '주시': 1, '형님': 1, '내일': 1, '의례': 1, '만도': 1, '작심': 1, '육성': 1, '무너': 1, '선출': 1, '그거': 1, '요홍': 1, '미남': 1, '셀카': 1, '은근': 1, '외모': 1, '서점가': 1, '아내': 1, '집밥': 1, '세운': 1, '요리실': 1, '장금': 1, '김장': 1, '지단': 1, '혜경': 1, '이요': 1, '인터넷': 1, '위고': 1, '품절': 1, '배송': 1, '주머니': 1, '형성': 1, '덕분': 1, '독려': 1, '릴레이': 1, '니요': 1, '이학수': 1, '공직선거법': 1, '보궐선거': 1, '생기': 1, '공언': 1, '황현': 1, '총장': 1, '선택': 1, '비례': 1, '지역구': 1, '윈윈하': 1, '결선투표제': 1, '교체': 1, '이지': 1, '전도': 1, '성안': 1, '겹치': 1, '김민정': 1, '편집': 1, '정새': 1, '연진': 1, '디자이너': 1, '권현정': 1, '의선': 1, '추적': 1, '여행': 1, '지그재그': 1, '우연': 1, '우연이': 1, '연소': 1, '문제점': 1, '곧바로': 1, '지원이': 1, '진호': 1, '동맹국': 1, '접근': 1, '초음': 1, '기세': 1, '주포': 1, '사거리': 1, '분당': 1, '황해도': 1, '장사정포': 1, '목구멍': 1, '허리': 1, '겨누': 1, '족쇄': 1, '실전': 1, '광환': 1, '백미': 1, '김주하': 1, '최규진': 1, '시간대': 1, '시가': 1, '횟수': 1, '실과': 1, '녹취': 1, '이신': 1, '국가정보원장': 1, '이첩': 1, '나중': 1, '부장': 1, '직통': 1, '허성': 1, '정수': 1, '복건': 1, '평행선': 1, '석비': 1, '서관': 1, '계환자': 1, '주체': 1, '닷새': 1, '정면': 1, '적정': 1, '통보': 1, '토로': 1, '수립': 1, '송구': 1})\n"
     ]
    }
   ],
   "source": [
    "# 키워드 데이터에서 불용어 제거\n",
    "remove_char_counter = Counter({x: remove_char_counter[x] for x in remove_char_counter if x not in stopwords})\n",
    "print(remove_char_counter)"
   ]
  },
  {
   "cell_type": "code",
   "execution_count": 20,
   "id": "d0c89a78-e782-4396-a403-c95ee20230dc",
   "metadata": {},
   "outputs": [
    {
     "data": {
      "image/jpeg": "[encoded data removed]",
      "text/plain": [
       "<IPython.core.display.Image object>"
      ]
     },
     "execution_count": 20,
     "metadata": {},
     "output_type": "execute_result"
    }
   ],
   "source": [
    "import random\n",
    "import pytagcloud\n",
    "import webbrowser\n",
    "\n",
    "# 가장 출현 빈도수가 높은 40개의 단어를 선정\n",
    "ranked_tags = remove_char_counter.most_common(40)\n",
    "\n",
    "# pytagcloud로 출력할 40개의 단어를 입력. 단어 출력의 최대 크기는 80으로 제한\n",
    "taglist = pytagcloud.make_tags(ranked_tags, maxsize=80)\n",
    "\n",
    "# pytagcloud 이미지 생성. 폰트는 나눔 고딕을 사용\n",
    "pytagcloud.create_tag_image(taglist, 'data/wordcloud.jpg', size=(1200, 600), fontname='NanumGothic', rectangular=False) # 직사각형이 아닌 원형으로 생성\n",
    "\n",
    "# 생성한 이미지를 주피터 노트북 상에서 출력\n",
    "from IPython.display import Image\n",
    "Image(filename='data/wordcloud.jpg')\n"
   ]
  },
  {
   "cell_type": "code",
   "execution_count": 14,
   "id": "bd4eaf19-7afb-415f-8bd4-76bc3c63bdb6",
   "metadata": {},
   "outputs": [
    {
     "data": {
      "text/plain": [
       "[{'color': (42, 54, 199), 'size': 102, 'tag': '의원'},\n",
       " {'color': (107, 40, 185), 'size': 67, 'tag': '국민'},\n",
       " {'color': (170, 209, 171), 'size': 63, 'tag': '민주당'},\n",
       " {'color': (73, 154, 96), 'size': 62, 'tag': '대표'},\n",
       " {'color': (19, 116, 142), 'size': 60, 'tag': '후보'},\n",
       " {'color': (91, 82, 62), 'size': 56, 'tag': '위원장'},\n",
       " {'color': (142, 48, 110), 'size': 56, 'tag': '북한'},\n",
       " {'color': (174, 53, 81), 'size': 56, 'tag': '국회'},\n",
       " {'color': (106, 154, 168), 'size': 55, 'tag': '의료'},\n",
       " {'color': (100, 153, 112), 'size': 50, 'tag': '정부'},\n",
       " {'color': (204, 142, 16), 'size': 48, 'tag': '훈련'},\n",
       " {'color': (31, 122, 168), 'size': 46, 'tag': '기자'},\n",
       " {'color': (76, 53, 34), 'size': 42, 'tag': '회장'},\n",
       " {'color': (47, 28, 22), 'size': 41, 'tag': '생각'},\n",
       " {'color': (69, 128, 19), 'size': 40, 'tag': '대통령'},\n",
       " {'color': (81, 53, 70), 'size': 40, 'tag': '앵커'},\n",
       " {'color': (216, 45, 50), 'size': 40, 'tag': '특검'},\n",
       " {'color': (78, 44, 136), 'size': 39, 'tag': '장관'},\n",
       " {'color': (116, 162, 23), 'size': 38, 'tag': '한동훈'},\n",
       " {'color': (167, 49, 72), 'size': 38, 'tag': '증원'}]"
      ]
     },
     "execution_count": 14,
     "metadata": {},
     "output_type": "execute_result"
    }
   ],
   "source": [
    "taglist"
   ]
  },
  {
   "cell_type": "code",
   "execution_count": 19,
   "id": "337ff648-5066-4b28-923c-5e79d08e5837",
   "metadata": {},
   "outputs": [
    {
     "data": {
      "text/plain": [
       "[('의원', 222),\n",
       " ('국민', 129),\n",
       " ('민주당', 119),\n",
       " ('대표', 116),\n",
       " ('후보', 112),\n",
       " ('국회', 103),\n",
       " ('위원장', 101),\n",
       " ('북한', 101),\n",
       " ('의료', 99),\n",
       " ('정부', 87),\n",
       " ('훈련', 83),\n",
       " ('기자', 78),\n",
       " ('회장', 71),\n",
       " ('생각', 67),\n",
       " ('대통령', 66),\n",
       " ('특검', 66),\n",
       " ('앵커', 65),\n",
       " ('장관', 63),\n",
       " ('증원', 62),\n",
       " ('한동훈', 61)]"
      ]
     },
     "execution_count": 19,
     "metadata": {},
     "output_type": "execute_result"
    }
   ],
   "source": [
    "ranked_tags"
   ]
  },
  {
   "cell_type": "code",
   "execution_count": 5,
   "id": "71f7a835-3fd1-43d8-b453-3ff3ea9bbab1",
   "metadata": {},
   "outputs": [
    {
     "ename": "TweepError",
     "evalue": "Twitter error response: status code = 403",
     "output_type": "error",
     "traceback": [
      "\u001b[1;31m---------------------------------------------------------------------------\u001b[0m",
      "\u001b[1;31mTweepError\u001b[0m                                Traceback (most recent call last)",
      "Cell \u001b[1;32mIn[5], line 22\u001b[0m\n\u001b[0;32m     20\u001b[0m keyword \u001b[38;5;241m=\u001b[39m \u001b[38;5;124m'\u001b[39m\u001b[38;5;124m손흥민\u001b[39m\u001b[38;5;124m'\u001b[39m\n\u001b[0;32m     21\u001b[0m tweets \u001b[38;5;241m=\u001b[39m tweepy\u001b[38;5;241m.\u001b[39mCursor(api\u001b[38;5;241m.\u001b[39msearch, q\u001b[38;5;241m=\u001b[39mkeyword)\u001b[38;5;241m.\u001b[39mitems(\u001b[38;5;241m10\u001b[39m)  \u001b[38;5;66;03m# 최대 10개의 트윗을 가져옴\u001b[39;00m\n\u001b[1;32m---> 22\u001b[0m \u001b[38;5;28;01mfor\u001b[39;00m tweet \u001b[38;5;129;01min\u001b[39;00m tweets:\n\u001b[0;32m     23\u001b[0m     \u001b[38;5;28mprint\u001b[39m(tweet\u001b[38;5;241m.\u001b[39mentities[\u001b[38;5;124m'\u001b[39m\u001b[38;5;124muser_mentions\u001b[39m\u001b[38;5;124m'\u001b[39m])\n\u001b[0;32m     24\u001b[0m     \u001b[38;5;28mprint\u001b[39m(tweet\u001b[38;5;241m.\u001b[39mentities[\u001b[38;5;124m'\u001b[39m\u001b[38;5;124mhashtags\u001b[39m\u001b[38;5;124m'\u001b[39m])\n",
      "File \u001b[1;32m~\\AppData\\Local\\Programs\\Python\\Python310\\lib\\site-packages\\tweepy\\cursor.py:51\u001b[0m, in \u001b[0;36mBaseIterator.__next__\u001b[1;34m(self)\u001b[0m\n\u001b[0;32m     50\u001b[0m \u001b[38;5;28;01mdef\u001b[39;00m \u001b[38;5;21m__next__\u001b[39m(\u001b[38;5;28mself\u001b[39m):\n\u001b[1;32m---> 51\u001b[0m     \u001b[38;5;28;01mreturn\u001b[39;00m \u001b[38;5;28;43mself\u001b[39;49m\u001b[38;5;241;43m.\u001b[39;49m\u001b[43mnext\u001b[49m\u001b[43m(\u001b[49m\u001b[43m)\u001b[49m\n",
      "File \u001b[1;32m~\\AppData\\Local\\Programs\\Python\\Python310\\lib\\site-packages\\tweepy\\cursor.py:243\u001b[0m, in \u001b[0;36mItemIterator.next\u001b[1;34m(self)\u001b[0m\n\u001b[0;32m    240\u001b[0m         \u001b[38;5;28;01mraise\u001b[39;00m \u001b[38;5;167;01mStopIteration\u001b[39;00m\n\u001b[0;32m    241\u001b[0m \u001b[38;5;28;01mif\u001b[39;00m \u001b[38;5;28mself\u001b[39m\u001b[38;5;241m.\u001b[39mcurrent_page \u001b[38;5;129;01mis\u001b[39;00m \u001b[38;5;28;01mNone\u001b[39;00m \u001b[38;5;129;01mor\u001b[39;00m \u001b[38;5;28mself\u001b[39m\u001b[38;5;241m.\u001b[39mpage_index \u001b[38;5;241m==\u001b[39m \u001b[38;5;28mlen\u001b[39m(\u001b[38;5;28mself\u001b[39m\u001b[38;5;241m.\u001b[39mcurrent_page) \u001b[38;5;241m-\u001b[39m \u001b[38;5;241m1\u001b[39m:\n\u001b[0;32m    242\u001b[0m     \u001b[38;5;66;03m# Reached end of current page, get the next page...\u001b[39;00m\n\u001b[1;32m--> 243\u001b[0m     \u001b[38;5;28mself\u001b[39m\u001b[38;5;241m.\u001b[39mcurrent_page \u001b[38;5;241m=\u001b[39m \u001b[38;5;28;43mself\u001b[39;49m\u001b[38;5;241;43m.\u001b[39;49m\u001b[43mpage_iterator\u001b[49m\u001b[38;5;241;43m.\u001b[39;49m\u001b[43mnext\u001b[49m\u001b[43m(\u001b[49m\u001b[43m)\u001b[49m\n\u001b[0;32m    244\u001b[0m     \u001b[38;5;28;01mwhile\u001b[39;00m \u001b[38;5;28mlen\u001b[39m(\u001b[38;5;28mself\u001b[39m\u001b[38;5;241m.\u001b[39mcurrent_page) \u001b[38;5;241m==\u001b[39m \u001b[38;5;241m0\u001b[39m:\n\u001b[0;32m    245\u001b[0m         \u001b[38;5;28mself\u001b[39m\u001b[38;5;241m.\u001b[39mcurrent_page \u001b[38;5;241m=\u001b[39m \u001b[38;5;28mself\u001b[39m\u001b[38;5;241m.\u001b[39mpage_iterator\u001b[38;5;241m.\u001b[39mnext()\n",
      "File \u001b[1;32m~\\AppData\\Local\\Programs\\Python\\Python310\\lib\\site-packages\\tweepy\\cursor.py:132\u001b[0m, in \u001b[0;36mIdIterator.next\u001b[1;34m(self)\u001b[0m\n\u001b[0;32m    129\u001b[0m     \u001b[38;5;28;01mraise\u001b[39;00m \u001b[38;5;167;01mStopIteration\u001b[39;00m\n\u001b[0;32m    131\u001b[0m \u001b[38;5;28;01mif\u001b[39;00m \u001b[38;5;28mself\u001b[39m\u001b[38;5;241m.\u001b[39mindex \u001b[38;5;241m>\u001b[39m\u001b[38;5;241m=\u001b[39m \u001b[38;5;28mlen\u001b[39m(\u001b[38;5;28mself\u001b[39m\u001b[38;5;241m.\u001b[39mresults) \u001b[38;5;241m-\u001b[39m \u001b[38;5;241m1\u001b[39m:\n\u001b[1;32m--> 132\u001b[0m     data \u001b[38;5;241m=\u001b[39m \u001b[38;5;28mself\u001b[39m\u001b[38;5;241m.\u001b[39mmethod(max_id\u001b[38;5;241m=\u001b[39m\u001b[38;5;28mself\u001b[39m\u001b[38;5;241m.\u001b[39mmax_id, parser\u001b[38;5;241m=\u001b[39mRawParser(), \u001b[38;5;241m*\u001b[39m\u001b[38;5;28mself\u001b[39m\u001b[38;5;241m.\u001b[39margs, \u001b[38;5;241m*\u001b[39m\u001b[38;5;241m*\u001b[39m\u001b[38;5;28mself\u001b[39m\u001b[38;5;241m.\u001b[39mkwargs)\n\u001b[0;32m    134\u001b[0m     \u001b[38;5;28;01mif\u001b[39;00m \u001b[38;5;28mhasattr\u001b[39m(\u001b[38;5;28mself\u001b[39m\u001b[38;5;241m.\u001b[39mmethod, \u001b[38;5;124m'\u001b[39m\u001b[38;5;124m__self__\u001b[39m\u001b[38;5;124m'\u001b[39m):\n\u001b[0;32m    135\u001b[0m         old_parser \u001b[38;5;241m=\u001b[39m \u001b[38;5;28mself\u001b[39m\u001b[38;5;241m.\u001b[39mmethod\u001b[38;5;241m.\u001b[39m\u001b[38;5;18m__self__\u001b[39m\u001b[38;5;241m.\u001b[39mparser\n",
      "File \u001b[1;32m~\\AppData\\Local\\Programs\\Python\\Python310\\lib\\site-packages\\tweepy\\binder.py:253\u001b[0m, in \u001b[0;36mbind_api.<locals>._call\u001b[1;34m(*args, **kwargs)\u001b[0m\n\u001b[0;32m    251\u001b[0m         \u001b[38;5;28;01mreturn\u001b[39;00m method\n\u001b[0;32m    252\u001b[0m     \u001b[38;5;28;01melse\u001b[39;00m:\n\u001b[1;32m--> 253\u001b[0m         \u001b[38;5;28;01mreturn\u001b[39;00m \u001b[43mmethod\u001b[49m\u001b[38;5;241;43m.\u001b[39;49m\u001b[43mexecute\u001b[49m\u001b[43m(\u001b[49m\u001b[43m)\u001b[49m\n\u001b[0;32m    254\u001b[0m \u001b[38;5;28;01mfinally\u001b[39;00m:\n\u001b[0;32m    255\u001b[0m     method\u001b[38;5;241m.\u001b[39msession\u001b[38;5;241m.\u001b[39mclose()\n",
      "File \u001b[1;32m~\\AppData\\Local\\Programs\\Python\\Python310\\lib\\site-packages\\tweepy\\binder.py:234\u001b[0m, in \u001b[0;36mbind_api.<locals>.APIMethod.execute\u001b[1;34m(self)\u001b[0m\n\u001b[0;32m    232\u001b[0m         \u001b[38;5;28;01mraise\u001b[39;00m RateLimitError(error_msg, resp)\n\u001b[0;32m    233\u001b[0m     \u001b[38;5;28;01melse\u001b[39;00m:\n\u001b[1;32m--> 234\u001b[0m         \u001b[38;5;28;01mraise\u001b[39;00m TweepError(error_msg, resp, api_code\u001b[38;5;241m=\u001b[39mapi_error_code)\n\u001b[0;32m    236\u001b[0m \u001b[38;5;66;03m# Parse the response payload\u001b[39;00m\n\u001b[0;32m    237\u001b[0m \u001b[38;5;28mself\u001b[39m\u001b[38;5;241m.\u001b[39mreturn_cursors \u001b[38;5;241m=\u001b[39m (\u001b[38;5;28mself\u001b[39m\u001b[38;5;241m.\u001b[39mreturn_cursors \u001b[38;5;129;01mor\u001b[39;00m\n\u001b[0;32m    238\u001b[0m                        \u001b[38;5;124m'\u001b[39m\u001b[38;5;124mcursor\u001b[39m\u001b[38;5;124m'\u001b[39m \u001b[38;5;129;01min\u001b[39;00m \u001b[38;5;28mself\u001b[39m\u001b[38;5;241m.\u001b[39msession\u001b[38;5;241m.\u001b[39mparams \u001b[38;5;129;01mor\u001b[39;00m \u001b[38;5;124m'\u001b[39m\u001b[38;5;124mnext\u001b[39m\u001b[38;5;124m'\u001b[39m \u001b[38;5;129;01min\u001b[39;00m \u001b[38;5;28mself\u001b[39m\u001b[38;5;241m.\u001b[39msession\u001b[38;5;241m.\u001b[39mparams)\n",
      "\u001b[1;31mTweepError\u001b[0m: Twitter error response: status code = 403"
     ]
    }
   ],
   "source": [
    "#파이썬 API사용하기\n",
    "import tweepy\n",
    "\n",
    "# 발급 완료된 KEY를 입력\n",
    "CONSUMER_KEY = \"Jd4nH8NFXXs0TlHAlTDK30WxQ\"\n",
    "CONSUMER_SECRET = \"KpQh2Dr0p3AzatSpF4htUspFRx0EzFEpCMJDLswLi0iZsrkQj5\"\n",
    "ACCESS_TOKEN_KEY = \"1790968485444739073-Ml4zMvJzTZUWyyxCnuh3Fz8i6Lfu3H\"\n",
    "ACCESS_TOKEN_SECRET = \"Rb3TMfT6rhKhsKc2C8uBNbJ7QgGHAtzcebFUIaY1lDPgQ\"\n",
    "\n",
    "# 개인정보 인증을 요청하는 Handler\n",
    "auth = tweepy.OAuthHandler(CONSUMER_KEY, CONSUMER_SECRET)\n",
    "\n",
    "# 인증 요청을 수행\n",
    "auth.set_access_token(ACCESS_TOKEN_KEY, ACCESS_TOKEN_SECRET)\n",
    "\n",
    "# twitter API를 사용하기 위한 준비\n",
    "api = tweepy.API(auth)\n",
    "\n",
    "# twitter API를 사용하여 '손흥민'이 포함된 트윗들을 크롤링한 뒤, entities에서 user_mentions, hashtags를 추출\n",
    "keyword = '손흥민'\n",
    "tweets = tweepy.Cursor(api.search, q=keyword).items(10)  # 최대 10개의 트윗을 가져옴\n",
    "for tweet in tweets:\n",
    "    print(tweet.entities['user_mentions'])\n",
    "    print(tweet.entities['hashtags'])\n",
    "    print(tweet.text)"
   ]
  },
  {
   "cell_type": "code",
   "execution_count": null,
   "id": "a52c95c6-7688-45b0-816e-63534f40fc28",
   "metadata": {},
   "outputs": [],
   "source": []
  }
 ],
 "metadata": {
  "kernelspec": {
   "display_name": "Python 3 (ipykernel)",
   "language": "python",
   "name": "python3"
  },
  "language_info": {
   "codemirror_mode": {
    "name": "ipython",
    "version": 3
   },
   "file_extension": ".py",
   "mimetype": "text/x-python",
   "name": "python",
   "nbconvert_exporter": "python",
   "pygments_lexer": "ipython3",
   "version": "3.10.6"
  }
 },
 "nbformat": 4,
 "nbformat_minor": 5
}
